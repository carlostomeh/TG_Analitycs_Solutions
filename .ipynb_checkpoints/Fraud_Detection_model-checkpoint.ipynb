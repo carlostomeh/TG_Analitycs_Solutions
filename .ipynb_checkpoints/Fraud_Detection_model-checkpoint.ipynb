{
 "cells": [
  {
   "cell_type": "markdown",
   "metadata": {
    "cell_id": "00000-cc9005b9-a240-4dbf-a522-197cc92ef693",
    "deepnote_cell_type": "markdown"
   },
   "source": [
    "# Fraud Detection\n",
    "\n",
    "**Dataset:**\n",
    "- https://www.kaggle.com/ntnu-testimon/banksim1/code?datasetId=1565&sortBy=voteCount\n",
    "\n",
    "\n",
    "**Índice:**\n",
    "\n",
    "1. [Import Packages](#1.0-Imports)\n",
    "2. [Exploratory Data Analysis](#2.0-EDA)\n",
    "3. [Data Processing](#3.0-Data-Processing)\n",
    "\n",
    "    * 3.1 [Funções Iniciais](#3.1-Funções-Iniciais)\n",
    "    * 3.2 [Pré Processamento](#3.2-Pré-Processamento)\n",
    "\n",
    "4. [Models](#4.0-Models)\n",
    "\n",
    "    * 4.1 [Regressão Logistica](#4.1-Regressão-Logistica)\n",
    "    * 4.2 [Decision Tree](#4.2-Decision-Tree)\n",
    "    * 4.3 [Random Forest](#4.3-Random-Forest)\n",
    "    * 4.4 [Naive Bayes](#4.4-Naive-Bayes)\n",
    "    * 4.5 [Suport Vector Machine](#4.4-Suport-Vector-Machine)\n",
    "\n",
    "5. [Results](#5.0-Results)"
   ]
  },
  {
   "cell_type": "markdown",
   "metadata": {
    "cell_id": "00001-00bf58cc-619c-4e29-b648-671b1a5713da",
    "deepnote_cell_type": "markdown"
   },
   "source": [
    "## 1.0 Imports\n",
    "\n",
    "\n",
    "Importando bibliotecas utilizadas."
   ]
  },
  {
   "cell_type": "code",
   "execution_count": null,
   "metadata": {
    "cell_id": "00002-d2050481-888b-4267-bad3-29ec9511fea4",
    "deepnote_cell_type": "code",
    "deepnote_to_be_reexecuted": false,
    "execution_millis": 2680,
    "execution_start": 1626378496054,
    "source_hash": "768e006e"
   },
   "outputs": [],
   "source": [
    "import pandas as pd\n",
    "import os\n",
    "from scipy import stats\n",
    "from scipy.stats import norm\n",
    "import seaborn as sns\n",
    "import numpy as np\n",
    "import matplotlib.pyplot as plt\n",
    "\n",
    "# Pre processamento\n",
    "from sklearn.base import BaseEstimator\n",
    "from sklearn.base import TransformerMixin\n",
    "from sklearn.model_selection import train_test_split\n",
    "from sklearn.preprocessing import StandardScaler\n",
    "from sklearn.model_selection import KFold\n",
    "from imblearn.over_sampling import SMOTE\n",
    "\n",
    "# Modelagem e escolha de parametros\n",
    "from sklearn.linear_model import LogisticRegression\n",
    "from sklearn.tree import DecisionTreeClassifier\n",
    "from sklearn.ensemble import RandomForestClassifier\n",
    "from sklearn.naive_bayes import GaussianNB\n",
    "from sklearn.svm import SVC\n",
    "\n",
    "# Métricas\n",
    "from sklearn.metrics import precision_score\n",
    "from sklearn.metrics import accuracy_score\n",
    "from sklearn.metrics import recall_score\n",
    "from sklearn.metrics import f1_score\n",
    "from sklearn.metrics import precision_score\n",
    "from sklearn.metrics import confusion_matrix\n",
    "from sklearn.metrics import roc_curve\n",
    "from sklearn.metrics import auc\n",
    "from sklearn.metrics import plot_confusion_matrix\n",
    "\n",
    "%matplotlib inline\n",
    "\n",
    "import warnings\n",
    "warnings.filterwarnings('ignore')"
   ]
  },
  {
   "cell_type": "code",
   "execution_count": null,
   "metadata": {
    "cell_id": "00003-3444acd1-8616-44b0-82cb-694d2fda1486",
    "deepnote_cell_type": "code",
    "deepnote_to_be_reexecuted": false,
    "execution_millis": 1037,
    "execution_start": 1626378498741,
    "source_hash": "492e3c65"
   },
   "outputs": [
    {
     "data": {
      "application/vnd.deepnote.dataframe.v2+json": {
       "column_count": 10,
       "columns": [
        {
         "dtype": "int64",
         "name": "step",
         "stats": {
          "histogram": [
           {
            "bin_end": -0.4,
            "bin_start": -0.5,
            "count": 0
           },
           {
            "bin_end": -0.3,
            "bin_start": -0.4,
            "count": 0
           },
           {
            "bin_end": -0.19999999999999996,
            "bin_start": -0.3,
            "count": 0
           },
           {
            "bin_end": -0.09999999999999998,
            "bin_start": -0.19999999999999996,
            "count": 0
           },
           {
            "bin_end": 0,
            "bin_start": -0.09999999999999998,
            "count": 0
           },
           {
            "bin_end": 0.10000000000000009,
            "bin_start": 0,
            "count": 5
           },
           {
            "bin_end": 0.20000000000000007,
            "bin_start": 0.10000000000000009,
            "count": 0
           },
           {
            "bin_end": 0.30000000000000004,
            "bin_start": 0.20000000000000007,
            "count": 0
           },
           {
            "bin_end": 0.4,
            "bin_start": 0.30000000000000004,
            "count": 0
           },
           {
            "bin_end": 0.5,
            "bin_start": 0.4,
            "count": 0
           }
          ],
          "max": "0",
          "min": "0",
          "nan_count": 0,
          "unique_count": 1
         }
        },
        {
         "dtype": "object",
         "name": "customer",
         "stats": {
          "categories": [
           {
            "count": 1,
            "name": "'C1093826151'"
           },
           {
            "count": 1,
            "name": "'C352968107'"
           },
           {
            "count": 3,
            "name": "3 others"
           }
          ],
          "nan_count": 0,
          "unique_count": 5
         }
        },
        {
         "dtype": "object",
         "name": "age",
         "stats": {
          "categories": [
           {
            "count": 2,
            "name": "'4'"
           },
           {
            "count": 1,
            "name": "'2'"
           },
           {
            "count": 2,
            "name": "2 others"
           }
          ],
          "nan_count": 0,
          "unique_count": 4
         }
        },
        {
         "dtype": "object",
         "name": "gender",
         "stats": {
          "categories": [
           {
            "count": 4,
            "name": "'M'"
           },
           {
            "count": 1,
            "name": "'F'"
           }
          ],
          "nan_count": 0,
          "unique_count": 2
         }
        },
        {
         "dtype": "object",
         "name": "zipcodeOri",
         "stats": {
          "categories": [
           {
            "count": 5,
            "name": "'28007'"
           }
          ],
          "nan_count": 0,
          "unique_count": 1
         }
        },
        {
         "dtype": "object",
         "name": "merchant",
         "stats": {
          "categories": [
           {
            "count": 4,
            "name": "'M348934600'"
           },
           {
            "count": 1,
            "name": "'M1823072687'"
           }
          ],
          "nan_count": 0,
          "unique_count": 2
         }
        },
        {
         "dtype": "object",
         "name": "zipMerchant",
         "stats": {
          "categories": [
           {
            "count": 5,
            "name": "'28007'"
           }
          ],
          "nan_count": 0,
          "unique_count": 1
         }
        },
        {
         "dtype": "object",
         "name": "category",
         "stats": {
          "categories": [
           {
            "count": 5,
            "name": "'es_transportation'"
           }
          ],
          "nan_count": 0,
          "unique_count": 1
         }
        },
        {
         "dtype": "float64",
         "name": "amount",
         "stats": {
          "histogram": [
           {
            "bin_end": 8.063,
            "bin_start": 4.55,
            "count": 1
           },
           {
            "bin_end": 11.576,
            "bin_start": 8.063,
            "count": 0
           },
           {
            "bin_end": 15.089000000000002,
            "bin_start": 11.576,
            "count": 0
           },
           {
            "bin_end": 18.602,
            "bin_start": 15.089000000000002,
            "count": 1
           },
           {
            "bin_end": 22.115000000000002,
            "bin_start": 18.602,
            "count": 0
           },
           {
            "bin_end": 25.628000000000004,
            "bin_start": 22.115000000000002,
            "count": 0
           },
           {
            "bin_end": 29.141000000000002,
            "bin_start": 25.628000000000004,
            "count": 1
           },
           {
            "bin_end": 32.654,
            "bin_start": 29.141000000000002,
            "count": 0
           },
           {
            "bin_end": 36.167,
            "bin_start": 32.654,
            "count": 1
           },
           {
            "bin_end": 39.68,
            "bin_start": 36.167,
            "count": 1
           }
          ],
          "max": "39.68",
          "min": "4.55",
          "nan_count": 0,
          "unique_count": 5
         }
        },
        {
         "dtype": "int64",
         "name": "fraud",
         "stats": {
          "histogram": [
           {
            "bin_end": -0.4,
            "bin_start": -0.5,
            "count": 0
           },
           {
            "bin_end": -0.3,
            "bin_start": -0.4,
            "count": 0
           },
           {
            "bin_end": -0.19999999999999996,
            "bin_start": -0.3,
            "count": 0
           },
           {
            "bin_end": -0.09999999999999998,
            "bin_start": -0.19999999999999996,
            "count": 0
           },
           {
            "bin_end": 0,
            "bin_start": -0.09999999999999998,
            "count": 0
           },
           {
            "bin_end": 0.10000000000000009,
            "bin_start": 0,
            "count": 5
           },
           {
            "bin_end": 0.20000000000000007,
            "bin_start": 0.10000000000000009,
            "count": 0
           },
           {
            "bin_end": 0.30000000000000004,
            "bin_start": 0.20000000000000007,
            "count": 0
           },
           {
            "bin_end": 0.4,
            "bin_start": 0.30000000000000004,
            "count": 0
           },
           {
            "bin_end": 0.5,
            "bin_start": 0.4,
            "count": 0
           }
          ],
          "max": "0",
          "min": "0",
          "nan_count": 0,
          "unique_count": 1
         }
        },
        {
         "dtype": "int64",
         "name": "_deepnote_index_column"
        }
       ],
       "row_count": 5,
       "rows_bottom": null,
       "rows_top": [
        {
         "_deepnote_index_column": 0,
         "age": "'4'",
         "amount": 4.55,
         "category": "'es_transportation'",
         "customer": "'C1093826151'",
         "fraud": 0,
         "gender": "'M'",
         "merchant": "'M348934600'",
         "step": 0,
         "zipMerchant": "'28007'",
         "zipcodeOri": "'28007'"
        },
        {
         "_deepnote_index_column": 1,
         "age": "'2'",
         "amount": 39.68,
         "category": "'es_transportation'",
         "customer": "'C352968107'",
         "fraud": 0,
         "gender": "'M'",
         "merchant": "'M348934600'",
         "step": 0,
         "zipMerchant": "'28007'",
         "zipcodeOri": "'28007'"
        },
        {
         "_deepnote_index_column": 2,
         "age": "'4'",
         "amount": 26.89,
         "category": "'es_transportation'",
         "customer": "'C2054744914'",
         "fraud": 0,
         "gender": "'F'",
         "merchant": "'M1823072687'",
         "step": 0,
         "zipMerchant": "'28007'",
         "zipcodeOri": "'28007'"
        },
        {
         "_deepnote_index_column": 3,
         "age": "'3'",
         "amount": 17.25,
         "category": "'es_transportation'",
         "customer": "'C1760612790'",
         "fraud": 0,
         "gender": "'M'",
         "merchant": "'M348934600'",
         "step": 0,
         "zipMerchant": "'28007'",
         "zipcodeOri": "'28007'"
        },
        {
         "_deepnote_index_column": 4,
         "age": "'5'",
         "amount": 35.72,
         "category": "'es_transportation'",
         "customer": "'C757503768'",
         "fraud": 0,
         "gender": "'M'",
         "merchant": "'M348934600'",
         "step": 0,
         "zipMerchant": "'28007'",
         "zipcodeOri": "'28007'"
        }
       ]
      },
      "text/html": [
       "<div>\n",
       "<style scoped>\n",
       "    .dataframe tbody tr th:only-of-type {\n",
       "        vertical-align: middle;\n",
       "    }\n",
       "\n",
       "    .dataframe tbody tr th {\n",
       "        vertical-align: top;\n",
       "    }\n",
       "\n",
       "    .dataframe thead th {\n",
       "        text-align: right;\n",
       "    }\n",
       "</style>\n",
       "<table border=\"1\" class=\"dataframe\">\n",
       "  <thead>\n",
       "    <tr style=\"text-align: right;\">\n",
       "      <th></th>\n",
       "      <th>step</th>\n",
       "      <th>customer</th>\n",
       "      <th>age</th>\n",
       "      <th>gender</th>\n",
       "      <th>zipcodeOri</th>\n",
       "      <th>merchant</th>\n",
       "      <th>zipMerchant</th>\n",
       "      <th>category</th>\n",
       "      <th>amount</th>\n",
       "      <th>fraud</th>\n",
       "    </tr>\n",
       "  </thead>\n",
       "  <tbody>\n",
       "    <tr>\n",
       "      <th>0</th>\n",
       "      <td>0</td>\n",
       "      <td>'C1093826151'</td>\n",
       "      <td>'4'</td>\n",
       "      <td>'M'</td>\n",
       "      <td>'28007'</td>\n",
       "      <td>'M348934600'</td>\n",
       "      <td>'28007'</td>\n",
       "      <td>'es_transportation'</td>\n",
       "      <td>4.55</td>\n",
       "      <td>0</td>\n",
       "    </tr>\n",
       "    <tr>\n",
       "      <th>1</th>\n",
       "      <td>0</td>\n",
       "      <td>'C352968107'</td>\n",
       "      <td>'2'</td>\n",
       "      <td>'M'</td>\n",
       "      <td>'28007'</td>\n",
       "      <td>'M348934600'</td>\n",
       "      <td>'28007'</td>\n",
       "      <td>'es_transportation'</td>\n",
       "      <td>39.68</td>\n",
       "      <td>0</td>\n",
       "    </tr>\n",
       "    <tr>\n",
       "      <th>2</th>\n",
       "      <td>0</td>\n",
       "      <td>'C2054744914'</td>\n",
       "      <td>'4'</td>\n",
       "      <td>'F'</td>\n",
       "      <td>'28007'</td>\n",
       "      <td>'M1823072687'</td>\n",
       "      <td>'28007'</td>\n",
       "      <td>'es_transportation'</td>\n",
       "      <td>26.89</td>\n",
       "      <td>0</td>\n",
       "    </tr>\n",
       "    <tr>\n",
       "      <th>3</th>\n",
       "      <td>0</td>\n",
       "      <td>'C1760612790'</td>\n",
       "      <td>'3'</td>\n",
       "      <td>'M'</td>\n",
       "      <td>'28007'</td>\n",
       "      <td>'M348934600'</td>\n",
       "      <td>'28007'</td>\n",
       "      <td>'es_transportation'</td>\n",
       "      <td>17.25</td>\n",
       "      <td>0</td>\n",
       "    </tr>\n",
       "    <tr>\n",
       "      <th>4</th>\n",
       "      <td>0</td>\n",
       "      <td>'C757503768'</td>\n",
       "      <td>'5'</td>\n",
       "      <td>'M'</td>\n",
       "      <td>'28007'</td>\n",
       "      <td>'M348934600'</td>\n",
       "      <td>'28007'</td>\n",
       "      <td>'es_transportation'</td>\n",
       "      <td>35.72</td>\n",
       "      <td>0</td>\n",
       "    </tr>\n",
       "  </tbody>\n",
       "</table>\n",
       "</div>"
      ],
      "text/plain": [
       "   step       customer  age gender zipcodeOri       merchant zipMerchant  \\\n",
       "0     0  'C1093826151'  '4'    'M'    '28007'   'M348934600'     '28007'   \n",
       "1     0   'C352968107'  '2'    'M'    '28007'   'M348934600'     '28007'   \n",
       "2     0  'C2054744914'  '4'    'F'    '28007'  'M1823072687'     '28007'   \n",
       "3     0  'C1760612790'  '3'    'M'    '28007'   'M348934600'     '28007'   \n",
       "4     0   'C757503768'  '5'    'M'    '28007'   'M348934600'     '28007'   \n",
       "\n",
       "              category  amount  fraud  \n",
       "0  'es_transportation'    4.55      0  \n",
       "1  'es_transportation'   39.68      0  \n",
       "2  'es_transportation'   26.89      0  \n",
       "3  'es_transportation'   17.25      0  \n",
       "4  'es_transportation'   35.72      0  "
      ]
     },
     "execution_count": 2,
     "metadata": {},
     "output_type": "execute_result"
    }
   ],
   "source": [
    "# Importando a base referente ás transações e caracteristicas do cliente\n",
    "path = 'datasets/credit_fraud_bs.csv'\n",
    "df = pd.read_csv(path)\n",
    "\n",
    "df.head()"
   ]
  },
  {
   "cell_type": "code",
   "execution_count": null,
   "metadata": {
    "cell_id": "00004-d42cf06d-e293-4d44-bc1a-14998d35617e",
    "deepnote_cell_type": "code",
    "deepnote_to_be_reexecuted": false,
    "execution_millis": 165,
    "execution_start": 1626378555121,
    "source_hash": "de1e323c"
   },
   "outputs": [
    {
     "name": "stdout",
     "output_type": "stream",
     "text": [
      "<class 'pandas.core.frame.DataFrame'>\n",
      "RangeIndex: 594643 entries, 0 to 594642\n",
      "Data columns (total 10 columns):\n",
      " #   Column       Non-Null Count   Dtype  \n",
      "---  ------       --------------   -----  \n",
      " 0   step         594643 non-null  int64  \n",
      " 1   customer     594643 non-null  object \n",
      " 2   age          594643 non-null  object \n",
      " 3   gender       594643 non-null  object \n",
      " 4   zipcodeOri   594643 non-null  object \n",
      " 5   merchant     594643 non-null  object \n",
      " 6   zipMerchant  594643 non-null  object \n",
      " 7   category     594643 non-null  object \n",
      " 8   amount       594643 non-null  float64\n",
      " 9   fraud        594643 non-null  int64  \n",
      "dtypes: float64(1), int64(2), object(7)\n",
      "memory usage: 45.4+ MB\n"
     ]
    }
   ],
   "source": [
    "df.info()"
   ]
  },
  {
   "cell_type": "markdown",
   "metadata": {
    "cell_id": "00005-b2f0d54f-21f5-48ed-9dc9-03c0c2babcb4",
    "deepnote_cell_type": "markdown"
   },
   "source": [
    "## 2.0 EDA - Metadados"
   ]
  },
  {
   "cell_type": "markdown",
   "metadata": {
    "cell_id": "00007-b14a6cd1-a440-488d-86ef-e70657fa388f",
    "deepnote_cell_type": "markdown"
   },
   "source": [
    "**Metadados**\n",
    "\n",
    "Para o problema de detecção de fraude será utilizado a base 'df_fraud' que possui 9 colunas com informações sobre transações de pagamento online. As colunas são:\n",
    "\n",
    "* **Step**: Essa coluna representa o dia da transação em relação ao número de dias passados. Nessa simulação temos 180 dias, contando virtualmente 6 meses.\n",
    "\n",
    "* **Customer**: Identificador unico de cliente (mais de 4000 clientes). Coluna do tipo int64. \n",
    "\n",
    "* **Age**: Idade categorizada em faixas, como segue:\n",
    "    * 0: <= 18, menor ou igual a 18 anos\n",
    "    * 1: 19-25, entre 19 e 25 anos\n",
    "    * 2: 26-35, entre 26 e 35 anos\n",
    "    * 3: 36-45, entre 36 e 45 anos\n",
    "    * 4: 46:55, entre 46 e 55 anos\n",
    "    * 5: 56:65, entre 56 e 65 anos\n",
    "    * 6: > 65 , mais de 65 anos\n",
    "    * U: Idade Desconhecida\n",
    "    \n",
    "* **Gender**: Gênero do cliente. O Grupo \"Desconhecido\" tem por volta de 170 clientes.\n",
    "\n",
    "     * E: Empresa,\n",
    "     * F: Feminino,\n",
    "     * M: Masculino,\n",
    "     * U: Desconhecido\n",
    "\n",
    "Os dois aributos a seguir foram removidos do dataset, já que eles possuem valor constante, pois possuímos o código postal de apenas um lugar.    \n",
    "* **zipCodeOrigin**: O zip code (código postal) de origem.\n",
    "\n",
    "* **zipMerchant**: O zip code (código postal) do estabelecimento.\n",
    "\n",
    "* **Merchant**: Identificador do estabelecimento. Temos 50 estabelecimentos nessa variável categórica.\n",
    "   \n",
    "* **Category**: Categoria da compra. Temos 15 categorias quanto ao tipo do produto comprado, como segue:\n",
    "\n",
    "    * 'es_barsandrestaurants' \n",
    "    * 'es_contents' \n",
    "    * 'es_fashion'              \n",
    "    * 'es_food'                  \n",
    "    * 'es_health'               \n",
    "    * 'es_home'                 \n",
    "    * 'es_hotelservices'        \n",
    "    * 'es_hyper'                 \n",
    "    * 'es_leisure'              \n",
    "    * 'es_otherservices'        \n",
    "    * 'es_sportsandtoys'        \n",
    "    * 'es_tech'                 \n",
    "    * 'es_transportation'       \n",
    "    * 'es_travel'  \n",
    "    * 'es_wellnessandbeauty' \n",
    "\n",
    "* **Amount**: Valor da compra. Neste campo temos apenas valores positivos (e 52 valores iguais a 0).\n",
    "\n",
    "* **Fraud**: Vaiável Target: 1 se a transação foi fraudulenta, ou 0 se a transação foi regular."
   ]
  },
  {
   "cell_type": "code",
   "execution_count": null,
   "metadata": {
    "cell_id": "00008-fd085d23-5437-42f9-ab4e-45360d08ca19",
    "deepnote_cell_type": "code",
    "deepnote_to_be_reexecuted": false,
    "execution_millis": 205,
    "execution_start": 1626378557016,
    "source_hash": "bdc74551"
   },
   "outputs": [
    {
     "name": "stdout",
     "output_type": "stream",
     "text": [
      "<class 'pandas.core.frame.DataFrame'>\n",
      "RangeIndex: 594643 entries, 0 to 594642\n",
      "Data columns (total 10 columns):\n",
      " #   Column       Non-Null Count   Dtype  \n",
      "---  ------       --------------   -----  \n",
      " 0   step         594643 non-null  int64  \n",
      " 1   customer     594643 non-null  object \n",
      " 2   age          594643 non-null  object \n",
      " 3   gender       594643 non-null  object \n",
      " 4   zipcodeOri   594643 non-null  object \n",
      " 5   merchant     594643 non-null  object \n",
      " 6   zipMerchant  594643 non-null  object \n",
      " 7   category     594643 non-null  object \n",
      " 8   amount       594643 non-null  float64\n",
      " 9   fraud        594643 non-null  int64  \n",
      "dtypes: float64(1), int64(2), object(7)\n",
      "memory usage: 45.4+ MB\n"
     ]
    }
   ],
   "source": [
    "df.info()\n",
    "#df.head()\n",
    "#df.describe()"
   ]
  },
  {
   "cell_type": "code",
   "execution_count": null,
   "metadata": {
    "cell_id": "00009-f1b6b4f2-8a6e-43d1-ac5c-60fe1a6bcd1e",
    "deepnote_cell_type": "code",
    "deepnote_to_be_reexecuted": false,
    "execution_millis": 12,
    "execution_start": 1626378557381,
    "source_hash": "9f6b5376"
   },
   "outputs": [
    {
     "name": "stdout",
     "output_type": "stream",
     "text": [
      "Este conjunto de dados possui  10  colunas e  594643  linhas. Dessas estão representados 4112 clientes.\n",
      "\n"
     ]
    }
   ],
   "source": [
    "print('Este conjunto de dados possui ', df.shape[1],' colunas e ', df.shape[0], ' linhas. Dessas estão representados', len(set(df.customer))\n",
    "          , 'clientes.\\n')"
   ]
  },
  {
   "cell_type": "markdown",
   "metadata": {
    "cell_id": "00043-7f6f5e66-0100-40dd-a79d-dd679f15abd4",
    "deepnote_cell_type": "markdown"
   },
   "source": [
    "## 3.0 Data Processing"
   ]
  },
  {
   "cell_type": "markdown",
   "metadata": {
    "cell_id": "00044-a4c9cc36-fb07-4ed9-85d9-15b236fb3f1b",
    "deepnote_cell_type": "markdown"
   },
   "source": [
    "- **Data Join**\n",
    "\n",
    "Durante o processo de descoberta dos dados contruimos  dataframes distintos de forma a tentar agrupar as informações e explorar esses novos conjunto de dados, são eles:  customer e merchant_group. Iremos trazer essas informações para o dataframe principal seguindo a seguinte lógica abaixo, lembrando que é importante aplicar essas funções nos dataframes já subdividos em treino e teste:\n",
    "\n",
    "    - Customer Data\n",
    "    \n",
    "    Iremos trazer ao dataframe principal algumas informações do histórico do cliente até a data da compra, as colunas que serão adicionadas dizem respeito à caracteristicas do cliente importantes para prever se a transação é ou não uma fraude. As colunas que serão adicionadas são: mean_transactions_costumer, fraud_count_costumer e percent_fraud_costumer.\n",
    "    \n",
    "    - Merchant Data\n",
    "    Iremos trazer ao dataframe principal algumas informações do histórico da loja até a data da compra. As colunas que serão adicionadas são: mean_transactions_merchant, fraud_count_merchant e percent_fraud_merchant.\n",
    "    \n",
    "  \n",
    "\n",
    "- **Limpeza dos dados**\n",
    "\n",
    "As principais açõies relevantes à essa base de dados são:\n",
    "\n",
    "        -Retira das colunas : zipcodeOri, zipMerchant, step e costumer\n",
    "\n",
    "- **Dados Categóricos**\n",
    "\n",
    "Temos na base principal de transações o total de 4 colunas categóricas que precisarão passar por um processo de transformação por colunas binarias. Vamos adicionar 8 colunas binarias para os grupos de idade, 4 colunas binarias para os grupos de genero, 50 colunas binarias para os grupos de lojas e, por fim, 15 colunas binarias para os grupos de category.\n",
    "\n",
    "\n",
    "\n",
    "- **Dados Númericos**\n",
    "\n",
    "Agora com todos os dados devidamente transformados em valores númericos podemos aplicar técnicas de padronização dos dados. Inicialmente a técnica escolhida foi o \"StandardScale\".\n",
    "\n",
    "\n",
    "- **Classes Desbalanceadas**\n",
    "\n",
    "Como neste exemplo temos muito mais observações de transações não fradulentas iremos criar um conjunto de dados sinteticos de forma a balancear as classes dentro do conjunto de dados e, assim, evitar overffiting no experimento."
   ]
  },
  {
   "cell_type": "markdown",
   "metadata": {
    "cell_id": "00013-dd1143e8-8fd6-4e64-850d-8405d87260cc",
    "deepnote_cell_type": "markdown",
    "tags": []
   },
   "source": [
    "### 3.1 Tratamento Inicial"
   ]
  },
  {
   "cell_type": "code",
   "execution_count": null,
   "metadata": {
    "cell_id": "00016-835125c3-6560-43b0-ab8f-9ce9b1c026d1",
    "deepnote_cell_type": "code",
    "deepnote_to_be_reexecuted": false,
    "execution_millis": 6022,
    "execution_start": 1626378563992,
    "source_hash": "94b179d5",
    "tags": []
   },
   "outputs": [
    {
     "name": "stdout",
     "output_type": "stream",
     "text": [
      "Fase de agrupamento de dados históricos concluida\n"
     ]
    }
   ],
   "source": [
    "############################################ Trazendo valores históricos\n",
    "########### Groupby costumer:\n",
    "# Agrupando valores sobre o comportamento de transações por cliente\n",
    "customer_grouped = df.groupby(['customer']).apply(lambda x: pd.Series(dict(\n",
    "                                                                mean_transactions_costumer   =  ((x.amount.mean())) \n",
    "                                                                ,fraud_count_costumer         =  ((x.fraud.sum()))\n",
    "                                                                ,percent_fraud_costumer       = ((x.fraud.sum()*100)/((x.amount.count())))\n",
    "                                                                ))).reset_index()\n",
    "# Juntando os dados\n",
    "df = pd.merge(df,customer_grouped, on=['customer'] , how = 'left')\n",
    "\n",
    "\n",
    "########### Groupby merchant:\n",
    "# Agrupando valores sobre caracteristicas de transação por loja\n",
    "merchant_group = df.groupby(['merchant']).\\\n",
    "                        apply(lambda x: pd.Series(dict(mean_transactions_merchant   =  ((x.amount.mean())) \n",
    "                                                        ,fraud_count_merchant        =  ((x.fraud.sum()))\n",
    "                                                        ,percent_fraud_merchant      =  ((x.fraud.sum()/x.fraud.count()*100))\n",
    "                                                        ))).reset_index()\n",
    "# Juntando os dados\n",
    "df = pd.merge(df,merchant_group, how = 'left', on=['merchant'] )\n",
    "\n",
    "print('Fase de agrupamento de dados históricos concluida')\n",
    "\n",
    "############################################ Limpando as informações do df principal\n",
    "\n",
    "# Retira as colunas que não vamos usar\n",
    "df  = df.drop(['zipcodeOri', 'zipMerchant', 'step' , 'customer', 'merchant'], axis=1)\n",
    "\n",
    "# Seleciona as colunas categoricas\n",
    "colunas_categoricas = list(df.select_dtypes('object').columns)\n",
    "\n",
    "# Cria um df\n",
    "temp = pd.get_dummies(df[colunas_categoricas])\n",
    "\n",
    "# Tira as colunas categoricas do df\n",
    "df = df.drop(colunas_categoricas, axis=1)\n",
    "\n",
    "# Atualiza o dataframe unindo as informações principais e os valores categoricos\n",
    "df = pd.merge(df, temp, how = 'left', left_index=True, right_index=True)"
   ]
  },
  {
   "cell_type": "code",
   "execution_count": null,
   "metadata": {
    "cell_id": "00013-0874d318-6a4f-43ae-a470-cce6067dff32",
    "deepnote_cell_type": "code",
    "deepnote_to_be_reexecuted": false,
    "execution_millis": 277,
    "execution_start": 1626378588121,
    "source_hash": "87e78c98",
    "tags": []
   },
   "outputs": [
    {
     "data": {
      "image/png": "[encoded data removed]",
      "text/plain": [
       "<Figure size 720x576 with 1 Axes>"
      ]
     },
     "metadata": {
      "image/png": {
       "height": 496,
       "width": 631
      },
      "needs_background": "light"
     },
     "output_type": "display_data"
    }
   ],
   "source": [
    "fig, axes = plt.subplots(figsize=(10, 8))\n",
    "\n",
    "sns.countplot(x=\"fraud\", data=df)\n",
    "\n",
    "plt.title('Quantidade de observações pela classe Alvo')\n",
    "plt.xlabel('Classe Alvo')\n",
    "plt.ylabel('Quantidade de Observações')\n",
    "plt.show()"
   ]
  },
  {
   "cell_type": "markdown",
   "metadata": {
    "cell_id": "00048-6e3f5d89-4713-47e8-866b-512167dad79d",
    "deepnote_cell_type": "markdown"
   },
   "source": [
    "### 3.2 Pré Processamento"
   ]
  },
  {
   "cell_type": "code",
   "execution_count": null,
   "metadata": {
    "cell_id": "00015-c1d5a9cf-016d-4dc7-8f80-fdba5198fa1b",
    "deepnote_cell_type": "code",
    "deepnote_to_be_reexecuted": false,
    "execution_millis": 710,
    "execution_start": 1626378629644,
    "source_hash": "ed206b44",
    "tags": []
   },
   "outputs": [],
   "source": [
    "# Dividindo a base de dados de entrada e o valor resposta referente a transação fraudulentea ou nao\n",
    "\n",
    "# Tira as coluna alvo\n",
    "X = df.drop('fraud', axis=1)\n",
    "y = df['fraud']\n",
    "\n",
    "# Cria o objeto do escalonador\n",
    "escalonador = StandardScaler()\n",
    "\n",
    "# Transforma os dados \n",
    "X = escalonador.fit_transform(X)"
   ]
  },
  {
   "cell_type": "code",
   "execution_count": null,
   "metadata": {
    "cell_id": "00017-d6ca065b-1216-44b9-bd5f-d27b83f13999",
    "deepnote_cell_type": "code",
    "deepnote_to_be_reexecuted": false,
    "execution_millis": 1665,
    "execution_start": 1626378631294,
    "source_hash": "d7c6bb41",
    "tags": []
   },
   "outputs": [],
   "source": [
    "################################################ Splitando a base\n",
    "# Divide em base de treino e teste\n",
    "X_treino, X_teste, y_treino, y_teste = train_test_split(X, y, random_state=42)\n",
    "\n",
    "\n",
    "################################################ Passando estratégia de oversampling\n",
    "\n",
    "# Define a estratégia de oversampling\n",
    "SMOTE = SMOTE()\n",
    "\n",
    "# treina e aplica a função Smote\n",
    "X_treino, y_treino = SMOTE.fit_resample(X_treino, y_treino)"
   ]
  },
  {
   "cell_type": "code",
   "execution_count": null,
   "metadata": {
    "cell_id": "00017-c59d7bd7-b7ff-4ef7-a609-4b751ccadb26",
    "deepnote_cell_type": "code",
    "deepnote_to_be_reexecuted": false,
    "execution_millis": 288,
    "execution_start": 1626378649126,
    "source_hash": "b595db87",
    "tags": []
   },
   "outputs": [
    {
     "data": {
      "image/png": "[encoded data removed]",
      "text/plain": [
       "<Figure size 720x576 with 1 Axes>"
      ]
     },
     "metadata": {
      "image/png": {
       "height": 496,
       "width": 631
      },
      "needs_background": "light"
     },
     "output_type": "display_data"
    }
   ],
   "source": [
    "fig, axes = plt.subplots(figsize=(10, 8))\n",
    "\n",
    "temp = pd.DataFrame(y_treino, columns = ['fraud'])\n",
    "sns.countplot(x=\"fraud\", data=temp)\n",
    "\n",
    "plt.title('Quantidade de observações pela classe Alvo')\n",
    "plt.xlabel('Classe Alvo')\n",
    "plt.ylabel('Quantidade de Observações')\n",
    "plt.show()"
   ]
  },
  {
   "cell_type": "markdown",
   "metadata": {
    "cell_id": "00050-5cb343f6-3854-42a5-a459-3cdab23c66a5",
    "deepnote_cell_type": "markdown"
   },
   "source": [
    "## 4.0 Models"
   ]
  },
  {
   "cell_type": "markdown",
   "metadata": {
    "cell_id": "00051-c420dfc1-83cc-4a30-add8-af38a34043a1",
    "deepnote_cell_type": "markdown"
   },
   "source": [
    "##### Função de avaliação dos Modelos"
   ]
  },
  {
   "cell_type": "code",
   "execution_count": null,
   "metadata": {
    "cell_id": "00052-fe849fc4-bd0e-44a6-8f8c-018b30575f9d",
    "deepnote_cell_type": "code",
    "deepnote_to_be_reexecuted": false,
    "execution_millis": 5,
    "execution_start": 1626012344261,
    "source_hash": "876530cd"
   },
   "outputs": [],
   "source": [
    "# Avaliação de modelos de classificação\n",
    "\n",
    "def resultados_classificacao(modelo, nome_do_modelo ):\n",
    "    y_pred = np.nan\n",
    "    y_pred = modelo.predict(X_teste)\n",
    "    y_pred_proba = modelo.predict_proba(X_teste)[:, 1]\n",
    "        \n",
    "    acuracia  =  accuracy_score(y_teste,y_pred)\n",
    "    f1        =  f1_score(y_teste, y_pred) \n",
    "    precisao  =  precision_score(y_teste, y_pred)\n",
    "    recall    =  recall_score(y_teste,y_pred)\n",
    "\n",
    "    print('Resultados:')\n",
    "    print('Acuracia                     : ', round(acuracia*100, 2) , '%'  )\n",
    "    print('F1 Score                     : ', round(f1*100, 2)        , '%'  )\n",
    "    print('Precisão (Precision)         : ', round(precisao*100, 2)  , '%' )\n",
    "    print('Recall                       : ', round(recall*100 , 2)   , '%'  )\n",
    "\n",
    "    fig, axes = plt.subplots(1, 2, figsize=(20, 8))\n",
    "\n",
    "    # Matriz de Confusão\n",
    "    disp = plot_confusion_matrix(modelo, X_teste, y_teste, cmap=plt.cm.Blues, ax = axes[0])\n",
    "\n",
    "    [fpr, tpr, thr] = roc_curve(y_teste, y_pred_proba)\n",
    "\n",
    "    idx = np.min(np.where(tpr > 0.95)) # index of the first threshold for which the sensibility > 0.95\n",
    "\n",
    "    axes[1].plot(fpr, tpr, color='coral', label='ROC curve (area = %0.3f)' % auc(fpr, tpr))\n",
    "    axes[1].plot([0, 1], [0, 1], 'k--')\n",
    "    axes[1].plot([0,fpr[idx]], [tpr[idx],tpr[idx]], 'k--', color='blue')\n",
    "    axes[1].plot([fpr[idx],fpr[idx]], [0,tpr[idx]], 'k--', color='blue')\n",
    "\n",
    "    axes[1].set_xlabel('False Positive Rate (1 - specificity)', fontsize=14)\n",
    "    axes[1].set_ylabel('True Positive Rate (recall)', fontsize=14)\n",
    "    axes[1].set_title('Receiver operating characteristic (ROC) curve')\n",
    "    axes[1].legend(loc=\"lower right\");\n"
   ]
  },
  {
   "cell_type": "markdown",
   "metadata": {
    "cell_id": "00027-9e47a210-ab4a-4042-ad8f-63dcfbb6ff67",
    "deepnote_cell_type": "markdown",
    "tags": []
   },
   "source": [
    "### 4.1 Regressão Logistica\n"
   ]
  },
  {
   "cell_type": "code",
   "execution_count": null,
   "metadata": {
    "cell_id": "00028-38c50382-2cde-4f46-b25e-779e4c45aa75",
    "deepnote_cell_type": "code",
    "deepnote_to_be_reexecuted": false,
    "execution_millis": 22879,
    "execution_start": 1626012345539,
    "source_hash": "1a1c781c",
    "tags": []
   },
   "outputs": [
    {
     "name": "stdout",
     "output_type": "stream",
     "text": [
      "Modelo 1 - Logistic Regression\n",
      "\n",
      "Resultados:\n",
      "Acuracia                     :  98.43 %\n",
      "F1 Score                     :  59.63 %\n",
      "Precisão (Precision)         :  42.77 %\n",
      "Recall                       :  98.4 %\n"
     ]
    },
    {
     "data": {
      "image/png": "[encoded data removed]",
      "text/plain": [
       "<Figure size 1440x576 with 3 Axes>"
      ]
     },
     "metadata": {
      "image/png": {
       "height": 500,
       "width": 1157
      },
      "needs_background": "light"
     },
     "output_type": "display_data"
    }
   ],
   "source": [
    "# Logistic Regression\n",
    "\n",
    "print(\"Modelo 1 - Logistic Regression\\n\") \n",
    "\n",
    "# Cria o objeto com o modelo do SKLearn\n",
    "modelo_1 = LogisticRegression()\n",
    "\n",
    "# Treina o modelo para os dados de Treino\n",
    "modelo_1.fit(X_treino, y_treino)\n",
    "\n",
    "# Verifica os resultados\n",
    "resultados_classificacao(modelo_1, 'Logistic Regression')"
   ]
  },
  {
   "cell_type": "code",
   "execution_count": null,
   "metadata": {
    "cell_id": "00028-1c6723a0-0cf0-4c7c-970a-c0ef7360f3bf",
    "deepnote_cell_type": "code",
    "deepnote_to_be_reexecuted": false,
    "execution_millis": 0,
    "execution_start": 1626012368420,
    "source_hash": "b623e53d",
    "tags": []
   },
   "outputs": [],
   "source": []
  },
  {
   "cell_type": "markdown",
   "metadata": {
    "cell_id": "00029-52716a74-5564-4f26-b7a5-ee56f5169ebb",
    "deepnote_cell_type": "markdown",
    "tags": []
   },
   "source": [
    "### 4.2 Decision Tree\n"
   ]
  },
  {
   "cell_type": "code",
   "execution_count": null,
   "metadata": {
    "cell_id": "00030-6f724d77-53df-4255-b783-718ee79753c2",
    "deepnote_cell_type": "code",
    "deepnote_to_be_reexecuted": false,
    "execution_millis": 9305,
    "execution_start": 1626012368426,
    "source_hash": "c3d8b00f",
    "tags": []
   },
   "outputs": [
    {
     "name": "stdout",
     "output_type": "stream",
     "text": [
      "Modelo 2 - Decision Tree Classifier\n",
      "\n",
      "Resultados:\n",
      "Acuracia                     :  99.55 %\n",
      "F1 Score                     :  82.27 %\n",
      "Precisão (Precision)         :  76.93 %\n",
      "Recall                       :  88.4 %\n"
     ]
    },
    {
     "data": {
      "image/png": "[encoded data removed]",
      "text/plain": [
       "<Figure size 1440x576 with 3 Axes>"
      ]
     },
     "metadata": {
      "image/png": {
       "height": 500,
       "width": 1157
      },
      "needs_background": "light"
     },
     "output_type": "display_data"
    }
   ],
   "source": [
    "# Decision Tree Classifier\n",
    "\n",
    "print(\"Modelo 2 - Decision Tree Classifier\\n\") \n",
    "\n",
    "# Cria o objeto com o modelo do SKLearn\n",
    "modelo_1 = DecisionTreeClassifier()\n",
    "\n",
    "# Treina o modelo para os dados de Treino\n",
    "\n",
    "modelo_1.fit(X_treino, y_treino)\n",
    "\n",
    "# Verifica os resultados\n",
    "resultados_classificacao(modelo_1, 'Decision Tree')"
   ]
  },
  {
   "cell_type": "code",
   "execution_count": null,
   "metadata": {
    "cell_id": "00030-abe1a608-ac57-43ee-8d3b-ec06c28b8aa8",
    "deepnote_cell_type": "code",
    "deepnote_to_be_reexecuted": false,
    "execution_millis": 3,
    "execution_start": 1626012377733,
    "source_hash": "b623e53d",
    "tags": []
   },
   "outputs": [],
   "source": []
  },
  {
   "cell_type": "markdown",
   "metadata": {
    "cell_id": "00030-ab0c309c-614b-4f9d-a936-e0121093b958",
    "deepnote_cell_type": "markdown",
    "tags": []
   },
   "source": [
    "### 4.3 Random Forest"
   ]
  },
  {
   "cell_type": "code",
   "execution_count": null,
   "metadata": {
    "cell_id": "00032-f585b8da-538e-4cc7-a807-b972159e1126",
    "deepnote_cell_type": "code",
    "deepnote_to_be_reexecuted": false,
    "execution_millis": 198274,
    "execution_start": 1626012377739,
    "source_hash": "74f41f48",
    "tags": []
   },
   "outputs": [
    {
     "name": "stdout",
     "output_type": "stream",
     "text": [
      "Modelo 3 - Random Forest\n",
      "\n",
      "Resultados:\n",
      "Acuracia                     :  99.54 %\n",
      "F1 Score                     :  82.59 %\n",
      "Precisão (Precision)         :  75.08 %\n",
      "Recall                       :  91.77 %\n"
     ]
    },
    {
     "data": {
      "image/png": "[encoded data removed]",
      "text/plain": [
       "<Figure size 1440x576 with 3 Axes>"
      ]
     },
     "metadata": {
      "image/png": {
       "height": 500,
       "width": 1157
      },
      "needs_background": "light"
     },
     "output_type": "display_data"
    }
   ],
   "source": [
    "# Random Forest\n",
    "\n",
    "print(\"Modelo 3 - Random Forest\\n\") \n",
    "\n",
    "# Cria o objeto com o modelo do SKLearn\n",
    "modelo_1 = RandomForestClassifier()\n",
    "\n",
    "# Treina o modelo para os dados de Treino\n",
    "modelo_1.fit(X_treino, y_treino)\n",
    "\n",
    "# Verifica os resultados\n",
    "resultados_classificacao(modelo_1, 'Random Forest')\n"
   ]
  },
  {
   "cell_type": "markdown",
   "metadata": {
    "cell_id": "00031-e5d131ec-54d6-4fe1-b45b-bed3bda2232d",
    "deepnote_cell_type": "markdown",
    "tags": []
   },
   "source": [
    "### 4.4 Naive Bayes"
   ]
  },
  {
   "cell_type": "code",
   "execution_count": null,
   "metadata": {
    "cell_id": "00034-32848f34-8fb7-4b52-8434-1965764adcca",
    "deepnote_cell_type": "code",
    "deepnote_to_be_reexecuted": false,
    "execution_millis": 2554,
    "execution_start": 1626012576019,
    "source_hash": "5253a1db",
    "tags": []
   },
   "outputs": [
    {
     "name": "stdout",
     "output_type": "stream",
     "text": [
      "Modelo 4 - Naive Bayes\n",
      "\n",
      "Resultados:\n",
      "Acuracia                     :  90.76 %\n",
      "F1 Score                     :  20.29 %\n",
      "Precisão (Precision)         :  11.29 %\n",
      "Recall                       :  99.89 %\n"
     ]
    },
    {
     "data": {
      "image/png": "[encoded data removed]",
      "text/plain": [
       "<Figure size 1440x576 with 3 Axes>"
      ]
     },
     "metadata": {
      "image/png": {
       "height": 500,
       "width": 1157
      },
      "needs_background": "light"
     },
     "output_type": "display_data"
    }
   ],
   "source": [
    "# Naive Bayes\n",
    "\n",
    "print(\"Modelo 4 - Naive Bayes\\n\") \n",
    "\n",
    "# Cria o objeto com o modelo do SKLearn\n",
    "modelo_1 = GaussianNB()\n",
    "\n",
    "# Treina o modelo para os dados de Treino\n",
    "modelo_1.fit(X_treino, y_treino)\n",
    "\n",
    "# Verifica os resultados\n",
    "resultados_classificacao(modelo_1, 'Naive Bayes')\n"
   ]
  },
  {
   "cell_type": "markdown",
   "metadata": {
    "cell_id": "00031-6f4cfd85-e978-41b5-a2aa-342636600f99",
    "deepnote_cell_type": "markdown",
    "tags": []
   },
   "source": [
    "### 4.5 Suport Vector Machine"
   ]
  },
  {
   "cell_type": "code",
   "execution_count": null,
   "metadata": {
    "cell_id": "00036-f594257e-1fda-4a38-95cd-61735a784662",
    "deepnote_cell_type": "code",
    "deepnote_to_be_reexecuted": false,
    "execution_millis": 3369514,
    "execution_start": 1626012578585,
    "source_hash": "63c173cb",
    "tags": []
   },
   "outputs": [
    {
     "name": "stdout",
     "output_type": "stream",
     "text": [
      "Modelo 5 - Suport Vector Machine\n",
      "\n"
     ]
    },
    {
     "ename": "KernelInterrupted",
     "evalue": "Execution interrupted by the Jupyter kernel.",
     "output_type": "error",
     "traceback": [
      "\u001b[0;31m---------------------------------------------------------------------------\u001b[0m",
      "\u001b[0;31mKernelInterrupted\u001b[0m: Execution interrupted by the Jupyter kernel."
     ]
    }
   ],
   "source": [
    "# Suport Vector Machine\n",
    "\n",
    "print(\"Modelo 5 - Suport Vector Machine\\n\") \n",
    "\n",
    "# Cria o objeto com o modelo do SKLearn\n",
    "modelo_1 = SVC(probability=True)\n",
    "\n",
    "# Treina o modelo para os dados de Treino\n",
    "modelo_1.fit(X_treino, y_treino)\n",
    "\n",
    "# Verifica os resultados\n",
    "resultados_classificacao(modelo_1, 'Suport Vector Machine')"
   ]
  }
 ],
 "metadata": {
  "deepnote": {},
  "deepnote_execution_queue": [],
  "deepnote_notebook_id": "43cfcf43-8a69-4a8b-be0b-696ade677f3d",
  "kernelspec": {
   "display_name": "Python 3",
   "language": "python",
   "name": "python3"
  },
  "language_info": {
   "codemirror_mode": {
    "name": "ipython",
    "version": 3
   },
   "file_extension": ".py",
   "mimetype": "text/x-python",
   "name": "python",
   "nbconvert_exporter": "python",
   "pygments_lexer": "ipython3",
   "version": "3.8.5"
  }
 },
 "nbformat": 4,
 "nbformat_minor": 4
}
