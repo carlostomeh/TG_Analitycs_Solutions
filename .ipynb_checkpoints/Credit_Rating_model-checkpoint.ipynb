{
 "cells": [
  {
   "cell_type": "markdown",
   "metadata": {
    "cell_id": "00001-a6833fc1-d6cc-4161-93a2-a34f3af20a5f",
    "deepnote_cell_type": "markdown",
    "tags": []
   },
   "source": [
    "# Credit Rating \n",
    "\n",
    "\n",
    "\n",
    "#### Contexto: \n",
    "\n",
    "Neste problema iremos realizar a predição de bons e maus pagadores, ou seja, aqueles clientes em que possuem mais de 6 meses de relacionamento com a empresa e pagou todas as faturas até a data limite do pagamento ou não. \n",
    "\n",
    "\n",
    "**Dataset:**\n",
    "- https://www.kaggle.com/rikdifos/credit-card-approval-prediction\n",
    "\n",
    "**Índice:**\n",
    "\n",
    "1. [Import Packages](#1.0-Imports)\n",
    "2. [Exploratory Data Analysis](#2.0-EDA)\n",
    "3. [Data Processing](#3.0-Data-Processing)\n",
    "\n",
    "    * 3.1 [Funções Iniciais](#3.1-Tratamento-de-dados)\n",
    "    * 3.2 [Pré Processamento](#3.2-Pré-Processamento)\n",
    "\n",
    "4. [Models](#4.0-Models)\n",
    "\n",
    "    * 4.1 [Regressão Logistica](#4.1-Regressão-Logistica)\n",
    "    * 4.2 [Decision Tree](#4.2-Decision-Tree)\n",
    "    * 4.3 [Random Forest](#4.3-Random-Forest)\n",
    "    * 4.4 [Naive Bayes](#4.4-Naive-Bayes)\n",
    "    * 4.5 [Suport Vector Machine](#4.4-Suport-Vector-Machine)\n",
    "\n",
    "5. [Results](#5.0-Results)\n"
   ]
  },
  {
   "cell_type": "markdown",
   "metadata": {
    "cell_id": "00001-e8d37839-69f5-43bb-ac48-cf5cdd5a0a79",
    "deepnote_cell_type": "markdown",
    "tags": []
   },
   "source": [
    "## 1.0 Imports\n",
    "\n",
    "\n",
    "Importando bibliotecas utilizadas."
   ]
  },
  {
   "cell_type": "code",
   "execution_count": null,
   "metadata": {
    "cell_id": "00002-b8a11e92-f1ed-409d-bae9-21d6d916d55c",
    "deepnote_cell_type": "code",
    "deepnote_to_be_reexecuted": false,
    "execution_millis": 5138,
    "execution_start": 1626377690962,
    "source_hash": "4abca40e",
    "tags": []
   },
   "outputs": [
    {
     "name": "stdout",
     "output_type": "stream",
     "text": [
      "Collecting imblearn\n",
      "  Downloading imblearn-0.0-py2.py3-none-any.whl (1.9 kB)\n",
      "Collecting imbalanced-learn\n",
      "  Downloading imbalanced_learn-0.8.0-py3-none-any.whl (206 kB)\n",
      "\u001b[K     |████████████████████████████████| 206 kB 29.2 MB/s \n",
      "\u001b[?25hRequirement already satisfied: numpy>=1.13.3 in /shared-libs/python3.7/py/lib/python3.7/site-packages (from imbalanced-learn->imblearn) (1.19.5)\n",
      "Requirement already satisfied: scipy>=0.19.1 in /shared-libs/python3.7/py/lib/python3.7/site-packages (from imbalanced-learn->imblearn) (1.7.0)\n",
      "Requirement already satisfied: joblib>=0.11 in /shared-libs/python3.7/py/lib/python3.7/site-packages (from imbalanced-learn->imblearn) (1.0.1)\n",
      "Requirement already satisfied: scikit-learn>=0.24 in /shared-libs/python3.7/py/lib/python3.7/site-packages (from imbalanced-learn->imblearn) (0.24.2)\n",
      "Requirement already satisfied: threadpoolctl>=2.0.0 in /shared-libs/python3.7/py/lib/python3.7/site-packages (from scikit-learn>=0.24->imbalanced-learn->imblearn) (2.1.0)\n",
      "Installing collected packages: imbalanced-learn, imblearn\n",
      "Successfully installed imbalanced-learn-0.8.0 imblearn-0.0\n",
      "\u001b[33mWARNING: You are using pip version 21.1.2; however, version 21.1.3 is available.\n",
      "You should consider upgrading via the '/root/venv/bin/python -m pip install --upgrade pip' command.\u001b[0m\n"
     ]
    }
   ],
   "source": [
    "! pip install imblearn"
   ]
  },
  {
   "cell_type": "code",
   "execution_count": null,
   "metadata": {
    "cell_id": "00002-37cfe257-8dd1-4655-b1d8-74778f85bd6c",
    "deepnote_cell_type": "code",
    "deepnote_to_be_reexecuted": false,
    "execution_millis": 1228,
    "execution_start": 1626377696110,
    "source_hash": "6ec11436",
    "tags": []
   },
   "outputs": [],
   "source": [
    "import pandas as pd\n",
    "import os\n",
    "from scipy import stats\n",
    "from scipy.stats import norm\n",
    "import seaborn as sns\n",
    "import numpy as np\n",
    "import matplotlib.pyplot as plt\n",
    "\n",
    "# Pre processamento\n",
    "from imblearn.over_sampling import SMOTE\n",
    "from sklearn.model_selection import train_test_split\n",
    "from sklearn.preprocessing import StandardScaler\n",
    "from sklearn.model_selection import KFold\n",
    "\n",
    "# Modelagem e escolha de parametros\n",
    "from sklearn.linear_model import LogisticRegression\n",
    "from sklearn.tree import DecisionTreeClassifier\n",
    "from sklearn.ensemble import RandomForestClassifier\n",
    "from sklearn.naive_bayes import GaussianNB\n",
    "from sklearn.svm import SVC\n",
    "\n",
    "\n",
    "# Métricas\n",
    "from sklearn.metrics import precision_score\n",
    "from sklearn.metrics import accuracy_score\n",
    "from sklearn.metrics import recall_score\n",
    "from sklearn.metrics import f1_score\n",
    "from sklearn.metrics import precision_score\n",
    "from sklearn.metrics import confusion_matrix\n",
    "from sklearn.metrics import roc_curve\n",
    "from sklearn.metrics import auc\n",
    "from sklearn.metrics import plot_confusion_matrix\n",
    "\n",
    "# ! pip install imblearn\n",
    "\n",
    "%matplotlib inline\n",
    "\n",
    "import warnings\n",
    "warnings.filterwarnings('ignore')"
   ]
  },
  {
   "cell_type": "code",
   "execution_count": null,
   "metadata": {
    "cell_id": "00003-6c62b5c3-3a0f-4ae7-9476-881006209931",
    "deepnote_cell_type": "code",
    "deepnote_to_be_reexecuted": false,
    "execution_millis": 1359,
    "execution_start": 1626377697346,
    "source_hash": "5a5eb152",
    "tags": []
   },
   "outputs": [],
   "source": [
    "# Importando a base referente às transações e características do cliente\n",
    "path = 'datasets/credit_record.csv'\n",
    "df_record = pd.read_csv(path)\n",
    "\n",
    "#Importando a base referente somente\n",
    "path_aplication = 'datasets/application_record.csv'\n",
    "df_aplication   = pd.read_csv(path_aplication)"
   ]
  },
  {
   "cell_type": "markdown",
   "metadata": {
    "cell_id": "00004-9cabbb70-a151-41a4-832a-77c66f304d19",
    "deepnote_cell_type": "markdown",
    "tags": []
   },
   "source": [
    "## 2.0 EDA"
   ]
  },
  {
   "cell_type": "markdown",
   "metadata": {
    "cell_id": "00005-71c60469-8e34-4533-bb9d-c47bbff8a7cc",
    "deepnote_cell_type": "markdown",
    "tags": []
   },
   "source": [
    "**Metadados**\n",
    " \n",
    " Neste problema temos duas bases de dados distintas, **credit_record.csv** referente a dados de pagamento do cartão de crédito e **application_record.csv** referente às características dos aplicantes para conseguir a concessão de crédito. \n",
    "\n",
    "Nossos atributos são:\n",
    "\n",
    "* **credit_record**: \n",
    "    - **ID**; Identificador unico de cliente. Coluna do tipo int64.\n",
    "    \n",
    "    - **MONTHS_BALANCE**; Mês referente ao pagamento do cartão, a referencia é baseado na regra: 0 se a conta esta no mês atual e, número negativo de referencia (exemplo: -1, se a conta for referente ao mês anterior, e assim sucessivamente. Coluna do tipo int64, indo de 0 até -60.\n",
    "    \n",
    "    - **STATUS**; Informação referente a situação de pagamento do cartão de crédito. Coluna do tipo object.\n",
    "    \n",
    "        * '0', Atraso do pagamento entre 1-29 dias.\n",
    "        * '1', Atraso do pagamento entre 30-59 dias.\n",
    "        * '2', Atraso do pagamento entre 60-89 dias.\n",
    "        * '3', Atraso do pagamento entre 90-119 dias.\n",
    "        * '4', Atraso do pagamento entre 120-149 dias.\n",
    "        * '5', Dívidas vencidas ou inadimplentes, fatura não paga por mais de 150 dias.\n",
    "        * 'C', Em dia no mês X.\n",
    "        * 'X', Sem fatura para o mês.\n",
    "        \n",
    "  \n",
    "* **application_record**: \n",
    "\n",
    "    - **CODE_GENDER**; Código identificador de gênero, atribui \"F\" para mulheres e \"M\" para homens. Coluna do tipo object.\n",
    "    \n",
    "    - **FLAG_OWN_CAR**; Bandeira que atribui \"Y\" se o cliente possui carro em sua posse e \"N\", caso contrário. Coluna do tipo object.\n",
    "    \n",
    "    - **FLAG_OWN_REALTY**; Bandeira que atribui \"Y\" se o cliente possui um imóvel em sua posse e \"N\", caso contrário. Coluna do tipo object.\n",
    "    \n",
    "    - **FLAG_MOBIL**; Bandeira que atribui \"1\" se o cliente possui número do aparelho celular cadastrado.Coluna do tipo int64.\n",
    "\n",
    "    - **FLAG_WORK_PHONE**; Bandeira que atribui \"1\" se o cliente possui telefone de trabalho cadastrado e \"0\", caso contrário. Coluna do tipo int64.\n",
    "    \n",
    "    - **FLAG_PHONE**; Bandeira que atribui \"1\" se o cliente possui telefone de casa cadastrado e \"0\", caso contrário.Coluna do tipo int64.\n",
    "    \n",
    "    - **FLAG_EMAIL**; Bandeira que atribui \"1\" se o cliente possui e-mail pessoal cadastrado e \"0\", caso contrário. Coluna do tipo object.\n",
    "    \n",
    "    - **CNT_FAM_MEMBERS**; coluna com a quantidade de membros familiares do cliente, ou seja, o tamanho da família. Coluna do tipo int64.\n",
    "        \n",
    "    - **CNT_CHILDREN**; Quantidade de filhos do cliente. Coluna do tipo int64.\n",
    "    \n",
    "    - **AMT_INCOME_TOTAL**; Valor do montante total de salário do cliente anual. Coluna do tipo int64.\n",
    "   \n",
    "    - **DAYS_BIRTH**; Quantidade de dias entre o nascimento do cliente e a data atual.Coluna do tipo int64.\n",
    "\n",
    "    - **DAYS_EMPLOYED**; Quantidade de dias entre a data de admissão do cliente e a data atual. Coluna do tipo int64.\n",
    "    \n",
    "    - **OCCUPATION_TYPE**; Coluna com informação sobre o cargo do emprego do cliente. Coluna do tipo object. Podem ser atribuidos os valores abaixo:\n",
    "         * 'Accountants',\n",
    "         * 'Cleaning staff',\n",
    "         * 'Cooking staff',\n",
    "         * 'Core staff',\n",
    "         * 'Drivers',\n",
    "         * 'HR staff',\n",
    "         * 'High skill tech staff',\n",
    "         * 'IT staff',\n",
    "         * 'Laborers',\n",
    "         * 'Low-skill Laborers',\n",
    "         * 'Managers',\n",
    "         * 'Medicine staff',\n",
    "         * 'Private service staff',\n",
    "         * 'Realty agents',\n",
    "         * 'Sales staff',\n",
    "         * 'Secretaries',\n",
    "         * 'Security staff',\n",
    "         * 'Waiters/barmen staff',\n",
    "         \n",
    "    - **NAME_INCOME_TYPE**; Tipo de vinculo empregaticio do cliente, coluna do tipo object. Podem ser atribuidos os valores abaixo:\n",
    "    \n",
    "        * 'Commercial associate': Comerciante.\n",
    "        * 'Pensioner': Pensionista ou aposentados.\n",
    "        * 'State servant': Servidores públicos.\n",
    "        * 'Student': Estudante.\n",
    "        * 'Working': Trabalhador formal.\n",
    "        \n",
    "    - **NAME_EDUCATION_TYPE**; Titulo educacional do cliente, coluna do tipo object. Podem ser atribuidos os valores abaixo:\n",
    "    \n",
    "        * 'Academic degree', \n",
    "        * 'Higher education',\n",
    "        * 'Incomplete higher',\n",
    "        * 'Lower secondary',\n",
    "        * 'Secondary / secondary special'\n",
    "    \n",
    "    - **NAME_FAMILY_STATUS**; Situação civil do cliente. coluna do tipo object. Podem ser atribuidos os valores abaixo:\n",
    "    \n",
    "        * 'Civil marriage': \n",
    "        * 'Married':\n",
    "        * 'Separated':\n",
    "        * 'Single / not married':\n",
    "        * 'Widow':\n",
    "        \n",
    "    - **NAME_HOUSING_TYPE**; \n",
    "    \n",
    "        * 'Co-op apartment':\n",
    "        * 'House / apartment':\n",
    "        * 'Municipal apartment':\n",
    "        * 'Office apartment':\n",
    "        * 'Rented apartment':\n",
    "        * 'With parents': "
   ]
  },
  {
   "cell_type": "code",
   "execution_count": null,
   "metadata": {
    "cell_id": "00005-b50d70c9-1a1d-43e3-8a26-e6c5f20f6821",
    "deepnote_cell_type": "code",
    "deepnote_to_be_reexecuted": false,
    "execution_millis": 105,
    "execution_start": 1626377698716,
    "source_hash": "14a012b9",
    "tags": []
   },
   "outputs": [
    {
     "data": {
      "application/vnd.deepnote.dataframe.v2+json": {
       "column_count": 18,
       "columns": [
        {
         "dtype": "int64",
         "name": "ID",
         "stats": {
          "histogram": [
           {
            "bin_end": 5008804.5,
            "bin_start": 5008804,
            "count": 1
           },
           {
            "bin_end": 5008805,
            "bin_start": 5008804.5,
            "count": 0
           },
           {
            "bin_end": 5008805.5,
            "bin_start": 5008805,
            "count": 1
           },
           {
            "bin_end": 5008806,
            "bin_start": 5008805.5,
            "count": 0
           },
           {
            "bin_end": 5008806.5,
            "bin_start": 5008806,
            "count": 1
           },
           {
            "bin_end": 5008807,
            "bin_start": 5008806.5,
            "count": 0
           },
           {
            "bin_end": 5008807.5,
            "bin_start": 5008807,
            "count": 0
           },
           {
            "bin_end": 5008808,
            "bin_start": 5008807.5,
            "count": 0
           },
           {
            "bin_end": 5008808.5,
            "bin_start": 5008808,
            "count": 1
           },
           {
            "bin_end": 5008809,
            "bin_start": 5008808.5,
            "count": 1
           }
          ],
          "max": "5008809",
          "min": "5008804",
          "nan_count": 0,
          "unique_count": 5
         }
        },
        {
         "dtype": "object",
         "name": "CODE_GENDER",
         "stats": {
          "categories": [
           {
            "count": 3,
            "name": "M"
           },
           {
            "count": 2,
            "name": "F"
           }
          ],
          "nan_count": 0,
          "unique_count": 2
         }
        },
        {
         "dtype": "object",
         "name": "FLAG_OWN_CAR",
         "stats": {
          "categories": [
           {
            "count": 3,
            "name": "Y"
           },
           {
            "count": 2,
            "name": "N"
           }
          ],
          "nan_count": 0,
          "unique_count": 2
         }
        },
        {
         "dtype": "object",
         "name": "FLAG_OWN_REALTY",
         "stats": {
          "categories": [
           {
            "count": 5,
            "name": "Y"
           }
          ],
          "nan_count": 0,
          "unique_count": 1
         }
        },
        {
         "dtype": "int64",
         "name": "CNT_CHILDREN",
         "stats": {
          "histogram": [
           {
            "bin_end": -0.4,
            "bin_start": -0.5,
            "count": 0
           },
           {
            "bin_end": -0.3,
            "bin_start": -0.4,
            "count": 0
           },
           {
            "bin_end": -0.19999999999999996,
            "bin_start": -0.3,
            "count": 0
           },
           {
            "bin_end": -0.09999999999999998,
            "bin_start": -0.19999999999999996,
            "count": 0
           },
           {
            "bin_end": 0,
            "bin_start": -0.09999999999999998,
            "count": 0
           },
           {
            "bin_end": 0.10000000000000009,
            "bin_start": 0,
            "count": 5
           },
           {
            "bin_end": 0.20000000000000007,
            "bin_start": 0.10000000000000009,
            "count": 0
           },
           {
            "bin_end": 0.30000000000000004,
            "bin_start": 0.20000000000000007,
            "count": 0
           },
           {
            "bin_end": 0.4,
            "bin_start": 0.30000000000000004,
            "count": 0
           },
           {
            "bin_end": 0.5,
            "bin_start": 0.4,
            "count": 0
           }
          ],
          "max": "0",
          "min": "0",
          "nan_count": 0,
          "unique_count": 1
         }
        },
        {
         "dtype": "float64",
         "name": "AMT_INCOME_TOTAL",
         "stats": {
          "histogram": [
           {
            "bin_end": 144000,
            "bin_start": 112500,
            "count": 1
           },
           {
            "bin_end": 175500,
            "bin_start": 144000,
            "count": 0
           },
           {
            "bin_end": 207000,
            "bin_start": 175500,
            "count": 0
           },
           {
            "bin_end": 238500,
            "bin_start": 207000,
            "count": 0
           },
           {
            "bin_end": 270000,
            "bin_start": 238500,
            "count": 0
           },
           {
            "bin_end": 301500,
            "bin_start": 270000,
            "count": 2
           },
           {
            "bin_end": 333000,
            "bin_start": 301500,
            "count": 0
           },
           {
            "bin_end": 364500,
            "bin_start": 333000,
            "count": 0
           },
           {
            "bin_end": 396000,
            "bin_start": 364500,
            "count": 0
           },
           {
            "bin_end": 427500,
            "bin_start": 396000,
            "count": 2
           }
          ],
          "max": "427500.0",
          "min": "112500.0",
          "nan_count": 0,
          "unique_count": 3
         }
        },
        {
         "dtype": "object",
         "name": "NAME_INCOME_TYPE",
         "stats": {
          "categories": [
           {
            "count": 3,
            "name": "Working"
           },
           {
            "count": 2,
            "name": "Commercial associate"
           }
          ],
          "nan_count": 0,
          "unique_count": 2
         }
        },
        {
         "dtype": "object",
         "name": "NAME_EDUCATION_TYPE",
         "stats": {
          "categories": [
           {
            "count": 3,
            "name": "Secondary / secondary special"
           },
           {
            "count": 2,
            "name": "Higher education"
           }
          ],
          "nan_count": 0,
          "unique_count": 2
         }
        },
        {
         "dtype": "object",
         "name": "NAME_FAMILY_STATUS",
         "stats": {
          "categories": [
           {
            "count": 2,
            "name": "Civil marriage"
           },
           {
            "count": 2,
            "name": "Single / not married"
           },
           {
            "count": 1,
            "name": "Married"
           }
          ],
          "nan_count": 0,
          "unique_count": 3
         }
        },
        {
         "dtype": "object",
         "name": "NAME_HOUSING_TYPE",
         "stats": {
          "categories": [
           {
            "count": 3,
            "name": "House / apartment"
           },
           {
            "count": 2,
            "name": "Rented apartment"
           }
          ],
          "nan_count": 0,
          "unique_count": 2
         }
        },
        {
         "dtype": "int64",
         "name": "DAYS_BIRTH",
         "stats": {
          "histogram": [
           {
            "bin_end": -20527.1,
            "bin_start": -21474,
            "count": 1
           },
           {
            "bin_end": -19580.2,
            "bin_start": -20527.1,
            "count": 0
           },
           {
            "bin_end": -18633.3,
            "bin_start": -19580.2,
            "count": 2
           },
           {
            "bin_end": -17686.4,
            "bin_start": -18633.3,
            "count": 0
           },
           {
            "bin_end": -16739.5,
            "bin_start": -17686.4,
            "count": 0
           },
           {
            "bin_end": -15792.6,
            "bin_start": -16739.5,
            "count": 0
           },
           {
            "bin_end": -14845.7,
            "bin_start": -15792.6,
            "count": 0
           },
           {
            "bin_end": -13898.8,
            "bin_start": -14845.7,
            "count": 0
           },
           {
            "bin_end": -12951.9,
            "bin_start": -13898.8,
            "count": 0
           },
           {
            "bin_end": -12005,
            "bin_start": -12951.9,
            "count": 2
           }
          ],
          "max": "-12005",
          "min": "-21474",
          "nan_count": 0,
          "unique_count": 3
         }
        },
        {
         "dtype": "int64",
         "name": "DAYS_EMPLOYED",
         "stats": {
          "histogram": [
           {
            "bin_end": -4201.2,
            "bin_start": -4542,
            "count": 2
           },
           {
            "bin_end": -3860.4,
            "bin_start": -4201.2,
            "count": 0
           },
           {
            "bin_end": -3519.6,
            "bin_start": -3860.4,
            "count": 0
           },
           {
            "bin_end": -3178.8,
            "bin_start": -3519.6,
            "count": 0
           },
           {
            "bin_end": -2838,
            "bin_start": -3178.8,
            "count": 2
           },
           {
            "bin_end": -2497.2,
            "bin_start": -2838,
            "count": 0
           },
           {
            "bin_end": -2156.4,
            "bin_start": -2497.2,
            "count": 0
           },
           {
            "bin_end": -1815.6,
            "bin_start": -2156.4,
            "count": 0
           },
           {
            "bin_end": -1474.7999999999997,
            "bin_start": -1815.6,
            "count": 0
           },
           {
            "bin_end": -1134,
            "bin_start": -1474.7999999999997,
            "count": 1
           }
          ],
          "max": "-1134",
          "min": "-4542",
          "nan_count": 0,
          "unique_count": 3
         }
        },
        {
         "dtype": "int64",
         "name": "FLAG_MOBIL",
         "stats": {
          "histogram": [
           {
            "bin_end": 0.6,
            "bin_start": 0.5,
            "count": 0
           },
           {
            "bin_end": 0.7,
            "bin_start": 0.6,
            "count": 0
           },
           {
            "bin_end": 0.8,
            "bin_start": 0.7,
            "count": 0
           },
           {
            "bin_end": 0.9,
            "bin_start": 0.8,
            "count": 0
           },
           {
            "bin_end": 1,
            "bin_start": 0.9,
            "count": 0
           },
           {
            "bin_end": 1.1,
            "bin_start": 1,
            "count": 5
           },
           {
            "bin_end": 1.2000000000000002,
            "bin_start": 1.1,
            "count": 0
           },
           {
            "bin_end": 1.3,
            "bin_start": 1.2000000000000002,
            "count": 0
           },
           {
            "bin_end": 1.4,
            "bin_start": 1.3,
            "count": 0
           },
           {
            "bin_end": 1.5,
            "bin_start": 1.4,
            "count": 0
           }
          ],
          "max": "1",
          "min": "1",
          "nan_count": 0,
          "unique_count": 1
         }
        },
        {
         "dtype": "int64",
         "name": "FLAG_WORK_PHONE",
         "stats": {
          "histogram": [
           {
            "bin_end": 0.1,
            "bin_start": 0,
            "count": 3
           },
           {
            "bin_end": 0.2,
            "bin_start": 0.1,
            "count": 0
           },
           {
            "bin_end": 0.30000000000000004,
            "bin_start": 0.2,
            "count": 0
           },
           {
            "bin_end": 0.4,
            "bin_start": 0.30000000000000004,
            "count": 0
           },
           {
            "bin_end": 0.5,
            "bin_start": 0.4,
            "count": 0
           },
           {
            "bin_end": 0.6000000000000001,
            "bin_start": 0.5,
            "count": 0
           },
           {
            "bin_end": 0.7000000000000001,
            "bin_start": 0.6000000000000001,
            "count": 0
           },
           {
            "bin_end": 0.8,
            "bin_start": 0.7000000000000001,
            "count": 0
           },
           {
            "bin_end": 0.9,
            "bin_start": 0.8,
            "count": 0
           },
           {
            "bin_end": 1,
            "bin_start": 0.9,
            "count": 2
           }
          ],
          "max": "1",
          "min": "0",
          "nan_count": 0,
          "unique_count": 2
         }
        },
        {
         "dtype": "int64",
         "name": "FLAG_PHONE",
         "stats": {
          "histogram": [
           {
            "bin_end": 0.1,
            "bin_start": 0,
            "count": 3
           },
           {
            "bin_end": 0.2,
            "bin_start": 0.1,
            "count": 0
           },
           {
            "bin_end": 0.30000000000000004,
            "bin_start": 0.2,
            "count": 0
           },
           {
            "bin_end": 0.4,
            "bin_start": 0.30000000000000004,
            "count": 0
           },
           {
            "bin_end": 0.5,
            "bin_start": 0.4,
            "count": 0
           },
           {
            "bin_end": 0.6000000000000001,
            "bin_start": 0.5,
            "count": 0
           },
           {
            "bin_end": 0.7000000000000001,
            "bin_start": 0.6000000000000001,
            "count": 0
           },
           {
            "bin_end": 0.8,
            "bin_start": 0.7000000000000001,
            "count": 0
           },
           {
            "bin_end": 0.9,
            "bin_start": 0.8,
            "count": 0
           },
           {
            "bin_end": 1,
            "bin_start": 0.9,
            "count": 2
           }
          ],
          "max": "1",
          "min": "0",
          "nan_count": 0,
          "unique_count": 2
         }
        },
        {
         "dtype": "int64",
         "name": "FLAG_EMAIL",
         "stats": {
          "histogram": [
           {
            "bin_end": 0.1,
            "bin_start": 0,
            "count": 3
           },
           {
            "bin_end": 0.2,
            "bin_start": 0.1,
            "count": 0
           },
           {
            "bin_end": 0.30000000000000004,
            "bin_start": 0.2,
            "count": 0
           },
           {
            "bin_end": 0.4,
            "bin_start": 0.30000000000000004,
            "count": 0
           },
           {
            "bin_end": 0.5,
            "bin_start": 0.4,
            "count": 0
           },
           {
            "bin_end": 0.6000000000000001,
            "bin_start": 0.5,
            "count": 0
           },
           {
            "bin_end": 0.7000000000000001,
            "bin_start": 0.6000000000000001,
            "count": 0
           },
           {
            "bin_end": 0.8,
            "bin_start": 0.7000000000000001,
            "count": 0
           },
           {
            "bin_end": 0.9,
            "bin_start": 0.8,
            "count": 0
           },
           {
            "bin_end": 1,
            "bin_start": 0.9,
            "count": 2
           }
          ],
          "max": "1",
          "min": "0",
          "nan_count": 0,
          "unique_count": 2
         }
        },
        {
         "dtype": "object",
         "name": "OCCUPATION_TYPE",
         "stats": {
          "categories": [
           {
            "count": 2,
            "name": "Sales staff"
           },
           {
            "count": 1,
            "name": "Security staff"
           },
           {
            "count": 2,
            "name": "Missing"
           }
          ],
          "nan_count": 2,
          "unique_count": 2
         }
        },
        {
         "dtype": "float64",
         "name": "CNT_FAM_MEMBERS",
         "stats": {
          "histogram": [
           {
            "bin_end": 1.1,
            "bin_start": 1,
            "count": 2
           },
           {
            "bin_end": 1.2,
            "bin_start": 1.1,
            "count": 0
           },
           {
            "bin_end": 1.3,
            "bin_start": 1.2,
            "count": 0
           },
           {
            "bin_end": 1.4,
            "bin_start": 1.3,
            "count": 0
           },
           {
            "bin_end": 1.5,
            "bin_start": 1.4,
            "count": 0
           },
           {
            "bin_end": 1.6,
            "bin_start": 1.5,
            "count": 0
           },
           {
            "bin_end": 1.7000000000000002,
            "bin_start": 1.6,
            "count": 0
           },
           {
            "bin_end": 1.8,
            "bin_start": 1.7000000000000002,
            "count": 0
           },
           {
            "bin_end": 1.9,
            "bin_start": 1.8,
            "count": 0
           },
           {
            "bin_end": 2,
            "bin_start": 1.9,
            "count": 3
           }
          ],
          "max": "2.0",
          "min": "1.0",
          "nan_count": 0,
          "unique_count": 2
         }
        },
        {
         "dtype": "int64",
         "name": "_deepnote_index_column"
        }
       ],
       "row_count": 5,
       "rows_bottom": null,
       "rows_top": [
        {
         "AMT_INCOME_TOTAL": 427500,
         "CNT_CHILDREN": 0,
         "CNT_FAM_MEMBERS": 2,
         "CODE_GENDER": "M",
         "DAYS_BIRTH": -12005,
         "DAYS_EMPLOYED": -4542,
         "FLAG_EMAIL": 0,
         "FLAG_MOBIL": 1,
         "FLAG_OWN_CAR": "Y",
         "FLAG_OWN_REALTY": "Y",
         "FLAG_PHONE": 0,
         "FLAG_WORK_PHONE": 1,
         "ID": 5008804,
         "NAME_EDUCATION_TYPE": "Higher education",
         "NAME_FAMILY_STATUS": "Civil marriage",
         "NAME_HOUSING_TYPE": "Rented apartment",
         "NAME_INCOME_TYPE": "Working",
         "OCCUPATION_TYPE": "nan",
         "_deepnote_index_column": 0
        },
        {
         "AMT_INCOME_TOTAL": 427500,
         "CNT_CHILDREN": 0,
         "CNT_FAM_MEMBERS": 2,
         "CODE_GENDER": "M",
         "DAYS_BIRTH": -12005,
         "DAYS_EMPLOYED": -4542,
         "FLAG_EMAIL": 0,
         "FLAG_MOBIL": 1,
         "FLAG_OWN_CAR": "Y",
         "FLAG_OWN_REALTY": "Y",
         "FLAG_PHONE": 0,
         "FLAG_WORK_PHONE": 1,
         "ID": 5008805,
         "NAME_EDUCATION_TYPE": "Higher education",
         "NAME_FAMILY_STATUS": "Civil marriage",
         "NAME_HOUSING_TYPE": "Rented apartment",
         "NAME_INCOME_TYPE": "Working",
         "OCCUPATION_TYPE": "nan",
         "_deepnote_index_column": 1
        },
        {
         "AMT_INCOME_TOTAL": 112500,
         "CNT_CHILDREN": 0,
         "CNT_FAM_MEMBERS": 2,
         "CODE_GENDER": "M",
         "DAYS_BIRTH": -21474,
         "DAYS_EMPLOYED": -1134,
         "FLAG_EMAIL": 0,
         "FLAG_MOBIL": 1,
         "FLAG_OWN_CAR": "Y",
         "FLAG_OWN_REALTY": "Y",
         "FLAG_PHONE": 0,
         "FLAG_WORK_PHONE": 0,
         "ID": 5008806,
         "NAME_EDUCATION_TYPE": "Secondary / secondary special",
         "NAME_FAMILY_STATUS": "Married",
         "NAME_HOUSING_TYPE": "House / apartment",
         "NAME_INCOME_TYPE": "Working",
         "OCCUPATION_TYPE": "Security staff",
         "_deepnote_index_column": 2
        },
        {
         "AMT_INCOME_TOTAL": 270000,
         "CNT_CHILDREN": 0,
         "CNT_FAM_MEMBERS": 1,
         "CODE_GENDER": "F",
         "DAYS_BIRTH": -19110,
         "DAYS_EMPLOYED": -3051,
         "FLAG_EMAIL": 1,
         "FLAG_MOBIL": 1,
         "FLAG_OWN_CAR": "N",
         "FLAG_OWN_REALTY": "Y",
         "FLAG_PHONE": 1,
         "FLAG_WORK_PHONE": 0,
         "ID": 5008808,
         "NAME_EDUCATION_TYPE": "Secondary / secondary special",
         "NAME_FAMILY_STATUS": "Single / not married",
         "NAME_HOUSING_TYPE": "House / apartment",
         "NAME_INCOME_TYPE": "Commercial associate",
         "OCCUPATION_TYPE": "Sales staff",
         "_deepnote_index_column": 3
        },
        {
         "AMT_INCOME_TOTAL": 270000,
         "CNT_CHILDREN": 0,
         "CNT_FAM_MEMBERS": 1,
         "CODE_GENDER": "F",
         "DAYS_BIRTH": -19110,
         "DAYS_EMPLOYED": -3051,
         "FLAG_EMAIL": 1,
         "FLAG_MOBIL": 1,
         "FLAG_OWN_CAR": "N",
         "FLAG_OWN_REALTY": "Y",
         "FLAG_PHONE": 1,
         "FLAG_WORK_PHONE": 0,
         "ID": 5008809,
         "NAME_EDUCATION_TYPE": "Secondary / secondary special",
         "NAME_FAMILY_STATUS": "Single / not married",
         "NAME_HOUSING_TYPE": "House / apartment",
         "NAME_INCOME_TYPE": "Commercial associate",
         "OCCUPATION_TYPE": "Sales staff",
         "_deepnote_index_column": 4
        }
       ]
      },
      "text/html": [
       "<div>\n",
       "<style scoped>\n",
       "    .dataframe tbody tr th:only-of-type {\n",
       "        vertical-align: middle;\n",
       "    }\n",
       "\n",
       "    .dataframe tbody tr th {\n",
       "        vertical-align: top;\n",
       "    }\n",
       "\n",
       "    .dataframe thead th {\n",
       "        text-align: right;\n",
       "    }\n",
       "</style>\n",
       "<table border=\"1\" class=\"dataframe\">\n",
       "  <thead>\n",
       "    <tr style=\"text-align: right;\">\n",
       "      <th></th>\n",
       "      <th>ID</th>\n",
       "      <th>CODE_GENDER</th>\n",
       "      <th>FLAG_OWN_CAR</th>\n",
       "      <th>FLAG_OWN_REALTY</th>\n",
       "      <th>CNT_CHILDREN</th>\n",
       "      <th>AMT_INCOME_TOTAL</th>\n",
       "      <th>NAME_INCOME_TYPE</th>\n",
       "      <th>NAME_EDUCATION_TYPE</th>\n",
       "      <th>NAME_FAMILY_STATUS</th>\n",
       "      <th>NAME_HOUSING_TYPE</th>\n",
       "      <th>DAYS_BIRTH</th>\n",
       "      <th>DAYS_EMPLOYED</th>\n",
       "      <th>FLAG_MOBIL</th>\n",
       "      <th>FLAG_WORK_PHONE</th>\n",
       "      <th>FLAG_PHONE</th>\n",
       "      <th>FLAG_EMAIL</th>\n",
       "      <th>OCCUPATION_TYPE</th>\n",
       "      <th>CNT_FAM_MEMBERS</th>\n",
       "    </tr>\n",
       "  </thead>\n",
       "  <tbody>\n",
       "    <tr>\n",
       "      <th>0</th>\n",
       "      <td>5008804</td>\n",
       "      <td>M</td>\n",
       "      <td>Y</td>\n",
       "      <td>Y</td>\n",
       "      <td>0</td>\n",
       "      <td>427500.0</td>\n",
       "      <td>Working</td>\n",
       "      <td>Higher education</td>\n",
       "      <td>Civil marriage</td>\n",
       "      <td>Rented apartment</td>\n",
       "      <td>-12005</td>\n",
       "      <td>-4542</td>\n",
       "      <td>1</td>\n",
       "      <td>1</td>\n",
       "      <td>0</td>\n",
       "      <td>0</td>\n",
       "      <td>NaN</td>\n",
       "      <td>2.0</td>\n",
       "    </tr>\n",
       "    <tr>\n",
       "      <th>1</th>\n",
       "      <td>5008805</td>\n",
       "      <td>M</td>\n",
       "      <td>Y</td>\n",
       "      <td>Y</td>\n",
       "      <td>0</td>\n",
       "      <td>427500.0</td>\n",
       "      <td>Working</td>\n",
       "      <td>Higher education</td>\n",
       "      <td>Civil marriage</td>\n",
       "      <td>Rented apartment</td>\n",
       "      <td>-12005</td>\n",
       "      <td>-4542</td>\n",
       "      <td>1</td>\n",
       "      <td>1</td>\n",
       "      <td>0</td>\n",
       "      <td>0</td>\n",
       "      <td>NaN</td>\n",
       "      <td>2.0</td>\n",
       "    </tr>\n",
       "    <tr>\n",
       "      <th>2</th>\n",
       "      <td>5008806</td>\n",
       "      <td>M</td>\n",
       "      <td>Y</td>\n",
       "      <td>Y</td>\n",
       "      <td>0</td>\n",
       "      <td>112500.0</td>\n",
       "      <td>Working</td>\n",
       "      <td>Secondary / secondary special</td>\n",
       "      <td>Married</td>\n",
       "      <td>House / apartment</td>\n",
       "      <td>-21474</td>\n",
       "      <td>-1134</td>\n",
       "      <td>1</td>\n",
       "      <td>0</td>\n",
       "      <td>0</td>\n",
       "      <td>0</td>\n",
       "      <td>Security staff</td>\n",
       "      <td>2.0</td>\n",
       "    </tr>\n",
       "    <tr>\n",
       "      <th>3</th>\n",
       "      <td>5008808</td>\n",
       "      <td>F</td>\n",
       "      <td>N</td>\n",
       "      <td>Y</td>\n",
       "      <td>0</td>\n",
       "      <td>270000.0</td>\n",
       "      <td>Commercial associate</td>\n",
       "      <td>Secondary / secondary special</td>\n",
       "      <td>Single / not married</td>\n",
       "      <td>House / apartment</td>\n",
       "      <td>-19110</td>\n",
       "      <td>-3051</td>\n",
       "      <td>1</td>\n",
       "      <td>0</td>\n",
       "      <td>1</td>\n",
       "      <td>1</td>\n",
       "      <td>Sales staff</td>\n",
       "      <td>1.0</td>\n",
       "    </tr>\n",
       "    <tr>\n",
       "      <th>4</th>\n",
       "      <td>5008809</td>\n",
       "      <td>F</td>\n",
       "      <td>N</td>\n",
       "      <td>Y</td>\n",
       "      <td>0</td>\n",
       "      <td>270000.0</td>\n",
       "      <td>Commercial associate</td>\n",
       "      <td>Secondary / secondary special</td>\n",
       "      <td>Single / not married</td>\n",
       "      <td>House / apartment</td>\n",
       "      <td>-19110</td>\n",
       "      <td>-3051</td>\n",
       "      <td>1</td>\n",
       "      <td>0</td>\n",
       "      <td>1</td>\n",
       "      <td>1</td>\n",
       "      <td>Sales staff</td>\n",
       "      <td>1.0</td>\n",
       "    </tr>\n",
       "  </tbody>\n",
       "</table>\n",
       "</div>"
      ],
      "text/plain": [
       "        ID CODE_GENDER FLAG_OWN_CAR FLAG_OWN_REALTY  CNT_CHILDREN  \\\n",
       "0  5008804           M            Y               Y             0   \n",
       "1  5008805           M            Y               Y             0   \n",
       "2  5008806           M            Y               Y             0   \n",
       "3  5008808           F            N               Y             0   \n",
       "4  5008809           F            N               Y             0   \n",
       "\n",
       "   AMT_INCOME_TOTAL      NAME_INCOME_TYPE            NAME_EDUCATION_TYPE  \\\n",
       "0          427500.0               Working               Higher education   \n",
       "1          427500.0               Working               Higher education   \n",
       "2          112500.0               Working  Secondary / secondary special   \n",
       "3          270000.0  Commercial associate  Secondary / secondary special   \n",
       "4          270000.0  Commercial associate  Secondary / secondary special   \n",
       "\n",
       "     NAME_FAMILY_STATUS  NAME_HOUSING_TYPE  DAYS_BIRTH  DAYS_EMPLOYED  \\\n",
       "0        Civil marriage   Rented apartment      -12005          -4542   \n",
       "1        Civil marriage   Rented apartment      -12005          -4542   \n",
       "2               Married  House / apartment      -21474          -1134   \n",
       "3  Single / not married  House / apartment      -19110          -3051   \n",
       "4  Single / not married  House / apartment      -19110          -3051   \n",
       "\n",
       "   FLAG_MOBIL  FLAG_WORK_PHONE  FLAG_PHONE  FLAG_EMAIL OCCUPATION_TYPE  \\\n",
       "0           1                1           0           0             NaN   \n",
       "1           1                1           0           0             NaN   \n",
       "2           1                0           0           0  Security staff   \n",
       "3           1                0           1           1     Sales staff   \n",
       "4           1                0           1           1     Sales staff   \n",
       "\n",
       "   CNT_FAM_MEMBERS  \n",
       "0              2.0  \n",
       "1              2.0  \n",
       "2              2.0  \n",
       "3              1.0  \n",
       "4              1.0  "
      ]
     },
     "execution_count": 6,
     "metadata": {},
     "output_type": "execute_result"
    }
   ],
   "source": [
    "df_record.head()\n",
    "df_aplication.head()"
   ]
  },
  {
   "cell_type": "code",
   "execution_count": null,
   "metadata": {
    "cell_id": "00005-7c8026a0-ea17-4ce9-a8c8-df0c06826f41",
    "deepnote_cell_type": "code",
    "deepnote_to_be_reexecuted": false,
    "execution_millis": 15,
    "execution_start": 1626377698826,
    "source_hash": "ef5b43fb",
    "tags": []
   },
   "outputs": [
    {
     "name": "stdout",
     "output_type": "stream",
     "text": [
      "Este conjunto de dados possui  3  colunas e  1048575  linhas. Dessas estão representados 3 clientes.\n",
      "\n"
     ]
    }
   ],
   "source": [
    "print('Este conjunto de dados possui ', df_record.shape[1],' colunas e ', df_record.shape[0], ' linhas. Dessas estão representados', len(set(df_record))\n",
    "          , 'clientes.\\n')"
   ]
  },
  {
   "cell_type": "markdown",
   "metadata": {
    "cell_id": "00004-a8e0b434-35f7-458f-a459-d9bb5c7d34e3",
    "deepnote_cell_type": "markdown",
    "tags": []
   },
   "source": [
    "## 3.0 Data Processing"
   ]
  },
  {
   "cell_type": "markdown",
   "metadata": {
    "cell_id": "00009-5159d329-091e-4c63-a96d-f7648b28eecc",
    "deepnote_cell_type": "markdown",
    "tags": []
   },
   "source": [
    "### 3.1 Tratamento Inicial"
   ]
  },
  {
   "cell_type": "code",
   "execution_count": null,
   "metadata": {
    "cell_id": "00004-f12caa19-187d-4e6e-9b92-ad93d2c80491",
    "deepnote_cell_type": "code",
    "deepnote_to_be_reexecuted": false,
    "execution_millis": 85143,
    "execution_start": 1626377698850,
    "source_hash": "22ed53a4",
    "tags": []
   },
   "outputs": [],
   "source": [
    "################################################# Tratamento dos dados pessoais\n",
    "\n",
    "# CODE_GENDER\n",
    "df_aplication['CODE_GENDER'] = df_aplication['CODE_GENDER'].replace(['F','M'] , [1, 0])\n",
    "\n",
    "# FLAG_OWN_CAR\n",
    "df_aplication['FLAG_OWN_CAR'] = df_aplication['FLAG_OWN_CAR'].replace(['Y','N'] , [1, 0])\n",
    "\n",
    "# FLAG_OWN_REALTY\n",
    "df_aplication['FLAG_OWN_REALTY'] = df_aplication['FLAG_OWN_REALTY'].replace(['Y','N'] , [1, 0])\n",
    "\n",
    "# AGE\n",
    "df_aplication['AGE'] = round(- df_aplication['DAYS_BIRTH'] / 365.25, 0) \n",
    "\n",
    "# Years Employee\n",
    "df_aplication['YEARS_EMPLOYEE'] = round(- df_aplication['DAYS_EMPLOYED'] / 365.25, 1) \n",
    "df_aplication['YEARS_EMPLOYEE'][df_aplication['YEARS_EMPLOYEE'] < 0] = 0\n",
    "\n",
    "\n",
    "\n",
    "################################################ Tratamento do dataframe de faturas\n",
    "\n",
    "# Coluna Status\n",
    "df_record[(df_record['STATUS'] == 'X') | (df_record['STATUS'] == 'C')] = -1\n",
    "df_record['STATUS'] = df_record['STATUS'].astype(int)\n",
    "\n",
    "# Criando o target (No caso, vamos marcar para cada fatura que o cliente teve se ele atingiu pelo menos 60 dias de atraso como MAU)\n",
    "df_record['target_fat'] = np.nan\n",
    "df_record['target_fat'][df_record['STATUS'] > 1] = 1 \n",
    "df_record['target_fat'][df_record['STATUS'] <= 1] = 0 \n",
    "\n",
    "temp = df_record.groupby(['ID']).apply(lambda x: pd.Series(dict(  open_month   =  ((x.MONTHS_BALANCE.min())),\n",
    "                                                                  close_month  =  ((x.MONTHS_BALANCE.max())),\n",
    "                                                                  n_charges = (x.MONTHS_BALANCE.count()),\n",
    "                                                                  n_charges_6m = (x[x['MONTHS_BALANCE'] > -6].MONTHS_BALANCE.count()),\n",
    "                                                                  target = (x.target_fat.max())\n",
    "                                                                )\n",
    "                                                            )\n",
    "                                        )\n",
    "temp.reset_index()\n",
    "\n",
    "# Levando as informações sumarizadas para a tabela de faturas\n",
    "df_record = pd.merge(df_record, temp, on = ['ID'], how = 'left')\n",
    "\n",
    "# Novo dataframe apenas de clientes com pelo menos 3 faturas nos últimos 6 meses\n",
    "record_new = df_record[(df_record['MONTHS_BALANCE'] > -6) & (df_record['n_charges_6m'] > 2)].copy()\n",
    "\n",
    "# Juntando ambas as tabelas\n",
    "df_new = pd.merge(df_aplication, record_new[['ID','open_month','close_month','target']], on = ['ID'], how = 'left')\n",
    "\n",
    "# Dropando valores de clientes que não temos a informação de pagamento\n",
    "df_new.dropna(subset=['target'], inplace  = True);\n",
    "\n",
    "# Dropando linhas duplicadas\n",
    "df_new.drop_duplicates()\n",
    "\n",
    "# Dropando Colunas não utilizadas\n",
    "df_new = df_new.drop(['DAYS_BIRTH', 'DAYS_EMPLOYED', 'FLAG_MOBIL', 'OCCUPATION_TYPE', 'ID'], axis=1)\n",
    "\n",
    "df_new['tempo_relacionamento'] = df_new['close_month'] - df_new['open_month']"
   ]
  },
  {
   "cell_type": "code",
   "execution_count": null,
   "metadata": {
    "cell_id": "00011-608a9f01-3b56-45cf-810d-15004256dcff",
    "deepnote_cell_type": "code",
    "deepnote_to_be_reexecuted": false,
    "execution_millis": 239,
    "execution_start": 1626377904101,
    "source_hash": "78d2dd75",
    "tags": []
   },
   "outputs": [
    {
     "data": {
      "image/png": "[encoded data removed]",
      "text/plain": [
       "<Figure size 720x576 with 1 Axes>"
      ]
     },
     "metadata": {
      "image/png": {
       "height": 496,
       "width": 624
      },
      "needs_background": "light"
     },
     "output_type": "display_data"
    }
   ],
   "source": [
    "fig, axes = plt.subplots(figsize=(10, 8))\n",
    "\n",
    "sns.countplot(x=\"target\", data=df_new)\n",
    "\n",
    "plt.title('Quantidade de observações pela classe Alvo')\n",
    "plt.xlabel('Classe Alvo')\n",
    "plt.ylabel('Quantidade de Observações')\n",
    "plt.show()"
   ]
  },
  {
   "cell_type": "markdown",
   "metadata": {
    "cell_id": "00011-26c2b66c-5fd7-405c-96ca-6428c9399831",
    "deepnote_cell_type": "markdown",
    "tags": []
   },
   "source": [
    "### 3.2 Pré Processamento"
   ]
  },
  {
   "cell_type": "code",
   "execution_count": null,
   "metadata": {
    "cell_id": "00010-c5d58ac2-57a2-4cf5-9fbc-c39d9c2a61f6",
    "deepnote_cell_type": "code",
    "deepnote_to_be_reexecuted": false,
    "execution_millis": 63,
    "execution_start": 1626377970873,
    "source_hash": "889c8ddc",
    "tags": []
   },
   "outputs": [],
   "source": [
    "################################################ Pré Processamento para Modelagem\n",
    "\n",
    "################################################ Transformando as colunas categoricas em colunas booleanas\n",
    "# Seleciona as colunas categoricas\n",
    "colunas_categoricas = list(df_new.select_dtypes('object').columns)\n",
    "\n",
    "# Cria um df\n",
    "temp = pd.get_dummies(df_new[colunas_categoricas])\n",
    "\n",
    "# Tira as colunas categoricas do df\n",
    "df_new = df_new.drop(colunas_categoricas, axis=1)\n",
    "\n",
    "# Atualiza o dataframe unindo as informações principais e os valores categoricos\n",
    "df_new = pd.merge(df_new, temp, how = 'left', left_index=True, right_index=True)\n",
    "\n",
    "################################################ Passando o Standard Scaler\n",
    "\n",
    "# Tira as coluna alvo\n",
    "X = df_new.drop('target', axis=1)\n",
    "y = df_new['target']\n",
    "\n",
    "# Cria o objeto do escalonador\n",
    "escalonador = StandardScaler()\n",
    "\n",
    "# Transforma os dados \n",
    "X = escalonador.fit_transform(X)"
   ]
  },
  {
   "cell_type": "code",
   "execution_count": null,
   "metadata": {
    "cell_id": "00011-5434b775-954a-45d1-baf6-3652a2eb5979",
    "deepnote_cell_type": "code",
    "deepnote_to_be_reexecuted": false,
    "execution_millis": 107,
    "execution_start": 1626377971190,
    "source_hash": "7a5f7558",
    "tags": []
   },
   "outputs": [],
   "source": [
    "################################################ Splitando a base\n",
    "\n",
    "# Divide em base de treino e teste\n",
    "X_treino, X_teste, y_treino, y_teste = train_test_split(X, y, random_state=42)\n",
    "\n",
    "\n",
    "################################################ Passando estratégia de oversampling\n",
    "\n",
    "# Define a estratégia de oversampling\n",
    "SMOTE = SMOTE()\n",
    "\n",
    "# treina e aplica a função Smote\n",
    "X_treino, y_treino = SMOTE.fit_resample(X_treino, y_treino)"
   ]
  },
  {
   "cell_type": "code",
   "execution_count": null,
   "metadata": {
    "cell_id": "00016-d20eadc7-9a4b-4e02-b55b-8406f89bb99b",
    "deepnote_cell_type": "code",
    "deepnote_to_be_reexecuted": false,
    "execution_millis": 186,
    "execution_start": 1626378067237,
    "source_hash": "a4f38723",
    "tags": []
   },
   "outputs": [
    {
     "data": {
      "image/png": "[encoded data removed]",
      "text/plain": [
       "<Figure size 720x576 with 1 Axes>"
      ]
     },
     "metadata": {
      "image/png": {
       "height": 496,
       "width": 624
      },
      "needs_background": "light"
     },
     "output_type": "display_data"
    }
   ],
   "source": [
    "fig, axes = plt.subplots(figsize=(10, 8))\n",
    "\n",
    "temp = pd.DataFrame(y_treino, columns = ['target'])\n",
    "sns.countplot(x=\"target\", data=temp)\n",
    "\n",
    "plt.title('Quantidade de observações pela classe Alvo')\n",
    "plt.xlabel('Classe Alvo')\n",
    "plt.ylabel('Quantidade de Observações')\n",
    "plt.show()"
   ]
  },
  {
   "cell_type": "markdown",
   "metadata": {
    "cell_id": "00012-a9c3b88f-f1e1-4c73-a0d9-9801528442d1",
    "deepnote_cell_type": "markdown",
    "tags": []
   },
   "source": [
    "## 4.0 Models"
   ]
  },
  {
   "cell_type": "markdown",
   "metadata": {
    "cell_id": "00014-9c741e61-acd5-4965-a3c5-3a604c886c90",
    "deepnote_cell_type": "markdown",
    "tags": []
   },
   "source": [
    "##### Função de avaliação dos Modelos"
   ]
  },
  {
   "cell_type": "code",
   "execution_count": null,
   "metadata": {
    "cell_id": "00012-0258dc67-62d0-417e-9708-02f6d3ef12bf",
    "deepnote_cell_type": "code",
    "deepnote_to_be_reexecuted": false,
    "execution_millis": 32,
    "execution_start": 1626012481079,
    "source_hash": "3e5c0255",
    "tags": []
   },
   "outputs": [],
   "source": [
    "# Avaliação de modelos de classificação\n",
    "\n",
    "def resultados_classificacao(modelo, nome_do_modelo ):\n",
    "    y_pred = np.nan\n",
    "    y_pred = modelo.predict(X_teste)\n",
    "    y_pred_proba = modelo.predict_proba(X_teste)[:, 1]\n",
    "        \n",
    "    acuracia  =  accuracy_score(y_teste,y_pred)\n",
    "    f1        =  f1_score(y_teste, y_pred) \n",
    "    precisao  =  precision_score(y_teste, y_pred)\n",
    "    recall    =  recall_score(y_teste,y_pred)\n",
    "\n",
    "    print('Resultados:')\n",
    "    print('Acuracia                     : ', round(acuracia*100, 2) , '%'  )\n",
    "    print('F1 Score                     : ', round(f1*100, 2)        , '%'  )\n",
    "    print('Precisão (Precision)         : ', round(precisao*100, 2)  , '%' )\n",
    "    print('Recall                       : ', round(recall*100 , 2)   , '%'  )\n",
    "\n",
    "    fig, axes = plt.subplots(1, 2, figsize=(20, 8))\n",
    "\n",
    "    # Matriz de Confusão\n",
    "    disp = plot_confusion_matrix(modelo, X_teste, y_teste, cmap=plt.cm.Blues, ax = axes[0])\n",
    "\n",
    "    [fpr, tpr, thr] = roc_curve(y_teste, y_pred_proba)\n",
    "\n",
    "    idx = np.min(np.where(tpr > 0.95)) # index of the first threshold for which the sensibility > 0.95\n",
    "\n",
    "    axes[1].plot(fpr, tpr, color='coral', label='ROC curve (area = %0.3f)' % auc(fpr, tpr))\n",
    "    axes[1].plot([0, 1], [0, 1], 'k--')\n",
    "    axes[1].plot([0,fpr[idx]], [tpr[idx],tpr[idx]], 'k--', color='blue')\n",
    "    axes[1].plot([fpr[idx],fpr[idx]], [0,tpr[idx]], 'k--', color='blue')\n",
    "\n",
    "    axes[1].set_xlabel('False Positive Rate (1 - specificity)', fontsize=14)\n",
    "    axes[1].set_ylabel('True Positive Rate (recall)', fontsize=14)\n",
    "    axes[1].set_title('Receiver operating characteristic (ROC) curve')\n",
    "    axes[1].legend(loc=\"lower right\");"
   ]
  },
  {
   "cell_type": "markdown",
   "metadata": {
    "cell_id": "00016-e227701c-aeef-4c29-aa36-0188bcf8751d",
    "deepnote_cell_type": "markdown",
    "tags": []
   },
   "source": [
    "### 4.1 Regressão Logistica"
   ]
  },
  {
   "cell_type": "code",
   "execution_count": null,
   "metadata": {
    "cell_id": "00011-0ea822be-206a-4539-9432-f558f1ed0dab",
    "deepnote_cell_type": "code",
    "deepnote_to_be_reexecuted": false,
    "execution_millis": 2307,
    "execution_start": 1626012481114,
    "source_hash": "8cd8d3d5",
    "tags": []
   },
   "outputs": [
    {
     "name": "stdout",
     "output_type": "stream",
     "text": [
      "Modelo 1 - Logistic Regression\n",
      "\n",
      "Resultados:\n",
      "Acuracia                     :  73.94 %\n",
      "F1 Score                     :  12.73 %\n",
      "Precisão (Precision)         :  7.06 %\n",
      "Recall                       :  64.58 %\n"
     ]
    },
    {
     "data": {
      "image/png": "[encoded data removed]",
      "text/plain": [
       "<Figure size 1440x576 with 3 Axes>"
      ]
     },
     "metadata": {
      "image/png": {
       "height": 500,
       "width": 1167
      },
      "needs_background": "light"
     },
     "output_type": "display_data"
    }
   ],
   "source": [
    "# Logistic Regression\n",
    "\n",
    "print(\"Modelo 1 - Logistic Regression\\n\") \n",
    "\n",
    "# Cria o objeto com o modelo do SKLearn\n",
    "modelo_1 = LogisticRegression()\n",
    "\n",
    "# Treina o modelo para os dados de Treino\n",
    "modelo_1.fit(X_treino, y_treino)\n",
    "\n",
    "# Verifica os resultados\n",
    "resultados_classificacao(modelo_1, 'Logistic Regression')\n",
    "\n"
   ]
  },
  {
   "cell_type": "markdown",
   "metadata": {
    "cell_id": "00018-83b32fe3-6f18-4db5-af06-dfe1f27dd73a",
    "deepnote_cell_type": "markdown",
    "tags": []
   },
   "source": [
    "### 4.2 Decision Tree\n"
   ]
  },
  {
   "cell_type": "code",
   "execution_count": null,
   "metadata": {
    "cell_id": "00016-6dd0e122-257a-4d48-a5c8-2bd7e9179868",
    "deepnote_cell_type": "code",
    "deepnote_to_be_reexecuted": false,
    "execution_millis": 1467,
    "execution_start": 1626012483453,
    "source_hash": "c3d8b00f",
    "tags": []
   },
   "outputs": [
    {
     "name": "stdout",
     "output_type": "stream",
     "text": [
      "Modelo 2 - Decision Tree Classifier\n",
      "\n",
      "Resultados:\n",
      "Acuracia                     :  99.96 %\n",
      "F1 Score                     :  99.38 %\n",
      "Precisão (Precision)         :  98.76 %\n",
      "Recall                       :  100.0 %\n"
     ]
    },
    {
     "data": {
      "image/png": "[encoded data removed]",
      "text/plain": [
       "<Figure size 1440x576 with 3 Axes>"
      ]
     },
     "metadata": {
      "image/png": {
       "height": 500,
       "width": 1167
      },
      "needs_background": "light"
     },
     "output_type": "display_data"
    }
   ],
   "source": [
    "# Decision Tree Classifier\n",
    "\n",
    "print(\"Modelo 2 - Decision Tree Classifier\\n\") \n",
    "\n",
    "# Cria o objeto com o modelo do SKLearn\n",
    "modelo_1 = DecisionTreeClassifier()\n",
    "\n",
    "# Treina o modelo para os dados de Treino\n",
    "\n",
    "modelo_1.fit(X_treino, y_treino)\n",
    "\n",
    "# Verifica os resultados\n",
    "resultados_classificacao(modelo_1, 'Decision Tree')"
   ]
  },
  {
   "cell_type": "markdown",
   "metadata": {
    "cell_id": "00019-793eaefe-9955-46d9-a2be-fd5e03abf909",
    "deepnote_cell_type": "markdown",
    "tags": []
   },
   "source": [
    "### 4.3 Random Forest"
   ]
  },
  {
   "cell_type": "code",
   "execution_count": null,
   "metadata": {
    "cell_id": "00020-d40c919b-eb6e-4d90-9885-e9ce43580aae",
    "deepnote_cell_type": "code",
    "deepnote_to_be_reexecuted": false,
    "execution_millis": 10688,
    "execution_start": 1626012484923,
    "source_hash": "53ac1844",
    "tags": []
   },
   "outputs": [
    {
     "name": "stdout",
     "output_type": "stream",
     "text": [
      "Modelo 3 - Random Forest\n",
      "\n",
      "Resultados:\n",
      "Acuracia                     :  99.93 %\n",
      "F1 Score                     :  98.76 %\n",
      "Precisão (Precision)         :  97.55 %\n",
      "Recall                       :  100.0 %\n"
     ]
    },
    {
     "data": {
      "image/png": "[encoded data removed]",
      "text/plain": [
       "<Figure size 1440x576 with 3 Axes>"
      ]
     },
     "metadata": {
      "image/png": {
       "height": 500,
       "width": 1167
      },
      "needs_background": "light"
     },
     "output_type": "display_data"
    }
   ],
   "source": [
    "# Random Forest\n",
    "\n",
    "print(\"Modelo 3 - Random Forest\\n\") \n",
    "\n",
    "# Cria o objeto com o modelo do SKLearn\n",
    "modelo_1 = RandomForestClassifier()\n",
    "\n",
    "# Treina o modelo para os dados de Treino\n",
    "modelo_1.fit(X_treino, y_treino)\n",
    "\n",
    "# Verifica os resultados\n",
    "resultados_classificacao(modelo_1, 'Random Forest')"
   ]
  },
  {
   "cell_type": "markdown",
   "metadata": {
    "cell_id": "00021-85398082-5ee5-4164-b8b3-e482c20f9328",
    "deepnote_cell_type": "markdown",
    "tags": []
   },
   "source": [
    "### 4.4 Naive Bayes"
   ]
  },
  {
   "cell_type": "code",
   "execution_count": null,
   "metadata": {
    "cell_id": "00023-6bb34050-0a7f-4990-ad5b-256488e33402",
    "deepnote_cell_type": "code",
    "deepnote_to_be_reexecuted": false,
    "execution_millis": 942,
    "execution_start": 1626012495617,
    "source_hash": "fd320f7b",
    "tags": []
   },
   "outputs": [
    {
     "name": "stdout",
     "output_type": "stream",
     "text": [
      "Modelo 4 - Naive Bayes\n",
      "\n",
      "Resultados:\n",
      "Acuracia                     :  3.23 %\n",
      "F1 Score                     :  5.74 %\n",
      "Precisão (Precision)         :  2.95 %\n",
      "Recall                       :  100.0 %\n"
     ]
    },
    {
     "data": {
      "image/png": "[encoded data removed]",
      "text/plain": [
       "<Figure size 1440x576 with 3 Axes>"
      ]
     },
     "metadata": {
      "image/png": {
       "height": 500,
       "width": 1167
      },
      "needs_background": "light"
     },
     "output_type": "display_data"
    }
   ],
   "source": [
    "# Naive Bayes\n",
    "\n",
    "print(\"Modelo 4 - Naive Bayes\\n\") \n",
    "\n",
    "# Cria o objeto com o modelo do SKLearn\n",
    "modelo_1 = GaussianNB()\n",
    "\n",
    "# Treina o modelo para os dados de Treino\n",
    "modelo_1.fit(X_treino, y_treino)\n",
    "\n",
    "# Verifica os resultados\n",
    "resultados_classificacao(modelo_1, 'Naive Bayes')"
   ]
  },
  {
   "cell_type": "markdown",
   "metadata": {
    "cell_id": "00023-6cbfd2e4-a7e4-473e-9c5c-2d701433a95c",
    "deepnote_cell_type": "markdown",
    "tags": []
   },
   "source": [
    "### 4.5 Suport Vector Machine"
   ]
  },
  {
   "cell_type": "code",
   "execution_count": null,
   "metadata": {
    "cell_id": "00024-2244c7e2-0fa3-491b-a428-6f1fe3466060",
    "deepnote_cell_type": "code",
    "deepnote_to_be_reexecuted": false,
    "execution_millis": 1350049,
    "execution_start": 1626012496560,
    "source_hash": "63c173cb",
    "tags": []
   },
   "outputs": [
    {
     "name": "stdout",
     "output_type": "stream",
     "text": [
      "Modelo 5 - Suport Vector Machine\n",
      "\n",
      "Resultados:\n",
      "Acuracia                     :  93.72 %\n",
      "F1 Score                     :  46.79 %\n",
      "Precisão (Precision)         :  31.18 %\n",
      "Recall                       :  93.73 %\n"
     ]
    },
    {
     "data": {
      "image/png": "[encoded data removed]",
      "text/plain": [
       "<Figure size 1440x576 with 3 Axes>"
      ]
     },
     "metadata": {
      "image/png": {
       "height": 500,
       "width": 1167
      },
      "needs_background": "light"
     },
     "output_type": "display_data"
    }
   ],
   "source": [
    "# Suport Vector Machine\n",
    "\n",
    "print(\"Modelo 5 - Suport Vector Machine\\n\") \n",
    "\n",
    "# Cria o objeto com o modelo do SKLearn\n",
    "modelo_1 = SVC(probability=True)\n",
    "\n",
    "# Treina o modelo para os dados de Treino\n",
    "modelo_1.fit(X_treino, y_treino)\n",
    "\n",
    "# Verifica os resultados\n",
    "resultados_classificacao(modelo_1, 'Suport Vector Machine')"
   ]
  }
 ],
 "metadata": {
  "deepnote": {
   "is_reactive": false
  },
  "deepnote_execution_queue": [],
  "deepnote_notebook_id": "2d9827f2-af4e-4cd6-a4b4-acc97f910041",
  "kernelspec": {
   "display_name": "Python 3",
   "language": "python",
   "name": "python3"
  },
  "language_info": {
   "codemirror_mode": {
    "name": "ipython",
    "version": 3
   },
   "file_extension": ".py",
   "mimetype": "text/x-python",
   "name": "python",
   "nbconvert_exporter": "python",
   "pygments_lexer": "ipython3",
   "version": "3.8.5"
  }
 },
 "nbformat": 4,
 "nbformat_minor": 2
}
