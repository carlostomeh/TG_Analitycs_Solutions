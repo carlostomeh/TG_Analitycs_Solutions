{
 "cells": [
  {
   "cell_type": "markdown",
   "metadata": {},
   "source": [
    "# Fraud Detection\n",
    "\n",
    "\n",
    "#### Context: \n",
    "Detect fraudlent transactions is a very common problem to companies who use internet or intenet banking as way of payment. Here in this project we're gonna work with a dataset were we'll try to predict fraudlent transations in the Dataset \"Synthetic data from a financial payment system\" .\n",
    "\n",
    "**Dataset:**\n",
    "- https://www.kaggle.com/ntnu-testimon/banksim1/code?datasetId=1565&sortBy=voteCount\n",
    "\n",
    "Here what we'll do in this kernel:\n",
    "\n",
    "\n",
    "1. [Import Packages](#1.0-Imports)\n",
    "2. [Exploratory Data Analysis](#2.0-EDA)\n",
    "3. [Data Processing](#3.0-Data-Processing)\n",
    "4. [Models](#4.0-Models)\n",
    "5. [Results](#4.0-Results)\n",
    "\n",
    "\n"
   ]
  },
  {
   "cell_type": "markdown",
   "metadata": {},
   "source": [
    "## 1.0 Imports\n",
    "\n",
    "\n",
    "Importando bibliotecas utilizadas."
   ]
  },
  {
   "cell_type": "code",
   "execution_count": 2,
   "metadata": {},
   "outputs": [],
   "source": [
    "import pandas as pd\n",
    "import os\n",
    "from scipy import stats\n",
    "from scipy.stats import norm\n",
    "import seaborn as sns\n",
    "import numpy as np\n",
    "import matplotlib.pyplot as plt\n",
    "%matplotlib inline\n",
    "\n",
    "import warnings\n",
    "warnings.filterwarnings('ignore')"
   ]
  },
  {
   "cell_type": "code",
   "execution_count": 3,
   "metadata": {},
   "outputs": [
    {
     "data": {
      "text/html": [
       "<div>\n",
       "<style scoped>\n",
       "    .dataframe tbody tr th:only-of-type {\n",
       "        vertical-align: middle;\n",
       "    }\n",
       "\n",
       "    .dataframe tbody tr th {\n",
       "        vertical-align: top;\n",
       "    }\n",
       "\n",
       "    .dataframe thead th {\n",
       "        text-align: right;\n",
       "    }\n",
       "</style>\n",
       "<table border=\"1\" class=\"dataframe\">\n",
       "  <thead>\n",
       "    <tr style=\"text-align: right;\">\n",
       "      <th></th>\n",
       "      <th>step</th>\n",
       "      <th>customer</th>\n",
       "      <th>age</th>\n",
       "      <th>gender</th>\n",
       "      <th>zipcodeOri</th>\n",
       "      <th>merchant</th>\n",
       "      <th>zipMerchant</th>\n",
       "      <th>category</th>\n",
       "      <th>amount</th>\n",
       "      <th>fraud</th>\n",
       "    </tr>\n",
       "  </thead>\n",
       "  <tbody>\n",
       "    <tr>\n",
       "      <th>0</th>\n",
       "      <td>0</td>\n",
       "      <td>'C1093826151'</td>\n",
       "      <td>'4'</td>\n",
       "      <td>'M'</td>\n",
       "      <td>'28007'</td>\n",
       "      <td>'M348934600'</td>\n",
       "      <td>'28007'</td>\n",
       "      <td>'es_transportation'</td>\n",
       "      <td>4.55</td>\n",
       "      <td>0</td>\n",
       "    </tr>\n",
       "    <tr>\n",
       "      <th>1</th>\n",
       "      <td>0</td>\n",
       "      <td>'C352968107'</td>\n",
       "      <td>'2'</td>\n",
       "      <td>'M'</td>\n",
       "      <td>'28007'</td>\n",
       "      <td>'M348934600'</td>\n",
       "      <td>'28007'</td>\n",
       "      <td>'es_transportation'</td>\n",
       "      <td>39.68</td>\n",
       "      <td>0</td>\n",
       "    </tr>\n",
       "    <tr>\n",
       "      <th>2</th>\n",
       "      <td>0</td>\n",
       "      <td>'C2054744914'</td>\n",
       "      <td>'4'</td>\n",
       "      <td>'F'</td>\n",
       "      <td>'28007'</td>\n",
       "      <td>'M1823072687'</td>\n",
       "      <td>'28007'</td>\n",
       "      <td>'es_transportation'</td>\n",
       "      <td>26.89</td>\n",
       "      <td>0</td>\n",
       "    </tr>\n",
       "    <tr>\n",
       "      <th>3</th>\n",
       "      <td>0</td>\n",
       "      <td>'C1760612790'</td>\n",
       "      <td>'3'</td>\n",
       "      <td>'M'</td>\n",
       "      <td>'28007'</td>\n",
       "      <td>'M348934600'</td>\n",
       "      <td>'28007'</td>\n",
       "      <td>'es_transportation'</td>\n",
       "      <td>17.25</td>\n",
       "      <td>0</td>\n",
       "    </tr>\n",
       "    <tr>\n",
       "      <th>4</th>\n",
       "      <td>0</td>\n",
       "      <td>'C757503768'</td>\n",
       "      <td>'5'</td>\n",
       "      <td>'M'</td>\n",
       "      <td>'28007'</td>\n",
       "      <td>'M348934600'</td>\n",
       "      <td>'28007'</td>\n",
       "      <td>'es_transportation'</td>\n",
       "      <td>35.72</td>\n",
       "      <td>0</td>\n",
       "    </tr>\n",
       "  </tbody>\n",
       "</table>\n",
       "</div>"
      ],
      "text/plain": [
       "   step       customer  age gender zipcodeOri       merchant zipMerchant  \\\n",
       "0     0  'C1093826151'  '4'    'M'    '28007'   'M348934600'     '28007'   \n",
       "1     0   'C352968107'  '2'    'M'    '28007'   'M348934600'     '28007'   \n",
       "2     0  'C2054744914'  '4'    'F'    '28007'  'M1823072687'     '28007'   \n",
       "3     0  'C1760612790'  '3'    'M'    '28007'   'M348934600'     '28007'   \n",
       "4     0   'C757503768'  '5'    'M'    '28007'   'M348934600'     '28007'   \n",
       "\n",
       "              category  amount  fraud  \n",
       "0  'es_transportation'    4.55      0  \n",
       "1  'es_transportation'   39.68      0  \n",
       "2  'es_transportation'   26.89      0  \n",
       "3  'es_transportation'   17.25      0  \n",
       "4  'es_transportation'   35.72      0  "
      ]
     },
     "execution_count": 3,
     "metadata": {},
     "output_type": "execute_result"
    }
   ],
   "source": [
    "# Importando a base referente ás transações e caracteristicas do cliente\n",
    "path = 'datasets/credit_fraud_bs.csv'\n",
    "df = pd.read_csv(path)\n",
    "\n",
    "# Importando a base referente somente\n",
    "# path_net = 'datasets/credit_fraud_bs_net.csv'\n",
    "# df_net   = pd.read_csv(path_net)\n",
    "\n",
    "df.head()"
   ]
  },
  {
   "cell_type": "code",
   "execution_count": 4,
   "metadata": {},
   "outputs": [
    {
     "name": "stdout",
     "output_type": "stream",
     "text": [
      "<class 'pandas.core.frame.DataFrame'>\n",
      "RangeIndex: 594643 entries, 0 to 594642\n",
      "Data columns (total 10 columns):\n",
      " #   Column       Non-Null Count   Dtype  \n",
      "---  ------       --------------   -----  \n",
      " 0   step         594643 non-null  int64  \n",
      " 1   customer     594643 non-null  object \n",
      " 2   age          594643 non-null  object \n",
      " 3   gender       594643 non-null  object \n",
      " 4   zipcodeOri   594643 non-null  object \n",
      " 5   merchant     594643 non-null  object \n",
      " 6   zipMerchant  594643 non-null  object \n",
      " 7   category     594643 non-null  object \n",
      " 8   amount       594643 non-null  float64\n",
      " 9   fraud        594643 non-null  int64  \n",
      "dtypes: float64(1), int64(2), object(7)\n",
      "memory usage: 45.4+ MB\n"
     ]
    }
   ],
   "source": [
    "df.info()"
   ]
  },
  {
   "cell_type": "markdown",
   "metadata": {
    "heading_collapsed": true
   },
   "source": [
    "## 2.0 EDA\n",
    "\n",
    "##### Tópicos estudados:\n",
    "\n",
    "\n",
    "- 2.1 [Metadados](#2.1-Metadados)\n",
    "- 2.2 [Estatistica Descritiva](#2.3-Estatistica-Descritiva)\n",
    "- 2.3 [Descrição das Features](#2.4-Agrupando-pelo-target)\n",
    "- 2.4 [Agrupando pelo target](#2.4-Agrupando-pelo-target)\n"
   ]
  },
  {
   "cell_type": "markdown",
   "metadata": {
    "heading_collapsed": true,
    "hidden": true
   },
   "source": [
    "### 2.2 Metadados\n",
    "\n",
    "**Data**\n",
    "As we can see in the first rows below the dataset has 9 feature columns and a target column. \n",
    "The feature columns are :\n",
    "\n",
    "* **Step**: This feature represents the day from the start of simulation. It has 180 steps so simulation ran for virtually 6 months.\n",
    "\n",
    "* **Customer**: This feature represents the customer id. Categorical data we have more than 4000 unique costumers.\n",
    "\n",
    "* **Age**: Categorized age. In this feature.\n",
    "    * 0: <= 18, less than 18 years old\n",
    "    * 1: 19-25, between 19 and 25 years old\n",
    "    * 2: 26-35, between 26 and 35 years old\n",
    "    * 3: 36-45, between 36 and 45 years old\n",
    "    * 4: 46:55, between 46 and 55 years old\n",
    "    * 5: 56:65, between 56 and 65 years old\n",
    "    * 6: > 65 , older than 65 years old\n",
    "    * U: Unknown\n",
    "    \n",
    "    \n",
    "\n",
    "* **Gender**: Gender for customer. The Unknown group has around 170 customers.\n",
    "\n",
    "     * E : Enterprise,\n",
    "     * F: Female,\n",
    "     * M: Male,\n",
    "     * U: Unknown\n",
    "     \n",
    "\n",
    "* **zipCodeOrigin**: The zip code of origin/source.\n",
    "* **zipMerchant**: The merchant's zip code.\n",
    "\n",
    "These two features were removed from the dataset, as they contained a constant value wich is a postal code of one single place.\n",
    "\n",
    "* **Merchant**: The merchant's id. We have 50 uniques merchants in this field of categorical values.\n",
    "     \n",
    "* **Category**: Category of the purchase. We have 15 uniques categorical that label represents the categorical type of product purchased.\n",
    "\n",
    "    * 'es_barsandrestaurants' \n",
    "    * 'es_contents' \n",
    "    * 'es_fashion'              \n",
    "    * 'es_food'                  \n",
    "    * 'es_health'               \n",
    "    * 'es_home'                 \n",
    "    * 'es_hotelservices'        \n",
    "    * 'es_hyper'                 \n",
    "    * 'es_leisure'              \n",
    "    * 'es_otherservices'        \n",
    "    * 'es_sportsandtoys'        \n",
    "    * 'es_tech'                 \n",
    "    * 'es_transportation'       \n",
    "    * 'es_travel'  \n",
    "    * 'es_wellnessandbeauty' \n",
    "\n",
    "\n",
    "* **Amount**: Amount of the purchase. Is this field we have only positive numbers and 52 values equal to 0.\n",
    "\n",
    "* **Fraud**: Target variable which shows if the transaction fraudulent(1) or benign(0)"
   ]
  },
  {
   "cell_type": "code",
   "execution_count": 7,
   "metadata": {
    "hidden": true
   },
   "outputs": [
    {
     "name": "stdout",
     "output_type": "stream",
     "text": [
      "<class 'pandas.core.frame.DataFrame'>\n",
      "RangeIndex: 594643 entries, 0 to 594642\n",
      "Data columns (total 10 columns):\n",
      " #   Column       Non-Null Count   Dtype  \n",
      "---  ------       --------------   -----  \n",
      " 0   step         594643 non-null  int64  \n",
      " 1   customer     594643 non-null  object \n",
      " 2   age          594643 non-null  float32\n",
      " 3   gender       594643 non-null  object \n",
      " 4   zipcodeOri   594643 non-null  object \n",
      " 5   merchant     594643 non-null  object \n",
      " 6   zipMerchant  594643 non-null  object \n",
      " 7   category     594643 non-null  object \n",
      " 8   amount       594643 non-null  float64\n",
      " 9   fraud        594643 non-null  int64  \n",
      "dtypes: float32(1), float64(1), int64(2), object(6)\n",
      "memory usage: 43.1+ MB\n"
     ]
    }
   ],
   "source": [
    "df.info()"
   ]
  },
  {
   "cell_type": "code",
   "execution_count": 10,
   "metadata": {
    "hidden": true
   },
   "outputs": [
    {
     "name": "stdout",
     "output_type": "stream",
     "text": [
      "Este conjunto de dados possui  10  colunas e  594643  linhas. Dessas estão representados 4112 clientes.\n",
      "\n"
     ]
    }
   ],
   "source": [
    "print('Este conjunto de dados possui ', df.shape[1],' colunas e ', df.shape[0], ' linhas. Dessas estão representados', len(set(df.customer))\n",
    "          , 'clientes.\\n')"
   ]
  },
  {
   "cell_type": "markdown",
   "metadata": {
    "heading_collapsed": true,
    "hidden": true
   },
   "source": [
    "### 2.3 Estatistica Descritiva"
   ]
  },
  {
   "cell_type": "markdown",
   "metadata": {
    "hidden": true
   },
   "source": [
    "Customer Describe"
   ]
  },
  {
   "cell_type": "code",
   "execution_count": 16,
   "metadata": {
    "hidden": true
   },
   "outputs": [
    {
     "data": {
      "text/html": [
       "<div>\n",
       "<style scoped>\n",
       "    .dataframe tbody tr th:only-of-type {\n",
       "        vertical-align: middle;\n",
       "    }\n",
       "\n",
       "    .dataframe tbody tr th {\n",
       "        vertical-align: top;\n",
       "    }\n",
       "\n",
       "    .dataframe thead th {\n",
       "        text-align: right;\n",
       "    }\n",
       "</style>\n",
       "<table border=\"1\" class=\"dataframe\">\n",
       "  <thead>\n",
       "    <tr style=\"text-align: right;\">\n",
       "      <th></th>\n",
       "      <th>step</th>\n",
       "      <th>customer</th>\n",
       "      <th>age</th>\n",
       "      <th>gender</th>\n",
       "      <th>zipcodeOri</th>\n",
       "      <th>merchant</th>\n",
       "      <th>zipMerchant</th>\n",
       "      <th>category</th>\n",
       "      <th>amount</th>\n",
       "      <th>fraud</th>\n",
       "    </tr>\n",
       "  </thead>\n",
       "  <tbody>\n",
       "    <tr>\n",
       "      <th>0</th>\n",
       "      <td>0</td>\n",
       "      <td>'C1093826151'</td>\n",
       "      <td>4.0</td>\n",
       "      <td>'M'</td>\n",
       "      <td>'28007'</td>\n",
       "      <td>'M348934600'</td>\n",
       "      <td>'28007'</td>\n",
       "      <td>'es_transportation'</td>\n",
       "      <td>4.55</td>\n",
       "      <td>0</td>\n",
       "    </tr>\n",
       "    <tr>\n",
       "      <th>1</th>\n",
       "      <td>0</td>\n",
       "      <td>'C352968107'</td>\n",
       "      <td>2.0</td>\n",
       "      <td>'M'</td>\n",
       "      <td>'28007'</td>\n",
       "      <td>'M348934600'</td>\n",
       "      <td>'28007'</td>\n",
       "      <td>'es_transportation'</td>\n",
       "      <td>39.68</td>\n",
       "      <td>0</td>\n",
       "    </tr>\n",
       "    <tr>\n",
       "      <th>2</th>\n",
       "      <td>0</td>\n",
       "      <td>'C2054744914'</td>\n",
       "      <td>4.0</td>\n",
       "      <td>'F'</td>\n",
       "      <td>'28007'</td>\n",
       "      <td>'M1823072687'</td>\n",
       "      <td>'28007'</td>\n",
       "      <td>'es_transportation'</td>\n",
       "      <td>26.89</td>\n",
       "      <td>0</td>\n",
       "    </tr>\n",
       "    <tr>\n",
       "      <th>3</th>\n",
       "      <td>0</td>\n",
       "      <td>'C1760612790'</td>\n",
       "      <td>3.0</td>\n",
       "      <td>'M'</td>\n",
       "      <td>'28007'</td>\n",
       "      <td>'M348934600'</td>\n",
       "      <td>'28007'</td>\n",
       "      <td>'es_transportation'</td>\n",
       "      <td>17.25</td>\n",
       "      <td>0</td>\n",
       "    </tr>\n",
       "    <tr>\n",
       "      <th>4</th>\n",
       "      <td>0</td>\n",
       "      <td>'C757503768'</td>\n",
       "      <td>5.0</td>\n",
       "      <td>'M'</td>\n",
       "      <td>'28007'</td>\n",
       "      <td>'M348934600'</td>\n",
       "      <td>'28007'</td>\n",
       "      <td>'es_transportation'</td>\n",
       "      <td>35.72</td>\n",
       "      <td>0</td>\n",
       "    </tr>\n",
       "  </tbody>\n",
       "</table>\n",
       "</div>"
      ],
      "text/plain": [
       "   step       customer  age gender zipcodeOri       merchant zipMerchant  \\\n",
       "0     0  'C1093826151'  4.0    'M'    '28007'   'M348934600'     '28007'   \n",
       "1     0   'C352968107'  2.0    'M'    '28007'   'M348934600'     '28007'   \n",
       "2     0  'C2054744914'  4.0    'F'    '28007'  'M1823072687'     '28007'   \n",
       "3     0  'C1760612790'  3.0    'M'    '28007'   'M348934600'     '28007'   \n",
       "4     0   'C757503768'  5.0    'M'    '28007'   'M348934600'     '28007'   \n",
       "\n",
       "              category  amount  fraud  \n",
       "0  'es_transportation'    4.55      0  \n",
       "1  'es_transportation'   39.68      0  \n",
       "2  'es_transportation'   26.89      0  \n",
       "3  'es_transportation'   17.25      0  \n",
       "4  'es_transportation'   35.72      0  "
      ]
     },
     "execution_count": 16,
     "metadata": {},
     "output_type": "execute_result"
    }
   ],
   "source": [
    "df.head()"
   ]
  },
  {
   "cell_type": "code",
   "execution_count": 117,
   "metadata": {
    "hidden": true
   },
   "outputs": [],
   "source": [
    "# Creating a column of unique customer id, age and gender\n",
    "customer = df[['customer','age', 'gender']].drop_duplicates()\n",
    "\n",
    "# Customer Grouped data about they behavior of transactions\n",
    "customer_grouped = df.groupby(['customer']).apply(lambda x: pd.Series(dict(sum_transactions     = ((x.amount.sum())) \n",
    "                                                                   ,qtd_transactions    = ((x.amount.count()))\n",
    "                                                                   ,mean_transactions   =  ((x.amount.mean())) \n",
    "                                                                   ,fraud_count         =  ((x.fraud.sum()))\n",
    "                                                                   ,percent_fraud       = ((x.fraud.sum()*100)/((x.amount.count())))\n",
    "                                                                   ,days_customer       = ((x.step.max())) ))).reset_index()\n",
    "\n",
    "# Join data about age and gender of this customers\n",
    "customer = pd.merge(customer, customer_grouped, on=['customer'], how = 'left')"
   ]
  },
  {
   "cell_type": "code",
   "execution_count": 156,
   "metadata": {
    "hidden": true
   },
   "outputs": [
    {
     "data": {
      "text/html": [
       "<div>\n",
       "<style scoped>\n",
       "    .dataframe tbody tr th:only-of-type {\n",
       "        vertical-align: middle;\n",
       "    }\n",
       "\n",
       "    .dataframe tbody tr th {\n",
       "        vertical-align: top;\n",
       "    }\n",
       "\n",
       "    .dataframe thead th {\n",
       "        text-align: right;\n",
       "    }\n",
       "</style>\n",
       "<table border=\"1\" class=\"dataframe\">\n",
       "  <thead>\n",
       "    <tr style=\"text-align: right;\">\n",
       "      <th></th>\n",
       "      <th>customer</th>\n",
       "      <th>age</th>\n",
       "      <th>gender</th>\n",
       "      <th>sum_transactions</th>\n",
       "      <th>qtd_transactions</th>\n",
       "      <th>mean_transactions</th>\n",
       "      <th>fraud_count</th>\n",
       "      <th>percent_fraud</th>\n",
       "      <th>days_customer</th>\n",
       "    </tr>\n",
       "  </thead>\n",
       "  <tbody>\n",
       "    <tr>\n",
       "      <th>3947</th>\n",
       "      <td>'C910454738'</td>\n",
       "      <td>4.0</td>\n",
       "      <td>'F'</td>\n",
       "      <td>37795.51</td>\n",
       "      <td>92.0</td>\n",
       "      <td>410.820761</td>\n",
       "      <td>87.0</td>\n",
       "      <td>94.565217</td>\n",
       "      <td>179.0</td>\n",
       "    </tr>\n",
       "    <tr>\n",
       "      <th>3523</th>\n",
       "      <td>'C2004941826'</td>\n",
       "      <td>2.0</td>\n",
       "      <td>'F'</td>\n",
       "      <td>64751.08</td>\n",
       "      <td>126.0</td>\n",
       "      <td>513.897460</td>\n",
       "      <td>119.0</td>\n",
       "      <td>94.444444</td>\n",
       "      <td>176.0</td>\n",
       "    </tr>\n",
       "    <tr>\n",
       "      <th>3092</th>\n",
       "      <td>'C381007057'</td>\n",
       "      <td>1.0</td>\n",
       "      <td>'F'</td>\n",
       "      <td>51388.87</td>\n",
       "      <td>100.0</td>\n",
       "      <td>513.888700</td>\n",
       "      <td>89.0</td>\n",
       "      <td>89.000000</td>\n",
       "      <td>179.0</td>\n",
       "    </tr>\n",
       "    <tr>\n",
       "      <th>2855</th>\n",
       "      <td>'C1572610482'</td>\n",
       "      <td>3.0</td>\n",
       "      <td>'F'</td>\n",
       "      <td>58687.13</td>\n",
       "      <td>101.0</td>\n",
       "      <td>581.060693</td>\n",
       "      <td>89.0</td>\n",
       "      <td>88.118812</td>\n",
       "      <td>173.0</td>\n",
       "    </tr>\n",
       "    <tr>\n",
       "      <th>3083</th>\n",
       "      <td>'C617723960'</td>\n",
       "      <td>4.0</td>\n",
       "      <td>'F'</td>\n",
       "      <td>23823.87</td>\n",
       "      <td>46.0</td>\n",
       "      <td>517.910217</td>\n",
       "      <td>40.0</td>\n",
       "      <td>86.956522</td>\n",
       "      <td>179.0</td>\n",
       "    </tr>\n",
       "    <tr>\n",
       "      <th>3572</th>\n",
       "      <td>'C2113737065'</td>\n",
       "      <td>2.0</td>\n",
       "      <td>'F'</td>\n",
       "      <td>39340.93</td>\n",
       "      <td>91.0</td>\n",
       "      <td>432.317912</td>\n",
       "      <td>79.0</td>\n",
       "      <td>86.813187</td>\n",
       "      <td>179.0</td>\n",
       "    </tr>\n",
       "    <tr>\n",
       "      <th>3735</th>\n",
       "      <td>'C2060410910'</td>\n",
       "      <td>2.0</td>\n",
       "      <td>'F'</td>\n",
       "      <td>7305.33</td>\n",
       "      <td>13.0</td>\n",
       "      <td>561.948462</td>\n",
       "      <td>11.0</td>\n",
       "      <td>84.615385</td>\n",
       "      <td>177.0</td>\n",
       "    </tr>\n",
       "    <tr>\n",
       "      <th>2954</th>\n",
       "      <td>'C483912131'</td>\n",
       "      <td>2.0</td>\n",
       "      <td>'F'</td>\n",
       "      <td>50462.72</td>\n",
       "      <td>98.0</td>\n",
       "      <td>514.925714</td>\n",
       "      <td>80.0</td>\n",
       "      <td>81.632653</td>\n",
       "      <td>179.0</td>\n",
       "    </tr>\n",
       "  </tbody>\n",
       "</table>\n",
       "</div>"
      ],
      "text/plain": [
       "           customer  age gender  sum_transactions  qtd_transactions  \\\n",
       "3947   'C910454738'  4.0    'F'          37795.51              92.0   \n",
       "3523  'C2004941826'  2.0    'F'          64751.08             126.0   \n",
       "3092   'C381007057'  1.0    'F'          51388.87             100.0   \n",
       "2855  'C1572610482'  3.0    'F'          58687.13             101.0   \n",
       "3083   'C617723960'  4.0    'F'          23823.87              46.0   \n",
       "3572  'C2113737065'  2.0    'F'          39340.93              91.0   \n",
       "3735  'C2060410910'  2.0    'F'           7305.33              13.0   \n",
       "2954   'C483912131'  2.0    'F'          50462.72              98.0   \n",
       "\n",
       "      mean_transactions  fraud_count  percent_fraud  days_customer  \n",
       "3947         410.820761         87.0      94.565217          179.0  \n",
       "3523         513.897460        119.0      94.444444          176.0  \n",
       "3092         513.888700         89.0      89.000000          179.0  \n",
       "2855         581.060693         89.0      88.118812          173.0  \n",
       "3083         517.910217         40.0      86.956522          179.0  \n",
       "3572         432.317912         79.0      86.813187          179.0  \n",
       "3735         561.948462         11.0      84.615385          177.0  \n",
       "2954         514.925714         80.0      81.632653          179.0  "
      ]
     },
     "execution_count": 156,
     "metadata": {},
     "output_type": "execute_result"
    }
   ],
   "source": [
    "customer.sort_values('percent_fraud', ascending=False).head(8)"
   ]
  },
  {
   "cell_type": "code",
   "execution_count": 129,
   "metadata": {
    "hidden": true
   },
   "outputs": [
    {
     "data": {
      "text/html": [
       "<div>\n",
       "<style scoped>\n",
       "    .dataframe tbody tr th:only-of-type {\n",
       "        vertical-align: middle;\n",
       "    }\n",
       "\n",
       "    .dataframe tbody tr th {\n",
       "        vertical-align: top;\n",
       "    }\n",
       "\n",
       "    .dataframe thead th {\n",
       "        text-align: right;\n",
       "    }\n",
       "</style>\n",
       "<table border=\"1\" class=\"dataframe\">\n",
       "  <thead>\n",
       "    <tr style=\"text-align: right;\">\n",
       "      <th></th>\n",
       "      <th>age</th>\n",
       "      <th>sum_transactions</th>\n",
       "      <th>qtd_transactions</th>\n",
       "      <th>mean_transactions</th>\n",
       "      <th>fraud_count</th>\n",
       "      <th>percent_fraud</th>\n",
       "      <th>days_customer</th>\n",
       "    </tr>\n",
       "  </thead>\n",
       "  <tbody>\n",
       "    <tr>\n",
       "      <th>count</th>\n",
       "      <td>4112.000000</td>\n",
       "      <td>4112.000000</td>\n",
       "      <td>4112.000000</td>\n",
       "      <td>4112.000000</td>\n",
       "      <td>4112.000000</td>\n",
       "      <td>4112.000000</td>\n",
       "      <td>4112.000000</td>\n",
       "    </tr>\n",
       "    <tr>\n",
       "      <th>mean</th>\n",
       "      <td>3.005836</td>\n",
       "      <td>5479.354020</td>\n",
       "      <td>144.611625</td>\n",
       "      <td>45.335268</td>\n",
       "      <td>1.750973</td>\n",
       "      <td>2.346914</td>\n",
       "      <td>178.003648</td>\n",
       "    </tr>\n",
       "    <tr>\n",
       "      <th>std</th>\n",
       "      <td>1.335827</td>\n",
       "      <td>3632.061392</td>\n",
       "      <td>42.788212</td>\n",
       "      <td>48.922168</td>\n",
       "      <td>7.053622</td>\n",
       "      <td>8.153240</td>\n",
       "      <td>5.032102</td>\n",
       "    </tr>\n",
       "    <tr>\n",
       "      <th>min</th>\n",
       "      <td>0.000000</td>\n",
       "      <td>390.570000</td>\n",
       "      <td>5.000000</td>\n",
       "      <td>23.372024</td>\n",
       "      <td>0.000000</td>\n",
       "      <td>0.000000</td>\n",
       "      <td>74.000000</td>\n",
       "    </tr>\n",
       "    <tr>\n",
       "      <th>25%</th>\n",
       "      <td>2.000000</td>\n",
       "      <td>4600.510000</td>\n",
       "      <td>130.000000</td>\n",
       "      <td>30.215169</td>\n",
       "      <td>0.000000</td>\n",
       "      <td>0.000000</td>\n",
       "      <td>179.000000</td>\n",
       "    </tr>\n",
       "    <tr>\n",
       "      <th>50%</th>\n",
       "      <td>3.000000</td>\n",
       "      <td>5159.210000</td>\n",
       "      <td>165.000000</td>\n",
       "      <td>32.631427</td>\n",
       "      <td>0.000000</td>\n",
       "      <td>0.000000</td>\n",
       "      <td>179.000000</td>\n",
       "    </tr>\n",
       "    <tr>\n",
       "      <th>75%</th>\n",
       "      <td>4.000000</td>\n",
       "      <td>5706.340000</td>\n",
       "      <td>173.000000</td>\n",
       "      <td>38.249849</td>\n",
       "      <td>2.000000</td>\n",
       "      <td>1.298701</td>\n",
       "      <td>179.000000</td>\n",
       "    </tr>\n",
       "    <tr>\n",
       "      <th>max</th>\n",
       "      <td>7.000000</td>\n",
       "      <td>83755.490000</td>\n",
       "      <td>265.000000</td>\n",
       "      <td>838.158333</td>\n",
       "      <td>144.000000</td>\n",
       "      <td>94.565217</td>\n",
       "      <td>179.000000</td>\n",
       "    </tr>\n",
       "  </tbody>\n",
       "</table>\n",
       "</div>"
      ],
      "text/plain": [
       "               age  sum_transactions  qtd_transactions  mean_transactions  \\\n",
       "count  4112.000000       4112.000000       4112.000000        4112.000000   \n",
       "mean      3.005836       5479.354020        144.611625          45.335268   \n",
       "std       1.335827       3632.061392         42.788212          48.922168   \n",
       "min       0.000000        390.570000          5.000000          23.372024   \n",
       "25%       2.000000       4600.510000        130.000000          30.215169   \n",
       "50%       3.000000       5159.210000        165.000000          32.631427   \n",
       "75%       4.000000       5706.340000        173.000000          38.249849   \n",
       "max       7.000000      83755.490000        265.000000         838.158333   \n",
       "\n",
       "       fraud_count  percent_fraud  days_customer  \n",
       "count  4112.000000    4112.000000    4112.000000  \n",
       "mean      1.750973       2.346914     178.003648  \n",
       "std       7.053622       8.153240       5.032102  \n",
       "min       0.000000       0.000000      74.000000  \n",
       "25%       0.000000       0.000000     179.000000  \n",
       "50%       0.000000       0.000000     179.000000  \n",
       "75%       2.000000       1.298701     179.000000  \n",
       "max     144.000000      94.565217     179.000000  "
      ]
     },
     "execution_count": 129,
     "metadata": {},
     "output_type": "execute_result"
    }
   ],
   "source": [
    "# Qual o perfil do nosso cliente?\n",
    "customer.describe()"
   ]
  },
  {
   "cell_type": "markdown",
   "metadata": {
    "hidden": true
   },
   "source": [
    "So here we get some important initial information, the clients have in mean **144 transactions** and each transaction have the mean cost of **45**. Another important information is: **More than 50% of clients dont have fraudlent transactions in they transactions.**"
   ]
  },
  {
   "cell_type": "code",
   "execution_count": 121,
   "metadata": {
    "hidden": true
   },
   "outputs": [
    {
     "data": {
      "image/png": "[encoded data removed]",
      "text/plain": [
       "<Figure size 360x360 with 1 Axes>"
      ]
     },
     "metadata": {},
     "output_type": "display_data"
    }
   ],
   "source": [
    "# Idade\n",
    "sns.displot(data=customer, x=\"age\", kde=True);"
   ]
  },
  {
   "cell_type": "code",
   "execution_count": 128,
   "metadata": {
    "hidden": true
   },
   "outputs": [
    {
     "data": {
      "image/png": "[encoded data removed]",
      "text/plain": [
       "<Figure size 360x360 with 1 Axes>"
      ]
     },
     "metadata": {},
     "output_type": "display_data"
    }
   ],
   "source": [
    "# Gender Distribution\n",
    "\n",
    "sns.displot(data=customer, x=\"gender\");"
   ]
  },
  {
   "cell_type": "code",
   "execution_count": 148,
   "metadata": {
    "hidden": true
   },
   "outputs": [
    {
     "data": {
      "image/png": "[encoded data removed]",
      "text/plain": [
       "<Figure size 648x648 with 12 Axes>"
      ]
     },
     "metadata": {},
     "output_type": "display_data"
    }
   ],
   "source": [
    "# Pair Plot para investigar varias distribuições em uma só visualização\n",
    "# Utilizada para teste\n",
    "sns.set()\n",
    "cols = ['age','sum_transactions', 'days_customer']\n",
    "\n",
    "sns.pairplot(data = customer[cols], size = 3)\n",
    "plt.show()"
   ]
  },
  {
   "cell_type": "code",
   "execution_count": 105,
   "metadata": {
    "hidden": true
   },
   "outputs": [
    {
     "data": {
      "image/png": "[encoded data removed]",
      "text/plain": [
       "<Figure size 432x288 with 1 Axes>"
      ]
     },
     "metadata": {},
     "output_type": "display_data"
    }
   ],
   "source": [
    "# Média de transações por idade\n",
    "sns.barplot(x=\"age\", y=\"mean_transactions\", data=customer);"
   ]
  },
  {
   "cell_type": "code",
   "execution_count": 97,
   "metadata": {
    "hidden": true
   },
   "outputs": [
    {
     "data": {
      "image/png": "[encoded data removed]",
      "text/plain": [
       "<Figure size 360x360 with 1 Axes>"
      ]
     },
     "metadata": {},
     "output_type": "display_data"
    }
   ],
   "source": [
    "# Genero\n",
    "\n",
    "sns.displot(data=customer, x=\"gender\");"
   ]
  },
  {
   "cell_type": "code",
   "execution_count": 136,
   "metadata": {
    "hidden": true
   },
   "outputs": [
    {
     "data": {
      "image/png": "[encoded data removed]",
      "text/plain": [
       "<Figure size 413.1x360 with 1 Axes>"
      ]
     },
     "metadata": {},
     "output_type": "display_data"
    }
   ],
   "source": [
    "# qtd_transactions\n",
    "\n",
    "sns.displot(data=customer, x=\"qtd_transactions\", hue='gender');"
   ]
  },
  {
   "cell_type": "code",
   "execution_count": 137,
   "metadata": {
    "hidden": true
   },
   "outputs": [
    {
     "data": {
      "text/plain": [
       "(500.0, 9000.0)"
      ]
     },
     "execution_count": 137,
     "metadata": {},
     "output_type": "execute_result"
    },
    {
     "data": {
      "image/png": "[encoded data removed]",
      "text/plain": [
       "<Figure size 413.1x360 with 1 Axes>"
      ]
     },
     "metadata": {},
     "output_type": "display_data"
    }
   ],
   "source": [
    "# qtd_transactions\n",
    "\n",
    "sns.displot(data=customer, x=\"sum_transactions\", hue='gender');\n",
    "plt.ylim(0,200)\n",
    "plt.xlim(500,9000)"
   ]
  },
  {
   "cell_type": "markdown",
   "metadata": {
    "hidden": true
   },
   "source": [
    "Perfil x Fraude"
   ]
  },
  {
   "cell_type": "markdown",
   "metadata": {
    "hidden": true
   },
   "source": [
    "* Customer Transactions Behavior"
   ]
  },
  {
   "cell_type": "code",
   "execution_count": 149,
   "metadata": {
    "hidden": true
   },
   "outputs": [],
   "source": [
    "# Onde os nossos clientes compram? por merchant id\n",
    "merchant_group = df.groupby(['merchant']).\\\n",
    "                            apply(lambda x: pd.Series(dict(soma_transacoes     = ((x.amount.sum())) \n",
    "                                                           ,qtnde_transacoes   = ((x.amount.count()))\n",
    "                                                           ,media_transacoes   =  ((x.amount.mean())) \n",
    "                                                           ,contagem_fraude    =  ((x.fraud.sum()))\n",
    "                                                           ,porcentagem_fraude =  ((x.fraud.sum()/x.fraud.count()*100))\n",
    "                                                           ,media_fraude       =  ((x[x.fraud == 1].amount.mean())) \n",
    "                                                           ,media_nao_fraude   =  ((x[x.fraud == 0].amount.mean())) \n",
    "                                                          ))).reset_index()\n"
   ]
  },
  {
   "cell_type": "code",
   "execution_count": 168,
   "metadata": {
    "hidden": true,
    "scrolled": true
   },
   "outputs": [
    {
     "data": {
      "text/html": [
       "<div>\n",
       "<style scoped>\n",
       "    .dataframe tbody tr th:only-of-type {\n",
       "        vertical-align: middle;\n",
       "    }\n",
       "\n",
       "    .dataframe tbody tr th {\n",
       "        vertical-align: top;\n",
       "    }\n",
       "\n",
       "    .dataframe thead th {\n",
       "        text-align: right;\n",
       "    }\n",
       "</style>\n",
       "<table border=\"1\" class=\"dataframe\">\n",
       "  <thead>\n",
       "    <tr style=\"text-align: right;\">\n",
       "      <th></th>\n",
       "      <th>merchant</th>\n",
       "      <th>soma_transacoes</th>\n",
       "      <th>qtnde_transacoes</th>\n",
       "      <th>media_transacoes</th>\n",
       "      <th>contagem_fraude</th>\n",
       "      <th>porcentagem_fraude</th>\n",
       "      <th>media_fraude</th>\n",
       "      <th>media_nao_fraude</th>\n",
       "    </tr>\n",
       "  </thead>\n",
       "  <tbody>\n",
       "    <tr>\n",
       "      <th>3</th>\n",
       "      <td>'M1294758098'</td>\n",
       "      <td>55326.42</td>\n",
       "      <td>191.0</td>\n",
       "      <td>289.667120</td>\n",
       "      <td>184.0</td>\n",
       "      <td>96.335079</td>\n",
       "      <td>297.871413</td>\n",
       "      <td>74.011429</td>\n",
       "    </tr>\n",
       "    <tr>\n",
       "      <th>32</th>\n",
       "      <td>'M3697346'</td>\n",
       "      <td>88840.32</td>\n",
       "      <td>308.0</td>\n",
       "      <td>288.442597</td>\n",
       "      <td>290.0</td>\n",
       "      <td>94.155844</td>\n",
       "      <td>301.819448</td>\n",
       "      <td>72.926667</td>\n",
       "    </tr>\n",
       "    <tr>\n",
       "      <th>21</th>\n",
       "      <td>'M1873032707'</td>\n",
       "      <td>94059.33</td>\n",
       "      <td>250.0</td>\n",
       "      <td>376.237320</td>\n",
       "      <td>216.0</td>\n",
       "      <td>86.400000</td>\n",
       "      <td>419.692963</td>\n",
       "      <td>100.166176</td>\n",
       "    </tr>\n",
       "    <tr>\n",
       "      <th>40</th>\n",
       "      <td>'M732195782'</td>\n",
       "      <td>1413661.65</td>\n",
       "      <td>608.0</td>\n",
       "      <td>2325.101398</td>\n",
       "      <td>518.0</td>\n",
       "      <td>85.197368</td>\n",
       "      <td>2608.068166</td>\n",
       "      <td>696.470444</td>\n",
       "    </tr>\n",
       "    <tr>\n",
       "      <th>49</th>\n",
       "      <td>'M980657600'</td>\n",
       "      <td>530635.69</td>\n",
       "      <td>1769.0</td>\n",
       "      <td>299.963646</td>\n",
       "      <td>1472.0</td>\n",
       "      <td>83.210854</td>\n",
       "      <td>343.282351</td>\n",
       "      <td>85.266229</td>\n",
       "    </tr>\n",
       "    <tr>\n",
       "      <th>6</th>\n",
       "      <td>'M1353266412'</td>\n",
       "      <td>29470.62</td>\n",
       "      <td>78.0</td>\n",
       "      <td>377.828462</td>\n",
       "      <td>64.0</td>\n",
       "      <td>82.051282</td>\n",
       "      <td>440.324531</td>\n",
       "      <td>92.132143</td>\n",
       "    </tr>\n",
       "    <tr>\n",
       "      <th>44</th>\n",
       "      <td>'M857378720'</td>\n",
       "      <td>43460.67</td>\n",
       "      <td>122.0</td>\n",
       "      <td>356.235000</td>\n",
       "      <td>92.0</td>\n",
       "      <td>75.409836</td>\n",
       "      <td>434.384457</td>\n",
       "      <td>116.576667</td>\n",
       "    </tr>\n",
       "    <tr>\n",
       "      <th>26</th>\n",
       "      <td>'M2080407379'</td>\n",
       "      <td>110376.59</td>\n",
       "      <td>48.0</td>\n",
       "      <td>2299.512292</td>\n",
       "      <td>36.0</td>\n",
       "      <td>75.000000</td>\n",
       "      <td>2877.316944</td>\n",
       "      <td>566.098333</td>\n",
       "    </tr>\n",
       "    <tr>\n",
       "      <th>25</th>\n",
       "      <td>'M2011752106'</td>\n",
       "      <td>78953.83</td>\n",
       "      <td>244.0</td>\n",
       "      <td>323.581270</td>\n",
       "      <td>166.0</td>\n",
       "      <td>68.032787</td>\n",
       "      <td>423.171807</td>\n",
       "      <td>111.632179</td>\n",
       "    </tr>\n",
       "    <tr>\n",
       "      <th>14</th>\n",
       "      <td>'M17379832'</td>\n",
       "      <td>70606.39</td>\n",
       "      <td>282.0</td>\n",
       "      <td>250.377270</td>\n",
       "      <td>178.0</td>\n",
       "      <td>63.120567</td>\n",
       "      <td>342.107416</td>\n",
       "      <td>93.377596</td>\n",
       "    </tr>\n",
       "  </tbody>\n",
       "</table>\n",
       "</div>"
      ],
      "text/plain": [
       "         merchant  soma_transacoes  qtnde_transacoes  media_transacoes  \\\n",
       "3   'M1294758098'         55326.42             191.0        289.667120   \n",
       "32     'M3697346'         88840.32             308.0        288.442597   \n",
       "21  'M1873032707'         94059.33             250.0        376.237320   \n",
       "40   'M732195782'       1413661.65             608.0       2325.101398   \n",
       "49   'M980657600'        530635.69            1769.0        299.963646   \n",
       "6   'M1353266412'         29470.62              78.0        377.828462   \n",
       "44   'M857378720'         43460.67             122.0        356.235000   \n",
       "26  'M2080407379'        110376.59              48.0       2299.512292   \n",
       "25  'M2011752106'         78953.83             244.0        323.581270   \n",
       "14    'M17379832'         70606.39             282.0        250.377270   \n",
       "\n",
       "    contagem_fraude  porcentagem_fraude  media_fraude  media_nao_fraude  \n",
       "3             184.0           96.335079    297.871413         74.011429  \n",
       "32            290.0           94.155844    301.819448         72.926667  \n",
       "21            216.0           86.400000    419.692963        100.166176  \n",
       "40            518.0           85.197368   2608.068166        696.470444  \n",
       "49           1472.0           83.210854    343.282351         85.266229  \n",
       "6              64.0           82.051282    440.324531         92.132143  \n",
       "44             92.0           75.409836    434.384457        116.576667  \n",
       "26             36.0           75.000000   2877.316944        566.098333  \n",
       "25            166.0           68.032787    423.171807        111.632179  \n",
       "14            178.0           63.120567    342.107416         93.377596  "
      ]
     },
     "execution_count": 168,
     "metadata": {},
     "output_type": "execute_result"
    }
   ],
   "source": [
    "merchant_group.sort_values(['porcentagem_fraude','soma_transacoes'], ascending = [False,False])[:10]"
   ]
  },
  {
   "cell_type": "code",
   "execution_count": 169,
   "metadata": {
    "hidden": true
   },
   "outputs": [
    {
     "data": {
      "text/html": [
       "<div>\n",
       "<style scoped>\n",
       "    .dataframe tbody tr th:only-of-type {\n",
       "        vertical-align: middle;\n",
       "    }\n",
       "\n",
       "    .dataframe tbody tr th {\n",
       "        vertical-align: top;\n",
       "    }\n",
       "\n",
       "    .dataframe thead th {\n",
       "        text-align: right;\n",
       "    }\n",
       "</style>\n",
       "<table border=\"1\" class=\"dataframe\">\n",
       "  <thead>\n",
       "    <tr style=\"text-align: right;\">\n",
       "      <th></th>\n",
       "      <th>merchant</th>\n",
       "      <th>soma_transacoes</th>\n",
       "      <th>qtnde_transacoes</th>\n",
       "      <th>media_transacoes</th>\n",
       "      <th>contagem_fraude</th>\n",
       "      <th>porcentagem_fraude</th>\n",
       "      <th>media_fraude</th>\n",
       "      <th>media_nao_fraude</th>\n",
       "    </tr>\n",
       "  </thead>\n",
       "  <tbody>\n",
       "    <tr>\n",
       "      <th>18</th>\n",
       "      <td>'M1823072687'</td>\n",
       "      <td>8077669.06</td>\n",
       "      <td>299693.0</td>\n",
       "      <td>26.953146</td>\n",
       "      <td>0.0</td>\n",
       "      <td>0.0</td>\n",
       "      <td>NaN</td>\n",
       "      <td>26.953146</td>\n",
       "    </tr>\n",
       "    <tr>\n",
       "      <th>30</th>\n",
       "      <td>'M348934600'</td>\n",
       "      <td>5539423.40</td>\n",
       "      <td>205426.0</td>\n",
       "      <td>26.965542</td>\n",
       "      <td>0.0</td>\n",
       "      <td>0.0</td>\n",
       "      <td>NaN</td>\n",
       "      <td>26.965542</td>\n",
       "    </tr>\n",
       "    <tr>\n",
       "      <th>45</th>\n",
       "      <td>'M85975013'</td>\n",
       "      <td>973246.41</td>\n",
       "      <td>26254.0</td>\n",
       "      <td>37.070405</td>\n",
       "      <td>0.0</td>\n",
       "      <td>0.0</td>\n",
       "      <td>NaN</td>\n",
       "      <td>37.070405</td>\n",
       "    </tr>\n",
       "    <tr>\n",
       "      <th>0</th>\n",
       "      <td>'M1053599405'</td>\n",
       "      <td>703056.31</td>\n",
       "      <td>6821.0</td>\n",
       "      <td>103.072322</td>\n",
       "      <td>0.0</td>\n",
       "      <td>0.0</td>\n",
       "      <td>NaN</td>\n",
       "      <td>103.072322</td>\n",
       "    </tr>\n",
       "    <tr>\n",
       "      <th>23</th>\n",
       "      <td>'M1913465890'</td>\n",
       "      <td>416513.34</td>\n",
       "      <td>3988.0</td>\n",
       "      <td>104.441660</td>\n",
       "      <td>0.0</td>\n",
       "      <td>0.0</td>\n",
       "      <td>NaN</td>\n",
       "      <td>104.441660</td>\n",
       "    </tr>\n",
       "    <tr>\n",
       "      <th>24</th>\n",
       "      <td>'M1946091778'</td>\n",
       "      <td>304913.51</td>\n",
       "      <td>5343.0</td>\n",
       "      <td>57.067848</td>\n",
       "      <td>0.0</td>\n",
       "      <td>0.0</td>\n",
       "      <td>NaN</td>\n",
       "      <td>57.067848</td>\n",
       "    </tr>\n",
       "    <tr>\n",
       "      <th>31</th>\n",
       "      <td>'M349281107'</td>\n",
       "      <td>178428.12</td>\n",
       "      <td>2881.0</td>\n",
       "      <td>61.932704</td>\n",
       "      <td>0.0</td>\n",
       "      <td>0.0</td>\n",
       "      <td>NaN</td>\n",
       "      <td>61.932704</td>\n",
       "    </tr>\n",
       "    <tr>\n",
       "      <th>11</th>\n",
       "      <td>'M1600850729'</td>\n",
       "      <td>165544.75</td>\n",
       "      <td>2624.0</td>\n",
       "      <td>63.088700</td>\n",
       "      <td>0.0</td>\n",
       "      <td>0.0</td>\n",
       "      <td>NaN</td>\n",
       "      <td>63.088700</td>\n",
       "    </tr>\n",
       "    <tr>\n",
       "      <th>7</th>\n",
       "      <td>'M1400236507'</td>\n",
       "      <td>90107.38</td>\n",
       "      <td>776.0</td>\n",
       "      <td>116.117758</td>\n",
       "      <td>0.0</td>\n",
       "      <td>0.0</td>\n",
       "      <td>NaN</td>\n",
       "      <td>116.117758</td>\n",
       "    </tr>\n",
       "    <tr>\n",
       "      <th>19</th>\n",
       "      <td>'M1842530320'</td>\n",
       "      <td>74789.59</td>\n",
       "      <td>751.0</td>\n",
       "      <td>99.586671</td>\n",
       "      <td>0.0</td>\n",
       "      <td>0.0</td>\n",
       "      <td>NaN</td>\n",
       "      <td>99.586671</td>\n",
       "    </tr>\n",
       "  </tbody>\n",
       "</table>\n",
       "</div>"
      ],
      "text/plain": [
       "         merchant  soma_transacoes  qtnde_transacoes  media_transacoes  \\\n",
       "18  'M1823072687'       8077669.06          299693.0         26.953146   \n",
       "30   'M348934600'       5539423.40          205426.0         26.965542   \n",
       "45    'M85975013'        973246.41           26254.0         37.070405   \n",
       "0   'M1053599405'        703056.31            6821.0        103.072322   \n",
       "23  'M1913465890'        416513.34            3988.0        104.441660   \n",
       "24  'M1946091778'        304913.51            5343.0         57.067848   \n",
       "31   'M349281107'        178428.12            2881.0         61.932704   \n",
       "11  'M1600850729'        165544.75            2624.0         63.088700   \n",
       "7   'M1400236507'         90107.38             776.0        116.117758   \n",
       "19  'M1842530320'         74789.59             751.0         99.586671   \n",
       "\n",
       "    contagem_fraude  porcentagem_fraude  media_fraude  media_nao_fraude  \n",
       "18              0.0                 0.0           NaN         26.953146  \n",
       "30              0.0                 0.0           NaN         26.965542  \n",
       "45              0.0                 0.0           NaN         37.070405  \n",
       "0               0.0                 0.0           NaN        103.072322  \n",
       "23              0.0                 0.0           NaN        104.441660  \n",
       "24              0.0                 0.0           NaN         57.067848  \n",
       "31              0.0                 0.0           NaN         61.932704  \n",
       "11              0.0                 0.0           NaN         63.088700  \n",
       "7               0.0                 0.0           NaN        116.117758  \n",
       "19              0.0                 0.0           NaN         99.586671  "
      ]
     },
     "execution_count": 169,
     "metadata": {},
     "output_type": "execute_result"
    }
   ],
   "source": [
    "merchant_group.sort_values(['porcentagem_fraude','soma_transacoes'], ascending = [True,False])[:10]"
   ]
  },
  {
   "cell_type": "markdown",
   "metadata": {
    "hidden": true
   },
   "source": [
    "Agrupando pelo target"
   ]
  },
  {
   "cell_type": "code",
   "execution_count": 9,
   "metadata": {
    "hidden": true
   },
   "outputs": [
    {
     "data": {
      "text/html": [
       "<div>\n",
       "<style scoped>\n",
       "    .dataframe tbody tr th:only-of-type {\n",
       "        vertical-align: middle;\n",
       "    }\n",
       "\n",
       "    .dataframe tbody tr th {\n",
       "        vertical-align: top;\n",
       "    }\n",
       "\n",
       "    .dataframe thead th {\n",
       "        text-align: right;\n",
       "    }\n",
       "</style>\n",
       "<table border=\"1\" class=\"dataframe\">\n",
       "  <thead>\n",
       "    <tr style=\"text-align: right;\">\n",
       "      <th></th>\n",
       "      <th>step</th>\n",
       "      <th>amount</th>\n",
       "      <th>fraud</th>\n",
       "    </tr>\n",
       "  </thead>\n",
       "  <tbody>\n",
       "    <tr>\n",
       "      <th>count</th>\n",
       "      <td>7200.000000</td>\n",
       "      <td>7200.000000</td>\n",
       "      <td>7200.0</td>\n",
       "    </tr>\n",
       "    <tr>\n",
       "      <th>mean</th>\n",
       "      <td>89.500000</td>\n",
       "      <td>530.926551</td>\n",
       "      <td>1.0</td>\n",
       "    </tr>\n",
       "    <tr>\n",
       "      <th>std</th>\n",
       "      <td>51.964331</td>\n",
       "      <td>835.587112</td>\n",
       "      <td>0.0</td>\n",
       "    </tr>\n",
       "    <tr>\n",
       "      <th>min</th>\n",
       "      <td>0.000000</td>\n",
       "      <td>0.030000</td>\n",
       "      <td>1.0</td>\n",
       "    </tr>\n",
       "    <tr>\n",
       "      <th>25%</th>\n",
       "      <td>44.750000</td>\n",
       "      <td>159.980000</td>\n",
       "      <td>1.0</td>\n",
       "    </tr>\n",
       "    <tr>\n",
       "      <th>50%</th>\n",
       "      <td>89.500000</td>\n",
       "      <td>319.175000</td>\n",
       "      <td>1.0</td>\n",
       "    </tr>\n",
       "    <tr>\n",
       "      <th>75%</th>\n",
       "      <td>134.250000</td>\n",
       "      <td>548.977500</td>\n",
       "      <td>1.0</td>\n",
       "    </tr>\n",
       "    <tr>\n",
       "      <th>max</th>\n",
       "      <td>179.000000</td>\n",
       "      <td>8329.960000</td>\n",
       "      <td>1.0</td>\n",
       "    </tr>\n",
       "  </tbody>\n",
       "</table>\n",
       "</div>"
      ],
      "text/plain": [
       "              step       amount   fraud\n",
       "count  7200.000000  7200.000000  7200.0\n",
       "mean     89.500000   530.926551     1.0\n",
       "std      51.964331   835.587112     0.0\n",
       "min       0.000000     0.030000     1.0\n",
       "25%      44.750000   159.980000     1.0\n",
       "50%      89.500000   319.175000     1.0\n",
       "75%     134.250000   548.977500     1.0\n",
       "max     179.000000  8329.960000     1.0"
      ]
     },
     "execution_count": 9,
     "metadata": {},
     "output_type": "execute_result"
    }
   ],
   "source": [
    "# Description of transactions that have been identified as fraud\n",
    "\n",
    "df[df.fraud == 1].describe()"
   ]
  },
  {
   "cell_type": "code",
   "execution_count": 147,
   "metadata": {
    "hidden": true
   },
   "outputs": [
    {
     "data": {
      "text/html": [
       "<div>\n",
       "<style scoped>\n",
       "    .dataframe tbody tr th:only-of-type {\n",
       "        vertical-align: middle;\n",
       "    }\n",
       "\n",
       "    .dataframe tbody tr th {\n",
       "        vertical-align: top;\n",
       "    }\n",
       "\n",
       "    .dataframe thead th {\n",
       "        text-align: right;\n",
       "    }\n",
       "</style>\n",
       "<table border=\"1\" class=\"dataframe\">\n",
       "  <thead>\n",
       "    <tr style=\"text-align: right;\">\n",
       "      <th></th>\n",
       "      <th>fraud</th>\n",
       "      <th>soma_transacoes</th>\n",
       "      <th>media_transacoes</th>\n",
       "    </tr>\n",
       "  </thead>\n",
       "  <tbody>\n",
       "    <tr>\n",
       "      <th>0</th>\n",
       "      <td>0</td>\n",
       "      <td>18708432.56</td>\n",
       "      <td>31.847230</td>\n",
       "    </tr>\n",
       "    <tr>\n",
       "      <th>1</th>\n",
       "      <td>1</td>\n",
       "      <td>3822671.17</td>\n",
       "      <td>530.926551</td>\n",
       "    </tr>\n",
       "  </tbody>\n",
       "</table>\n",
       "</div>"
      ],
      "text/plain": [
       "   fraud  soma_transacoes  media_transacoes\n",
       "0      0      18708432.56         31.847230\n",
       "1      1       3822671.17        530.926551"
      ]
     },
     "execution_count": 147,
     "metadata": {},
     "output_type": "execute_result"
    }
   ],
   "source": [
    "df_grouped = df.groupby(['fraud']).\\\n",
    "                            apply(lambda x: pd.Series(dict(soma_transacoes     = ((x.amount.sum())) \n",
    "                                                           ,media_transacoes   =  ((x.amount.mean())) ))).reset_index()\n",
    "df_grouped"
   ]
  },
  {
   "cell_type": "code",
   "execution_count": 159,
   "metadata": {
    "hidden": true
   },
   "outputs": [
    {
     "data": {
      "text/plain": [
       "(0.0, 20.0)"
      ]
     },
     "execution_count": 159,
     "metadata": {},
     "output_type": "execute_result"
    },
    {
     "data": {
      "image/png": "[encoded data removed]",
      "text/plain": [
       "<Figure size 360x360 with 1 Axes>"
      ]
     },
     "metadata": {},
     "output_type": "display_data"
    }
   ],
   "source": [
    "# qtd_transactions\n",
    "\n",
    "sns.displot(data=customer, x=\"fraud_count\", kde = 'True');\n",
    "plt.xlim(0,20)"
   ]
  },
  {
   "cell_type": "code",
   "execution_count": 160,
   "metadata": {
    "hidden": true
   },
   "outputs": [
    {
     "data": {
      "image/png": "[encoded data removed]",
      "text/plain": [
       "<Figure size 432x288 with 1 Axes>"
      ]
     },
     "metadata": {},
     "output_type": "display_data"
    }
   ],
   "source": [
    "# Idade por porcentagem de fraud\n",
    "sns.barplot(x=\"age\", y=\"percent_fraud\", data=customer);"
   ]
  },
  {
   "cell_type": "code",
   "execution_count": 161,
   "metadata": {
    "hidden": true
   },
   "outputs": [
    {
     "data": {
      "image/png": "[encoded data removed]",
      "text/plain": [
       "<Figure size 432x288 with 1 Axes>"
      ]
     },
     "metadata": {},
     "output_type": "display_data"
    }
   ],
   "source": [
    "# Genero\n",
    "sns.barplot(data=customer, x=\"gender\", y='percent_fraud');"
   ]
  },
  {
   "cell_type": "code",
   "execution_count": 171,
   "metadata": {
    "hidden": true
   },
   "outputs": [],
   "source": [
    "# Quais categorias os nossos clientes mais compram? \n",
    "category_group = df.groupby(['category']).\\\n",
    "                            apply(lambda x: pd.Series(dict(soma_transacoes     = ((x.amount.sum())) \n",
    "                                                           ,qtnde_transacoes   = ((x.amount.count()))\n",
    "                                                           ,media_transacoes   =  ((x.amount.mean())) \n",
    "                                                           ,contagem_fraude    =  ((x.fraud.sum()))\n",
    "                                                           ,porcentagem_fraude =  ((x.fraud.sum()/x.fraud.count()*100))\n",
    "                                                           ,media_fraude       =  ((x[x.fraud == 1].amount.mean())) \n",
    "                                                           ,media_nao_fraude   =  ((x[x.fraud == 0].amount.mean())) \n",
    "                                                          ))).reset_index()"
   ]
  },
  {
   "cell_type": "code",
   "execution_count": 172,
   "metadata": {
    "hidden": true
   },
   "outputs": [
    {
     "data": {
      "text/html": [
       "<div>\n",
       "<style scoped>\n",
       "    .dataframe tbody tr th:only-of-type {\n",
       "        vertical-align: middle;\n",
       "    }\n",
       "\n",
       "    .dataframe tbody tr th {\n",
       "        vertical-align: top;\n",
       "    }\n",
       "\n",
       "    .dataframe thead th {\n",
       "        text-align: right;\n",
       "    }\n",
       "</style>\n",
       "<table border=\"1\" class=\"dataframe\">\n",
       "  <thead>\n",
       "    <tr style=\"text-align: right;\">\n",
       "      <th></th>\n",
       "      <th>category</th>\n",
       "      <th>soma_transacoes</th>\n",
       "      <th>qtnde_transacoes</th>\n",
       "      <th>media_transacoes</th>\n",
       "      <th>contagem_fraude</th>\n",
       "      <th>porcentagem_fraude</th>\n",
       "      <th>media_fraude</th>\n",
       "      <th>media_nao_fraude</th>\n",
       "    </tr>\n",
       "  </thead>\n",
       "  <tbody>\n",
       "    <tr>\n",
       "      <th>0</th>\n",
       "      <td>'es_barsandrestaurants'</td>\n",
       "      <td>276977.04</td>\n",
       "      <td>6373.0</td>\n",
       "      <td>43.461014</td>\n",
       "      <td>120.0</td>\n",
       "      <td>1.882944</td>\n",
       "      <td>164.092667</td>\n",
       "      <td>41.145997</td>\n",
       "    </tr>\n",
       "    <tr>\n",
       "      <th>1</th>\n",
       "      <td>'es_contents'</td>\n",
       "      <td>39424.60</td>\n",
       "      <td>885.0</td>\n",
       "      <td>44.547571</td>\n",
       "      <td>0.0</td>\n",
       "      <td>0.000000</td>\n",
       "      <td>NaN</td>\n",
       "      <td>44.547571</td>\n",
       "    </tr>\n",
       "    <tr>\n",
       "      <th>2</th>\n",
       "      <td>'es_fashion'</td>\n",
       "      <td>423812.51</td>\n",
       "      <td>6454.0</td>\n",
       "      <td>65.666642</td>\n",
       "      <td>116.0</td>\n",
       "      <td>1.797335</td>\n",
       "      <td>247.008190</td>\n",
       "      <td>62.347674</td>\n",
       "    </tr>\n",
       "    <tr>\n",
       "      <th>3</th>\n",
       "      <td>'es_food'</td>\n",
       "      <td>973246.41</td>\n",
       "      <td>26254.0</td>\n",
       "      <td>37.070405</td>\n",
       "      <td>0.0</td>\n",
       "      <td>0.000000</td>\n",
       "      <td>NaN</td>\n",
       "      <td>37.070405</td>\n",
       "    </tr>\n",
       "    <tr>\n",
       "      <th>4</th>\n",
       "      <td>'es_health'</td>\n",
       "      <td>2187979.51</td>\n",
       "      <td>16133.0</td>\n",
       "      <td>135.621367</td>\n",
       "      <td>1696.0</td>\n",
       "      <td>10.512614</td>\n",
       "      <td>407.031338</td>\n",
       "      <td>103.737228</td>\n",
       "    </tr>\n",
       "    <tr>\n",
       "      <th>5</th>\n",
       "      <td>'es_home'</td>\n",
       "      <td>329022.30</td>\n",
       "      <td>1986.0</td>\n",
       "      <td>165.670846</td>\n",
       "      <td>302.0</td>\n",
       "      <td>15.206445</td>\n",
       "      <td>457.484834</td>\n",
       "      <td>113.338409</td>\n",
       "    </tr>\n",
       "    <tr>\n",
       "      <th>6</th>\n",
       "      <td>'es_hotelservices'</td>\n",
       "      <td>358591.25</td>\n",
       "      <td>1744.0</td>\n",
       "      <td>205.614249</td>\n",
       "      <td>548.0</td>\n",
       "      <td>31.422018</td>\n",
       "      <td>421.823339</td>\n",
       "      <td>106.548545</td>\n",
       "    </tr>\n",
       "    <tr>\n",
       "      <th>7</th>\n",
       "      <td>'es_hyper'</td>\n",
       "      <td>280327.63</td>\n",
       "      <td>6098.0</td>\n",
       "      <td>45.970421</td>\n",
       "      <td>280.0</td>\n",
       "      <td>4.591669</td>\n",
       "      <td>169.255429</td>\n",
       "      <td>40.037145</td>\n",
       "    </tr>\n",
       "    <tr>\n",
       "      <th>8</th>\n",
       "      <td>'es_leisure'</td>\n",
       "      <td>144166.74</td>\n",
       "      <td>499.0</td>\n",
       "      <td>288.911303</td>\n",
       "      <td>474.0</td>\n",
       "      <td>94.989980</td>\n",
       "      <td>300.286878</td>\n",
       "      <td>73.230400</td>\n",
       "    </tr>\n",
       "    <tr>\n",
       "      <th>9</th>\n",
       "      <td>'es_otherservices'</td>\n",
       "      <td>123923.95</td>\n",
       "      <td>912.0</td>\n",
       "      <td>135.881524</td>\n",
       "      <td>228.0</td>\n",
       "      <td>25.000000</td>\n",
       "      <td>316.469605</td>\n",
       "      <td>75.685497</td>\n",
       "    </tr>\n",
       "    <tr>\n",
       "      <th>10</th>\n",
       "      <td>'es_sportsandtoys'</td>\n",
       "      <td>863292.55</td>\n",
       "      <td>4002.0</td>\n",
       "      <td>215.715280</td>\n",
       "      <td>1982.0</td>\n",
       "      <td>49.525237</td>\n",
       "      <td>345.366811</td>\n",
       "      <td>88.502738</td>\n",
       "    </tr>\n",
       "    <tr>\n",
       "      <th>11</th>\n",
       "      <td>'es_tech'</td>\n",
       "      <td>286646.61</td>\n",
       "      <td>2370.0</td>\n",
       "      <td>120.947937</td>\n",
       "      <td>158.0</td>\n",
       "      <td>6.666667</td>\n",
       "      <td>415.274114</td>\n",
       "      <td>99.924638</td>\n",
       "    </tr>\n",
       "    <tr>\n",
       "      <th>12</th>\n",
       "      <td>'es_transportation'</td>\n",
       "      <td>13617092.46</td>\n",
       "      <td>505119.0</td>\n",
       "      <td>26.958187</td>\n",
       "      <td>0.0</td>\n",
       "      <td>0.000000</td>\n",
       "      <td>NaN</td>\n",
       "      <td>26.958187</td>\n",
       "    </tr>\n",
       "    <tr>\n",
       "      <th>13</th>\n",
       "      <td>'es_travel'</td>\n",
       "      <td>1638297.89</td>\n",
       "      <td>728.0</td>\n",
       "      <td>2250.409190</td>\n",
       "      <td>578.0</td>\n",
       "      <td>79.395604</td>\n",
       "      <td>2660.802872</td>\n",
       "      <td>669.025533</td>\n",
       "    </tr>\n",
       "    <tr>\n",
       "      <th>14</th>\n",
       "      <td>'es_wellnessandbeauty'</td>\n",
       "      <td>988302.28</td>\n",
       "      <td>15086.0</td>\n",
       "      <td>65.511221</td>\n",
       "      <td>718.0</td>\n",
       "      <td>4.759380</td>\n",
       "      <td>229.422535</td>\n",
       "      <td>57.320219</td>\n",
       "    </tr>\n",
       "  </tbody>\n",
       "</table>\n",
       "</div>"
      ],
      "text/plain": [
       "                   category  soma_transacoes  qtnde_transacoes  \\\n",
       "0   'es_barsandrestaurants'        276977.04            6373.0   \n",
       "1             'es_contents'         39424.60             885.0   \n",
       "2              'es_fashion'        423812.51            6454.0   \n",
       "3                 'es_food'        973246.41           26254.0   \n",
       "4               'es_health'       2187979.51           16133.0   \n",
       "5                 'es_home'        329022.30            1986.0   \n",
       "6        'es_hotelservices'        358591.25            1744.0   \n",
       "7                'es_hyper'        280327.63            6098.0   \n",
       "8              'es_leisure'        144166.74             499.0   \n",
       "9        'es_otherservices'        123923.95             912.0   \n",
       "10       'es_sportsandtoys'        863292.55            4002.0   \n",
       "11                'es_tech'        286646.61            2370.0   \n",
       "12      'es_transportation'      13617092.46          505119.0   \n",
       "13              'es_travel'       1638297.89             728.0   \n",
       "14   'es_wellnessandbeauty'        988302.28           15086.0   \n",
       "\n",
       "    media_transacoes  contagem_fraude  porcentagem_fraude  media_fraude  \\\n",
       "0          43.461014            120.0            1.882944    164.092667   \n",
       "1          44.547571              0.0            0.000000           NaN   \n",
       "2          65.666642            116.0            1.797335    247.008190   \n",
       "3          37.070405              0.0            0.000000           NaN   \n",
       "4         135.621367           1696.0           10.512614    407.031338   \n",
       "5         165.670846            302.0           15.206445    457.484834   \n",
       "6         205.614249            548.0           31.422018    421.823339   \n",
       "7          45.970421            280.0            4.591669    169.255429   \n",
       "8         288.911303            474.0           94.989980    300.286878   \n",
       "9         135.881524            228.0           25.000000    316.469605   \n",
       "10        215.715280           1982.0           49.525237    345.366811   \n",
       "11        120.947937            158.0            6.666667    415.274114   \n",
       "12         26.958187              0.0            0.000000           NaN   \n",
       "13       2250.409190            578.0           79.395604   2660.802872   \n",
       "14         65.511221            718.0            4.759380    229.422535   \n",
       "\n",
       "    media_nao_fraude  \n",
       "0          41.145997  \n",
       "1          44.547571  \n",
       "2          62.347674  \n",
       "3          37.070405  \n",
       "4         103.737228  \n",
       "5         113.338409  \n",
       "6         106.548545  \n",
       "7          40.037145  \n",
       "8          73.230400  \n",
       "9          75.685497  \n",
       "10         88.502738  \n",
       "11         99.924638  \n",
       "12         26.958187  \n",
       "13        669.025533  \n",
       "14         57.320219  "
      ]
     },
     "execution_count": 172,
     "metadata": {},
     "output_type": "execute_result"
    }
   ],
   "source": [
    "category_group"
   ]
  },
  {
   "cell_type": "markdown",
   "metadata": {
    "hidden": true
   },
   "source": [
    "**We dont have fraud transactions in the transportation** even this category have a lot of transactions."
   ]
  },
  {
   "cell_type": "code",
   "execution_count": null,
   "metadata": {
    "hidden": true
   },
   "outputs": [],
   "source": []
  },
  {
   "cell_type": "code",
   "execution_count": null,
   "metadata": {
    "hidden": true
   },
   "outputs": [],
   "source": []
  },
  {
   "cell_type": "code",
   "execution_count": 11,
   "metadata": {
    "hidden": true
   },
   "outputs": [],
   "source": [
    "# Pair Plot para investigar varias distribuições em uma só visualização\n",
    "# Utilizada para teste\n",
    "\n",
    "#sns.set()\n",
    "#cols = ['soma_transacoes','media_transacoes','contagem_fraude', 'porcentagem_fraude', 'media_fraude', 'media_nao_fraude']\n",
    "\n",
    "#sns.pairplot(data = df_grouped[cols], size = 3)\n",
    "#plt.show()"
   ]
  },
  {
   "cell_type": "code",
   "execution_count": 12,
   "metadata": {
    "hidden": true
   },
   "outputs": [],
   "source": [
    "#plt.figure(1 , figsize = (150 , 50));\n",
    "#sns.displot(target[target.fraud == 1],x='amount',  bins=50 );\n"
   ]
  },
  {
   "cell_type": "markdown",
   "metadata": {},
   "source": [
    "## 3.0 Data Processing"
   ]
  },
  {
   "cell_type": "code",
   "execution_count": 4,
   "metadata": {},
   "outputs": [
    {
     "name": "stdout",
     "output_type": "stream",
     "text": [
      "<class 'pandas.core.frame.DataFrame'>\n",
      "RangeIndex: 594643 entries, 0 to 594642\n",
      "Data columns (total 10 columns):\n",
      " #   Column       Non-Null Count   Dtype  \n",
      "---  ------       --------------   -----  \n",
      " 0   step         594643 non-null  int64  \n",
      " 1   customer     594643 non-null  object \n",
      " 2   age          594643 non-null  object \n",
      " 3   gender       594643 non-null  object \n",
      " 4   zipcodeOri   594643 non-null  object \n",
      " 5   merchant     594643 non-null  object \n",
      " 6   zipMerchant  594643 non-null  object \n",
      " 7   category     594643 non-null  object \n",
      " 8   amount       594643 non-null  float64\n",
      " 9   fraud        594643 non-null  int64  \n",
      "dtypes: float64(1), int64(2), object(7)\n",
      "memory usage: 45.4+ MB\n"
     ]
    }
   ],
   "source": [
    "df.info()"
   ]
  },
  {
   "cell_type": "code",
   "execution_count": null,
   "metadata": {},
   "outputs": [],
   "source": [
    "customer      object \n",
    "gender        object \n",
    "merchant      object \n",
    "category      object \n",
    "\n",
    "step          int64  \n",
    "age           float32\n",
    "amount        float64\n",
    "fraud         int64  "
   ]
  },
  {
   "cell_type": "code",
   "execution_count": 5,
   "metadata": {},
   "outputs": [],
   "source": [
    "# Customer Grouped data about they behavior of transactions\n",
    "customer_group_temp = df.groupby(['customer']).apply(lambda x: pd.Series(dict(mean_transactions   =  ((x.amount.mean()))\n",
    "                                                                             ,fraud_count         =  ((x.fraud.sum()))\n",
    "                                                                             ,percent_fraud       = ((x.fraud.sum()*100)/((x.amount.count())))\n",
    "                                                                             ,days_customer       = ((x.step.max()))\n",
    "                                                                             ))).reset_index()\n",
    "                                                                    \n",
    "# Create an empty column\n",
    "customer_group_temp['fraud_flag'] = None\n",
    "\n",
    "# Creat an feature with a flag if this client already do an fraudlent fransation\n",
    "customer_group_temp.loc[:,'fraud_flag'] = np.where(customer_group_temp.loc[:,'fraud_count']>0, 1,0)"
   ]
  },
  {
   "cell_type": "code",
   "execution_count": 6,
   "metadata": {},
   "outputs": [],
   "source": [
    "# Criar coluna: Transação média do cliente, Fraud_flag e Percent Fraud\n",
    "df = pd.merge(df,customer_group_temp[['customer', 'fraud_flag']], on=['customer'], how = 'left')"
   ]
  },
  {
   "cell_type": "code",
   "execution_count": 7,
   "metadata": {},
   "outputs": [
    {
     "data": {
      "text/html": [
       "<div>\n",
       "<style scoped>\n",
       "    .dataframe tbody tr th:only-of-type {\n",
       "        vertical-align: middle;\n",
       "    }\n",
       "\n",
       "    .dataframe tbody tr th {\n",
       "        vertical-align: top;\n",
       "    }\n",
       "\n",
       "    .dataframe thead th {\n",
       "        text-align: right;\n",
       "    }\n",
       "</style>\n",
       "<table border=\"1\" class=\"dataframe\">\n",
       "  <thead>\n",
       "    <tr style=\"text-align: right;\">\n",
       "      <th></th>\n",
       "      <th>step</th>\n",
       "      <th>customer</th>\n",
       "      <th>age</th>\n",
       "      <th>gender</th>\n",
       "      <th>zipcodeOri</th>\n",
       "      <th>merchant</th>\n",
       "      <th>zipMerchant</th>\n",
       "      <th>category</th>\n",
       "      <th>amount</th>\n",
       "      <th>fraud</th>\n",
       "      <th>fraud_flag</th>\n",
       "    </tr>\n",
       "  </thead>\n",
       "  <tbody>\n",
       "    <tr>\n",
       "      <th>0</th>\n",
       "      <td>0</td>\n",
       "      <td>'C1093826151'</td>\n",
       "      <td>'4'</td>\n",
       "      <td>'M'</td>\n",
       "      <td>'28007'</td>\n",
       "      <td>'M348934600'</td>\n",
       "      <td>'28007'</td>\n",
       "      <td>'es_transportation'</td>\n",
       "      <td>4.55</td>\n",
       "      <td>0</td>\n",
       "      <td>0</td>\n",
       "    </tr>\n",
       "    <tr>\n",
       "      <th>1</th>\n",
       "      <td>0</td>\n",
       "      <td>'C352968107'</td>\n",
       "      <td>'2'</td>\n",
       "      <td>'M'</td>\n",
       "      <td>'28007'</td>\n",
       "      <td>'M348934600'</td>\n",
       "      <td>'28007'</td>\n",
       "      <td>'es_transportation'</td>\n",
       "      <td>39.68</td>\n",
       "      <td>0</td>\n",
       "      <td>0</td>\n",
       "    </tr>\n",
       "    <tr>\n",
       "      <th>2</th>\n",
       "      <td>0</td>\n",
       "      <td>'C2054744914'</td>\n",
       "      <td>'4'</td>\n",
       "      <td>'F'</td>\n",
       "      <td>'28007'</td>\n",
       "      <td>'M1823072687'</td>\n",
       "      <td>'28007'</td>\n",
       "      <td>'es_transportation'</td>\n",
       "      <td>26.89</td>\n",
       "      <td>0</td>\n",
       "      <td>0</td>\n",
       "    </tr>\n",
       "    <tr>\n",
       "      <th>3</th>\n",
       "      <td>0</td>\n",
       "      <td>'C1760612790'</td>\n",
       "      <td>'3'</td>\n",
       "      <td>'M'</td>\n",
       "      <td>'28007'</td>\n",
       "      <td>'M348934600'</td>\n",
       "      <td>'28007'</td>\n",
       "      <td>'es_transportation'</td>\n",
       "      <td>17.25</td>\n",
       "      <td>0</td>\n",
       "      <td>0</td>\n",
       "    </tr>\n",
       "    <tr>\n",
       "      <th>4</th>\n",
       "      <td>0</td>\n",
       "      <td>'C757503768'</td>\n",
       "      <td>'5'</td>\n",
       "      <td>'M'</td>\n",
       "      <td>'28007'</td>\n",
       "      <td>'M348934600'</td>\n",
       "      <td>'28007'</td>\n",
       "      <td>'es_transportation'</td>\n",
       "      <td>35.72</td>\n",
       "      <td>0</td>\n",
       "      <td>0</td>\n",
       "    </tr>\n",
       "  </tbody>\n",
       "</table>\n",
       "</div>"
      ],
      "text/plain": [
       "   step       customer  age gender zipcodeOri       merchant zipMerchant  \\\n",
       "0     0  'C1093826151'  '4'    'M'    '28007'   'M348934600'     '28007'   \n",
       "1     0   'C352968107'  '2'    'M'    '28007'   'M348934600'     '28007'   \n",
       "2     0  'C2054744914'  '4'    'F'    '28007'  'M1823072687'     '28007'   \n",
       "3     0  'C1760612790'  '3'    'M'    '28007'   'M348934600'     '28007'   \n",
       "4     0   'C757503768'  '5'    'M'    '28007'   'M348934600'     '28007'   \n",
       "\n",
       "              category  amount  fraud  fraud_flag  \n",
       "0  'es_transportation'    4.55      0           0  \n",
       "1  'es_transportation'   39.68      0           0  \n",
       "2  'es_transportation'   26.89      0           0  \n",
       "3  'es_transportation'   17.25      0           0  \n",
       "4  'es_transportation'   35.72      0           0  "
      ]
     },
     "execution_count": 7,
     "metadata": {},
     "output_type": "execute_result"
    }
   ],
   "source": [
    "df.head()"
   ]
  },
  {
   "cell_type": "code",
   "execution_count": 198,
   "metadata": {},
   "outputs": [
    {
     "data": {
      "text/plain": [
       "step                     int64\n",
       "customer                object\n",
       "age                    float32\n",
       "gender                  object\n",
       "zipcodeOri              object\n",
       "merchant                object\n",
       "zipMerchant             object\n",
       "category                object\n",
       "amount                 float64\n",
       "fraud                    int64\n",
       "mean_transactions_x    float64\n",
       "mean_transactions_y    float64\n",
       "fraud_count            float64\n",
       "percent_fraud          float64\n",
       "fraud_flag               int32\n",
       "dtype: object"
      ]
     },
     "execution_count": 198,
     "metadata": {},
     "output_type": "execute_result"
    }
   ],
   "source": [
    "df.dtypes"
   ]
  },
  {
   "cell_type": "code",
   "execution_count": 8,
   "metadata": {},
   "outputs": [],
   "source": [
    "# Drop zipcodeOri and zipMerchant\n",
    "\n",
    "df.drop(['zipcodeOri','zipMerchant', 'customer'], axis = 1, inplace = True)"
   ]
  },
  {
   "cell_type": "code",
   "execution_count": 175,
   "metadata": {},
   "outputs": [
    {
     "data": {
      "text/plain": [
       "{\"'E'\", \"'F'\", \"'M'\", \"'U'\"}"
      ]
     },
     "execution_count": 175,
     "metadata": {},
     "output_type": "execute_result"
    }
   ],
   "source": [
    "# Tratamento 'gender': precisa transformar em dummies\n",
    "set(df['gender'])"
   ]
  },
  {
   "cell_type": "code",
   "execution_count": 176,
   "metadata": {},
   "outputs": [
    {
     "data": {
      "text/plain": [
       "{\"'es_barsandrestaurants'\",\n",
       " \"'es_contents'\",\n",
       " \"'es_fashion'\",\n",
       " \"'es_food'\",\n",
       " \"'es_health'\",\n",
       " \"'es_home'\",\n",
       " \"'es_hotelservices'\",\n",
       " \"'es_hyper'\",\n",
       " \"'es_leisure'\",\n",
       " \"'es_otherservices'\",\n",
       " \"'es_sportsandtoys'\",\n",
       " \"'es_tech'\",\n",
       " \"'es_transportation'\",\n",
       " \"'es_travel'\",\n",
       " \"'es_wellnessandbeauty'\"}"
      ]
     },
     "execution_count": 176,
     "metadata": {},
     "output_type": "execute_result"
    }
   ],
   "source": [
    "# Tratamento 'category': precisa transformar em dummies\n",
    "set(df['category'])"
   ]
  },
  {
   "cell_type": "code",
   "execution_count": null,
   "metadata": {},
   "outputs": [],
   "source": [
    "# Tratamento 'merchants': precisa transformar em dummies"
   ]
  },
  {
   "cell_type": "code",
   "execution_count": 184,
   "metadata": {},
   "outputs": [],
   "source": [
    "df_cat = df.select_dtypes(include = 'object')"
   ]
  },
  {
   "cell_type": "code",
   "execution_count": 185,
   "metadata": {},
   "outputs": [
    {
     "data": {
      "text/html": [
       "<div>\n",
       "<style scoped>\n",
       "    .dataframe tbody tr th:only-of-type {\n",
       "        vertical-align: middle;\n",
       "    }\n",
       "\n",
       "    .dataframe tbody tr th {\n",
       "        vertical-align: top;\n",
       "    }\n",
       "\n",
       "    .dataframe thead th {\n",
       "        text-align: right;\n",
       "    }\n",
       "</style>\n",
       "<table border=\"1\" class=\"dataframe\">\n",
       "  <thead>\n",
       "    <tr style=\"text-align: right;\">\n",
       "      <th></th>\n",
       "      <th>customer</th>\n",
       "      <th>gender</th>\n",
       "      <th>zipcodeOri</th>\n",
       "      <th>merchant</th>\n",
       "      <th>zipMerchant</th>\n",
       "      <th>category</th>\n",
       "    </tr>\n",
       "  </thead>\n",
       "  <tbody>\n",
       "    <tr>\n",
       "      <th>0</th>\n",
       "      <td>'C1093826151'</td>\n",
       "      <td>'M'</td>\n",
       "      <td>'28007'</td>\n",
       "      <td>'M348934600'</td>\n",
       "      <td>'28007'</td>\n",
       "      <td>'es_transportation'</td>\n",
       "    </tr>\n",
       "    <tr>\n",
       "      <th>1</th>\n",
       "      <td>'C352968107'</td>\n",
       "      <td>'M'</td>\n",
       "      <td>'28007'</td>\n",
       "      <td>'M348934600'</td>\n",
       "      <td>'28007'</td>\n",
       "      <td>'es_transportation'</td>\n",
       "    </tr>\n",
       "    <tr>\n",
       "      <th>2</th>\n",
       "      <td>'C2054744914'</td>\n",
       "      <td>'F'</td>\n",
       "      <td>'28007'</td>\n",
       "      <td>'M1823072687'</td>\n",
       "      <td>'28007'</td>\n",
       "      <td>'es_transportation'</td>\n",
       "    </tr>\n",
       "    <tr>\n",
       "      <th>3</th>\n",
       "      <td>'C1760612790'</td>\n",
       "      <td>'M'</td>\n",
       "      <td>'28007'</td>\n",
       "      <td>'M348934600'</td>\n",
       "      <td>'28007'</td>\n",
       "      <td>'es_transportation'</td>\n",
       "    </tr>\n",
       "    <tr>\n",
       "      <th>4</th>\n",
       "      <td>'C757503768'</td>\n",
       "      <td>'M'</td>\n",
       "      <td>'28007'</td>\n",
       "      <td>'M348934600'</td>\n",
       "      <td>'28007'</td>\n",
       "      <td>'es_transportation'</td>\n",
       "    </tr>\n",
       "    <tr>\n",
       "      <th>...</th>\n",
       "      <td>...</td>\n",
       "      <td>...</td>\n",
       "      <td>...</td>\n",
       "      <td>...</td>\n",
       "      <td>...</td>\n",
       "      <td>...</td>\n",
       "    </tr>\n",
       "    <tr>\n",
       "      <th>594638</th>\n",
       "      <td>'C1753498738'</td>\n",
       "      <td>'F'</td>\n",
       "      <td>'28007'</td>\n",
       "      <td>'M1823072687'</td>\n",
       "      <td>'28007'</td>\n",
       "      <td>'es_transportation'</td>\n",
       "    </tr>\n",
       "    <tr>\n",
       "      <th>594639</th>\n",
       "      <td>'C650108285'</td>\n",
       "      <td>'F'</td>\n",
       "      <td>'28007'</td>\n",
       "      <td>'M1823072687'</td>\n",
       "      <td>'28007'</td>\n",
       "      <td>'es_transportation'</td>\n",
       "    </tr>\n",
       "    <tr>\n",
       "      <th>594640</th>\n",
       "      <td>'C123623130'</td>\n",
       "      <td>'F'</td>\n",
       "      <td>'28007'</td>\n",
       "      <td>'M349281107'</td>\n",
       "      <td>'28007'</td>\n",
       "      <td>'es_fashion'</td>\n",
       "    </tr>\n",
       "    <tr>\n",
       "      <th>594641</th>\n",
       "      <td>'C1499363341'</td>\n",
       "      <td>'M'</td>\n",
       "      <td>'28007'</td>\n",
       "      <td>'M1823072687'</td>\n",
       "      <td>'28007'</td>\n",
       "      <td>'es_transportation'</td>\n",
       "    </tr>\n",
       "    <tr>\n",
       "      <th>594642</th>\n",
       "      <td>'C616528518'</td>\n",
       "      <td>'F'</td>\n",
       "      <td>'28007'</td>\n",
       "      <td>'M1823072687'</td>\n",
       "      <td>'28007'</td>\n",
       "      <td>'es_transportation'</td>\n",
       "    </tr>\n",
       "  </tbody>\n",
       "</table>\n",
       "<p>594643 rows × 6 columns</p>\n",
       "</div>"
      ],
      "text/plain": [
       "             customer gender zipcodeOri       merchant zipMerchant  \\\n",
       "0       'C1093826151'    'M'    '28007'   'M348934600'     '28007'   \n",
       "1        'C352968107'    'M'    '28007'   'M348934600'     '28007'   \n",
       "2       'C2054744914'    'F'    '28007'  'M1823072687'     '28007'   \n",
       "3       'C1760612790'    'M'    '28007'   'M348934600'     '28007'   \n",
       "4        'C757503768'    'M'    '28007'   'M348934600'     '28007'   \n",
       "...               ...    ...        ...            ...         ...   \n",
       "594638  'C1753498738'    'F'    '28007'  'M1823072687'     '28007'   \n",
       "594639   'C650108285'    'F'    '28007'  'M1823072687'     '28007'   \n",
       "594640   'C123623130'    'F'    '28007'   'M349281107'     '28007'   \n",
       "594641  'C1499363341'    'M'    '28007'  'M1823072687'     '28007'   \n",
       "594642   'C616528518'    'F'    '28007'  'M1823072687'     '28007'   \n",
       "\n",
       "                   category  \n",
       "0       'es_transportation'  \n",
       "1       'es_transportation'  \n",
       "2       'es_transportation'  \n",
       "3       'es_transportation'  \n",
       "4       'es_transportation'  \n",
       "...                     ...  \n",
       "594638  'es_transportation'  \n",
       "594639  'es_transportation'  \n",
       "594640         'es_fashion'  \n",
       "594641  'es_transportation'  \n",
       "594642  'es_transportation'  \n",
       "\n",
       "[594643 rows x 6 columns]"
      ]
     },
     "execution_count": 185,
     "metadata": {},
     "output_type": "execute_result"
    }
   ],
   "source": [
    "df_cat"
   ]
  },
  {
   "cell_type": "code",
   "execution_count": 182,
   "metadata": {},
   "outputs": [
    {
     "name": "stdout",
     "output_type": "stream",
     "text": [
      "<class 'pandas.core.frame.DataFrame'>\n",
      "RangeIndex: 594643 entries, 0 to 594642\n",
      "Data columns (total 10 columns):\n",
      " #   Column       Non-Null Count   Dtype  \n",
      "---  ------       --------------   -----  \n",
      " 0   step         594643 non-null  int64  \n",
      " 1   customer     594643 non-null  object \n",
      " 2   age          594643 non-null  float32\n",
      " 3   gender       594643 non-null  object \n",
      " 4   zipcodeOri   594643 non-null  object \n",
      " 5   merchant     594643 non-null  object \n",
      " 6   zipMerchant  594643 non-null  object \n",
      " 7   category     594643 non-null  object \n",
      " 8   amount       594643 non-null  float64\n",
      " 9   fraud        594643 non-null  int64  \n",
      "dtypes: float32(1), float64(1), int64(2), object(6)\n",
      "memory usage: 43.1+ MB\n"
     ]
    }
   ],
   "source": [
    "df.info()"
   ]
  },
  {
   "cell_type": "code",
   "execution_count": null,
   "metadata": {},
   "outputs": [],
   "source": [
    "pd.get_dummies()"
   ]
  },
  {
   "cell_type": "code",
   "execution_count": null,
   "metadata": {},
   "outputs": [],
   "source": []
  },
  {
   "cell_type": "code",
   "execution_count": null,
   "metadata": {},
   "outputs": [],
   "source": []
  },
  {
   "cell_type": "code",
   "execution_count": null,
   "metadata": {},
   "outputs": [],
   "source": []
  },
  {
   "cell_type": "code",
   "execution_count": null,
   "metadata": {},
   "outputs": [],
   "source": []
  },
  {
   "cell_type": "code",
   "execution_count": null,
   "metadata": {},
   "outputs": [],
   "source": []
  },
  {
   "cell_type": "markdown",
   "metadata": {
    "heading_collapsed": true
   },
   "source": [
    "## 4.0 Models"
   ]
  },
  {
   "cell_type": "code",
   "execution_count": null,
   "metadata": {
    "hidden": true
   },
   "outputs": [],
   "source": []
  },
  {
   "cell_type": "code",
   "execution_count": null,
   "metadata": {
    "hidden": true
   },
   "outputs": [],
   "source": []
  },
  {
   "cell_type": "code",
   "execution_count": null,
   "metadata": {
    "hidden": true
   },
   "outputs": [],
   "source": []
  },
  {
   "cell_type": "code",
   "execution_count": null,
   "metadata": {
    "hidden": true
   },
   "outputs": [],
   "source": []
  },
  {
   "cell_type": "code",
   "execution_count": null,
   "metadata": {
    "hidden": true
   },
   "outputs": [],
   "source": []
  },
  {
   "cell_type": "code",
   "execution_count": null,
   "metadata": {
    "hidden": true
   },
   "outputs": [],
   "source": []
  },
  {
   "cell_type": "code",
   "execution_count": null,
   "metadata": {
    "hidden": true
   },
   "outputs": [],
   "source": []
  },
  {
   "cell_type": "code",
   "execution_count": null,
   "metadata": {
    "hidden": true
   },
   "outputs": [],
   "source": []
  },
  {
   "cell_type": "code",
   "execution_count": null,
   "metadata": {
    "hidden": true
   },
   "outputs": [],
   "source": []
  },
  {
   "cell_type": "code",
   "execution_count": null,
   "metadata": {
    "hidden": true
   },
   "outputs": [],
   "source": []
  },
  {
   "cell_type": "code",
   "execution_count": null,
   "metadata": {
    "hidden": true
   },
   "outputs": [],
   "source": []
  },
  {
   "cell_type": "code",
   "execution_count": null,
   "metadata": {
    "hidden": true
   },
   "outputs": [],
   "source": []
  }
 ],
 "metadata": {
  "kernelspec": {
   "display_name": "Python 3",
   "language": "python",
   "name": "python3"
  },
  "language_info": {
   "codemirror_mode": {
    "name": "ipython",
    "version": 3
   },
   "file_extension": ".py",
   "mimetype": "text/x-python",
   "name": "python",
   "nbconvert_exporter": "python",
   "pygments_lexer": "ipython3",
   "version": "3.8.5"
  }
 },
 "nbformat": 4,
 "nbformat_minor": 4
}
